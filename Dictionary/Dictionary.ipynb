{
  "nbformat": 4,
  "nbformat_minor": 0,
  "metadata": {
    "colab": {
      "name": "Untitled5.ipynb",
      "provenance": [],
      "toc_visible": true,
      "authorship_tag": "ABX9TyPdRfidtEf2dgw+LFr0CJxR",
      "include_colab_link": true
    },
    "kernelspec": {
      "name": "python3",
      "display_name": "Python 3"
    }
  },
  "cells": [
    {
      "cell_type": "markdown",
      "metadata": {
        "id": "view-in-github",
        "colab_type": "text"
      },
      "source": [
        "<a href=\"https://colab.research.google.com/github/coyens/Python/blob/master/Dictionary/Dictionary.ipynb\" target=\"_parent\"><img src=\"https://colab.research.google.com/assets/colab-badge.svg\" alt=\"Open In Colab\"/></a>"
      ]
    },
    {
      "cell_type": "code",
      "metadata": {
        "id": "wVUbWTh7JmCD",
        "colab_type": "code",
        "colab": {}
      },
      "source": [
        "pip install mysql-connector"
      ],
      "execution_count": 0,
      "outputs": []
    },
    {
      "cell_type": "code",
      "metadata": {
        "id": "91FthPBuH5DB",
        "colab_type": "code",
        "colab": {}
      },
      "source": [
        "# -*- coding: utf-8 -*-\n",
        "\"\"\"\n",
        "Created on Fri Mar  6 18:33:51 2020\n",
        "\n",
        "@author: katarzyna.gorska\n",
        "\"\"\"\n",
        "# Database connection\n",
        "import mysql.connector\n",
        "\n",
        "con = mysql.connector.connect(\n",
        "user = \"ardit700_student\",\n",
        "password = \"ardit700_student\",\n",
        "host = \"108.167.140.122\",\n",
        "database = \"ardit700_pm1database\"\n",
        ")\n",
        "\n",
        "cursor = con.cursor()\n",
        "\n",
        "word=input(\"Enter the word: \")\n",
        "\n",
        "query = cursor.execute(\"SELECT Definition FROM Dictionary WHERE Expression = '%s'\" % word)\n",
        "results = cursor.fetchall()\n",
        "\n",
        "if results:\n",
        "    for result in results:\n",
        "        print(result[0])\n",
        "else:\n",
        "    print(\"No word found!\")\n",
        "\n",
        "from  difflib import get_close_matches\n",
        "\n",
        "#data = json.load(open(\"data.json\"))\n",
        "\n",
        "def translate(w):\n",
        "    w = w.lower()\n",
        "    if w in result:\n",
        "        return result[w]\n",
        "    elif w.title() in result:\n",
        "        return result[w.title()]\n",
        "    elif w.upper() in result:\n",
        "        return result[w.upper()]\n",
        "    elif len(get_close_matches(w, result.keys())) > 0:\n",
        "        yn = input(\"Did you mean %s instead? Enter Y if Yes, or N id no: \" % get_close_matches(w, result.keys())[0])\n",
        "        if  yn == \"Y\":\n",
        "            return result[get_close_matches(w, result.keys())[0]]\n",
        "        elif yn == \"N\":\n",
        "            return \"The word doesn't exist. Please double check it.\"\n",
        "        else:\n",
        "            return \"We didn't understand your entry\"\n",
        "    else:\n",
        "        return \"The word doesn't exist. Please double check it.\"\n",
        "   \n",
        "    \n",
        "word = input(\"Enter word \")\n",
        "\n",
        "output = translate(word)\n",
        "\n",
        "\n",
        "if type(output) == list:\n",
        "    for item in output:\n",
        "        print(item)\n",
        "else:\n",
        "    print(output)\n",
        "        "
      ],
      "execution_count": 0,
      "outputs": []
    }
  ]
}