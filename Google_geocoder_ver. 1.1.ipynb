{
  "nbformat": 4,
  "nbformat_minor": 0,
  "metadata": {
    "kernelspec": {
      "display_name": "Python 3",
      "language": "python",
      "name": "python3"
    },
    "language_info": {
      "codemirror_mode": {
        "name": "ipython",
        "version": 3
      },
      "file_extension": ".py",
      "mimetype": "text/x-python",
      "name": "python",
      "nbconvert_exporter": "python",
      "pygments_lexer": "ipython3",
      "version": "3.8.5"
    },
    "colab": {
      "name": "Google geocoder 2021-03-05 ver. 1.1.ipynb",
      "provenance": [],
      "collapsed_sections": [],
      "toc_visible": true,
      "include_colab_link": true
    }
  },
  "cells": [
    {
      "cell_type": "markdown",
      "metadata": {
        "id": "view-in-github",
        "colab_type": "text"
      },
      "source": [
        "<a href=\"https://colab.research.google.com/github/coyens/Python/blob/master/Google_geocoder_ver.%201.1.ipynb\" target=\"_parent\"><img src=\"https://colab.research.google.com/assets/colab-badge.svg\" alt=\"Open In Colab\"/></a>"
      ]
    },
    {
      "cell_type": "markdown",
      "metadata": {
        "id": "xMQMkoVnxj48"
      },
      "source": [
        "# Geocodowanie API Google Maps"
      ]
    },
    {
      "cell_type": "markdown",
      "metadata": {
        "id": "3ID__ZYYxj4_"
      },
      "source": [
        "## Wstęp\r\n",
        "\r\n",
        "1. Należy załadować plik z danymi.\r\n",
        "\r\n",
        "![image.png](data:image/png;base64,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)\r\n",
        "\r\n",
        "\r\n",
        "2. wymagane nazwy kolumn w pliku źródłowym:\r\n",
        "- współrzędne\r\n",
        "\r\n",
        "  ![image.png](data:image/png;base64,iVBORw0KGgoAAAANSUhEUgAAAEUAAAAZCAYAAABnweOlAAAB2ElEQVRYCe2W0bGEIAxFUxcFUY/VWIl/FpM3AQIkhAXnqR+77IwjuJDcHC8IHMeB65IMgIC8+Xs739XaSN+CoqgtKAoIdReUBcUgYDxaTrkCZfeA4DY8jUn/fURvQv+ezKdzjfpdpzwp8reg7B4BHG4Dey0ohle/CkpYUgAIfPk9l9z8B4CuY5lpKOeGjnOle5Uy5A55/Y7n5oquZi88cXOV7hzTY6kgl9I/p+g9hfqiyCRYiLxz+YRYgG18qSO/jDxwRy9eSAKS/0eMc2wghIZemnnM11AKR261yfA2KEbslFYXFPpVwTRMao+QxJCBzgtQOhassw2SMc7x8jEK4ckqxxhKC1iD5dB8n4SSAou12ia7zSnW0mTFAUqx/jSUvI/Q3lLmc9j6PgfFFPkgFIxOgdqFSbVcGmmpqHFiTNA+PiZch2KIjBYEFMJNeHW62B4vH8xfE1FvcIncfMdOSYCFUz6f1uecQrWkguvPcVdQ5/PJeGaghLEJQs5pHAy7GvJSj44WcNHaDljdh69PGXJ/y4Jyf5YYMZ5f2j2k95xmdZ3ylEhO+mT8OjYf6qRT+nsW6zPPKXXgu9tvOoW0M5iyDOUBUNf39U7RBc/0FxSDUoZCjXUVBn9hvG9hui7rAgAAAABJRU5ErkJggg==)\r\n",
        "\r\n",
        "- dane adresowe\r\n",
        "\r\n",
        "   ![image.png](data:image/png;base64,iVBORw0KGgoAAAANSUhEUgAAAEIAAAAZCAYAAACFHfjcAAABzUlEQVRYCe1W23HEIAxUXRTkelyNK/Gfi9GNQAtCPI5kcj85MuPBMYu0Wq/ko/u+eV83k4jw7X+iwRaCOXbEFmILUQbCbg3VYgvxKSGug5jCyU9xXXO3gmkOffjBnztipcgVzIfrbsJvIVSSLcSKENHCREy4jquxVIU5Lu7Z/h0m7uOs5LIz5jpKfr8nbJ6TA/gRcUVxtucqGTpCyIXTjDwNahOlAg+GPM8ZEmlTyDqGmGzwWKPEK/GZHz6DFerigyxP2Qd+tudU+NkPKiWRyfpEKXgsPAuxguHkoqpgiZXO5nTgHh0SOL2jfnxl4kRCgP46dERW39gutgiYdRwiKSohVjA4g7jg6Wyd2zPygRDSGepCKs9KiPEeMFgHQngLCtw5YqXIFcwbIbw+IO7X1IIyz9AaBTHbA6ovRLcAJ4Rat5ojKOo3rdFUPLM96Lu1y1sxs73xjEgk7PDKqhrC6Vl5AxmThWj7f4gxcVFesr2zvMwIxJd7e87Oj9keEpi17wgBqIK5N/F5s4nRLjpHxB2RPIjGROqkCSaKU8UtDMsM0M94FRtCl0+8DZNF19x2r2RId2MhPPKf/7+F0Be8hdhC1L2+HeEdIYp8+/UC4nhHnEnD3C4AAAAASUVORK5CYII=)\r\n",
        "\r\n",
        "- bądź adres robity w ten sposób:\r\n",
        "\r\n",
        "  ![image.png](data:image/png;base64,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)\r\n",
        "\r\n",
        "\r\n",
        "3. Należy wypełnić pola 'api_key' oraz nazwę pliku.\r\n",
        "4. W sekcji \"Walidacja nazw kolumn\" możesz sprawdzić poprawność pliku źródłowego.\r\n",
        "5. Poruszaj się po pliku do potrzebnych sekcji z pomocą spisu treści ![image.png](data:image/png;base64,iVBORw0KGgoAAAANSUhEUgAAACcAAAAvCAYAAABg8NNYAAABDElEQVRYCe2WsQrCQAyGOwsddXRyVFxvF7q72flcFXwIn8JX0UfR2beIpFAIB8eRH3t0+IfQ6zW5/HxJwzUhBJmrNXMVprooDq1Oltz3thA19OB/xFEcSpHkSA4lgMax50gOJYDGseeqkbsfN6KmCfvDXmK3K5r6IQLdZbW3lVdcDjeXcS/3VL8q4lJy524rJatGDiGAxrjLiiZC4tziPtdW3pd26KHHaS3PuCqa+lUTpwI1mSbVZi9ZNXEIATTGXVY0ERLnFpeOEg7hFPs47dP9lFxpAOt3DuGU4tTv7h9iakH2fIqzNDxrkvPQsr4kZ2l41iTnoWV9Sc7S8Kyz5DyHTOVLcShZkkPJ/QBEcjeuIfBF5gAAAABJRU5ErkJggg==)\r\n",
        "--------------------------------------------------------------------------\r\n",
        "### Ładowanie komórki z kodem odbywa się za pomocą 'ctr + Enter'\r\n",
        "\r\n",
        "                                                                                                                           @autor: Kasia Górska"
      ]
    },
    {
      "cell_type": "markdown",
      "metadata": {
        "id": "h6Y165W_r9Du"
      },
      "source": [
        "## Przygotowanie wtyczek i załadowanie danych"
      ]
    },
    {
      "cell_type": "code",
      "metadata": {
        "colab": {
          "base_uri": "https://localhost:8080/",
          "height": 149
        },
        "id": "tob2Lpeoxj5B",
        "outputId": "6a499bae-361a-46a1-dacf-3baa729e45c4"
      },
      "source": [
        "import pandas as pd \n",
        "import requests\n",
        "from datetime import date\n",
        "from tqdm import tqdm\n",
        "import time\n",
        "\n",
        "\n",
        "today = date.today()\n",
        "dzisiaj = today.strftime(\"%Y-%m-%d\")\n",
        "\n",
        "# Google Maps\n",
        "base = \"https://maps.googleapis.com/maps/api/geocode/json?\"\n",
        "sensor = 'true'\n",
        "\n",
        "# Do wypełnienia\n",
        "api_key = '<TUTAJ WPISZ API KEY>'\n",
        "\n",
        "# Do wypełnienia\n",
        "link = \"dane testowe.xlsx\"\n",
        "data = pd.read_excel(link) \n",
        "\n",
        "\n",
        "data = data.head(1)\n",
        "\n",
        "data"
      ],
      "execution_count": null,
      "outputs": [
        {
          "output_type": "execute_result",
          "data": {
            "text/html": [
              "<div>\n",
              "<style scoped>\n",
              "    .dataframe tbody tr th:only-of-type {\n",
              "        vertical-align: middle;\n",
              "    }\n",
              "\n",
              "    .dataframe tbody tr th {\n",
              "        vertical-align: top;\n",
              "    }\n",
              "\n",
              "    .dataframe thead th {\n",
              "        text-align: right;\n",
              "    }\n",
              "</style>\n",
              "<table border=\"1\" class=\"dataframe\">\n",
              "  <thead>\n",
              "    <tr style=\"text-align: right;\">\n",
              "      <th></th>\n",
              "      <th>id</th>\n",
              "      <th>max_no_cluster</th>\n",
              "      <th>count_cluster</th>\n",
              "      <th>cluster</th>\n",
              "      <th>centroid_lng</th>\n",
              "      <th>centroid_lat</th>\n",
              "      <th>fake_hdm_system_id_flag</th>\n",
              "      <th>economic_entity_id_1</th>\n",
              "      <th>hdm_system_id</th>\n",
              "      <th>flag_source</th>\n",
              "      <th>distribution_point_type</th>\n",
              "      <th>distribution_point_type_text</th>\n",
              "      <th>item_status</th>\n",
              "      <th>province</th>\n",
              "      <th>city</th>\n",
              "      <th>postal_code</th>\n",
              "      <th>street_prefix</th>\n",
              "      <th>street_name</th>\n",
              "      <th>street_number</th>\n",
              "      <th>apartment_number</th>\n",
              "      <th>pos_latitude</th>\n",
              "      <th>pos_longitude</th>\n",
              "      <th>geo_pos_id</th>\n",
              "      <th>pos_quality</th>\n",
              "      <th>pos_institution_latitude</th>\n",
              "      <th>pos_institution_longitude</th>\n",
              "      <th>correct_lat</th>\n",
              "      <th>correct_lng</th>\n",
              "      <th>full_adress</th>\n",
              "      <th>here_lat</th>\n",
              "      <th>here_long</th>\n",
              "    </tr>\n",
              "  </thead>\n",
              "  <tbody>\n",
              "    <tr>\n",
              "      <th>0</th>\n",
              "      <td>76</td>\n",
              "      <td>18</td>\n",
              "      <td>18</td>\n",
              "      <td>1</td>\n",
              "      <td>20.63471</td>\n",
              "      <td>52.884192</td>\n",
              "      <td>0</td>\n",
              "      <td>76</td>\n",
              "      <td>144775</td>\n",
              "      <td>Rekord z bazy aptecznej i medyczej</td>\n",
              "      <td>6</td>\n",
              "      <td>Apteka Szpitalna Zamknięta</td>\n",
              "      <td>1</td>\n",
              "      <td>7</td>\n",
              "      <td>Ciechanów</td>\n",
              "      <td>06-413</td>\n",
              "      <td>ul.</td>\n",
              "      <td>Powstańców Wielkopolskich</td>\n",
              "      <td>2</td>\n",
              "      <td>NaN</td>\n",
              "      <td>52.882007</td>\n",
              "      <td>20.633423</td>\n",
              "      <td>POINT(20.6334225 52.88200653)</td>\n",
              "      <td>0</td>\n",
              "      <td>52.882007</td>\n",
              "      <td>20.633423</td>\n",
              "      <td>52.883561</td>\n",
              "      <td>20.6346</td>\n",
              "      <td>Powstańców Wielkopolskich 2, 06-413, Ciechanów</td>\n",
              "      <td>52.88369</td>\n",
              "      <td>20.63485</td>\n",
              "    </tr>\n",
              "  </tbody>\n",
              "</table>\n",
              "</div>"
            ],
            "text/plain": [
              "   id  max_no_cluster  ...  here_lat  here_long\n",
              "0  76              18  ...  52.88369   20.63485\n",
              "\n",
              "[1 rows x 31 columns]"
            ]
          },
          "metadata": {
            "tags": []
          },
          "execution_count": 133
        }
      ]
    },
    {
      "cell_type": "markdown",
      "metadata": {
        "id": "ZpPCJRXApnrf"
      },
      "source": [
        "### Walidacja nazw kolumn\r\n",
        "Jeśli walidacja zwróci komuniak \"BRAK NAZWY\" Należy przejść do odpowiedniej zakładki w sekcji \"Przygotowanie nazw kolumn: \" i dostosować ustawienia lub zmienić nazwy ręcznie i ponownie załadować plik."
      ]
    },
    {
      "cell_type": "code",
      "metadata": {
        "colab": {
          "base_uri": "https://localhost:8080/"
        },
        "id": "Qh9urUwDxLTB",
        "outputId": "53ff7086-1813-43c7-f61d-cbede7ef82c4"
      },
      "source": [
        "wymagane_nazwy_kolumn =['lat','long','address','city','postal_code',  'street_name', 'street_number']\r\n",
        "nazwy_kolumn = list(data.columns.values) \r\n",
        "nazwy_kolumn\r\n",
        "\r\n",
        "\r\n",
        "for item in wymagane_nazwy_kolumn:\r\n",
        "    if item in nazwy_kolumn:\r\n",
        "        print (\"nazwa %s: OK\" % item)\r\n",
        "    else:\r\n",
        "        print('BRAK NAZWY: %s - przejdź do komórki: Przygotowanie nazw kolumn' % item)\r\n"
      ],
      "execution_count": null,
      "outputs": [
        {
          "output_type": "stream",
          "text": [
            "BRAK NAZWY: lat - przejdź do komórki: Przygotowanie nazw kolumn\n",
            "BRAK NAZWY: long - przejdź do komórki: Przygotowanie nazw kolumn\n",
            "BRAK NAZWY: address - przejdź do komórki: Przygotowanie nazw kolumn\n",
            "nazwa city: OK\n",
            "nazwa postal_code: OK\n",
            "nazwa street_name: OK\n",
            "nazwa street_number: OK\n"
          ],
          "name": "stdout"
        }
      ]
    },
    {
      "cell_type": "markdown",
      "metadata": {
        "id": "oz1FUc1Oxj5E"
      },
      "source": [
        "## Przygotowanie nazw kolumn:\n",
        "\n",
        "\n"
      ]
    },
    {
      "cell_type": "markdown",
      "metadata": {
        "id": "jT3XSqcRFZEU"
      },
      "source": [
        "### Łączenie kolumny adresowej\r\n",
        "Do geocodingu z użyciem adresów należy połączyć dane adresowe w jedną kolumne (Ulica + Kod pocztowy + Miasto)"
      ]
    },
    {
      "cell_type": "code",
      "metadata": {
        "colab": {
          "base_uri": "https://localhost:8080/",
          "height": 149
        },
        "id": "Gdjsbm1fxj5F",
        "outputId": "02562ce7-dcb4-4f60-d5d4-3fc508fd868a"
      },
      "source": [
        "#Jeśli dane adresowe są w osobnych kolumnach, należy je teraz złączyć\n",
        "\t\n",
        "data['address'] =  data['street_name']+\" \"+ data['street_number']+\", \"+ data['postal_code']+\", \"+ data['city']\n",
        "\n",
        "data.head(1)"
      ],
      "execution_count": null,
      "outputs": [
        {
          "output_type": "execute_result",
          "data": {
            "text/html": [
              "<div>\n",
              "<style scoped>\n",
              "    .dataframe tbody tr th:only-of-type {\n",
              "        vertical-align: middle;\n",
              "    }\n",
              "\n",
              "    .dataframe tbody tr th {\n",
              "        vertical-align: top;\n",
              "    }\n",
              "\n",
              "    .dataframe thead th {\n",
              "        text-align: right;\n",
              "    }\n",
              "</style>\n",
              "<table border=\"1\" class=\"dataframe\">\n",
              "  <thead>\n",
              "    <tr style=\"text-align: right;\">\n",
              "      <th></th>\n",
              "      <th>id</th>\n",
              "      <th>max_no_cluster</th>\n",
              "      <th>count_cluster</th>\n",
              "      <th>cluster</th>\n",
              "      <th>centroid_lng</th>\n",
              "      <th>centroid_lat</th>\n",
              "      <th>fake_hdm_system_id_flag</th>\n",
              "      <th>economic_entity_id_1</th>\n",
              "      <th>hdm_system_id</th>\n",
              "      <th>flag_source</th>\n",
              "      <th>distribution_point_type</th>\n",
              "      <th>distribution_point_type_text</th>\n",
              "      <th>item_status</th>\n",
              "      <th>province</th>\n",
              "      <th>city</th>\n",
              "      <th>postal_code</th>\n",
              "      <th>street_prefix</th>\n",
              "      <th>street_name</th>\n",
              "      <th>street_number</th>\n",
              "      <th>apartment_number</th>\n",
              "      <th>pos_latitude</th>\n",
              "      <th>pos_longitude</th>\n",
              "      <th>geo_pos_id</th>\n",
              "      <th>pos_quality</th>\n",
              "      <th>pos_institution_latitude</th>\n",
              "      <th>pos_institution_longitude</th>\n",
              "      <th>correct_lat</th>\n",
              "      <th>correct_lng</th>\n",
              "      <th>full_adress</th>\n",
              "      <th>here_lat</th>\n",
              "      <th>here_long</th>\n",
              "      <th>address</th>\n",
              "    </tr>\n",
              "  </thead>\n",
              "  <tbody>\n",
              "    <tr>\n",
              "      <th>0</th>\n",
              "      <td>76</td>\n",
              "      <td>18</td>\n",
              "      <td>18</td>\n",
              "      <td>1</td>\n",
              "      <td>20.63471</td>\n",
              "      <td>52.884192</td>\n",
              "      <td>0</td>\n",
              "      <td>76</td>\n",
              "      <td>144775</td>\n",
              "      <td>Rekord z bazy aptecznej i medyczej</td>\n",
              "      <td>6</td>\n",
              "      <td>Apteka Szpitalna Zamknięta</td>\n",
              "      <td>1</td>\n",
              "      <td>7</td>\n",
              "      <td>Ciechanów</td>\n",
              "      <td>06-413</td>\n",
              "      <td>ul.</td>\n",
              "      <td>Powstańców Wielkopolskich</td>\n",
              "      <td>2</td>\n",
              "      <td>NaN</td>\n",
              "      <td>52.882007</td>\n",
              "      <td>20.633423</td>\n",
              "      <td>POINT(20.6334225 52.88200653)</td>\n",
              "      <td>0</td>\n",
              "      <td>52.882007</td>\n",
              "      <td>20.633423</td>\n",
              "      <td>52.883561</td>\n",
              "      <td>20.6346</td>\n",
              "      <td>Powstańców Wielkopolskich 2, 06-413, Ciechanów</td>\n",
              "      <td>52.88369</td>\n",
              "      <td>20.63485</td>\n",
              "      <td>Powstańców Wielkopolskich 2, 06-413, Ciechanów</td>\n",
              "    </tr>\n",
              "  </tbody>\n",
              "</table>\n",
              "</div>"
            ],
            "text/plain": [
              "   id  ...                                         address\n",
              "0  76  ...  Powstańców Wielkopolskich 2, 06-413, Ciechanów\n",
              "\n",
              "[1 rows x 32 columns]"
            ]
          },
          "metadata": {
            "tags": []
          },
          "execution_count": 139
        }
      ]
    },
    {
      "cell_type": "markdown",
      "metadata": {
        "id": "3VHFtibsEWPJ"
      },
      "source": [
        "### Zmiana nazwy kolumn ze współrzędnymi"
      ]
    },
    {
      "cell_type": "code",
      "metadata": {
        "colab": {
          "base_uri": "https://localhost:8080/",
          "height": 149
        },
        "id": "Cz3jXABP_b4s",
        "outputId": "424abc91-316b-4031-8e16-c4ada9983583"
      },
      "source": [
        "# Jeżeli nazwa kolumny się nie zgadza,  mozna tutaj dokonac zmian:\r\n",
        "# Wypełnij poniżej nazwę kolumny z źródłowego arkusza\r\n",
        "\r\n",
        "# np. kolumna_lat = \"lattitude\"\r\n",
        "kolumna_lat = \"here_lat\"\t\r\n",
        "kolumna_long = \"here_long\"\r\n",
        "\r\n",
        "data = data.rename(columns={kolumna_lat: 'lat', kolumna_long: 'long'})\r\n",
        "\r\n",
        "data.head(1)"
      ],
      "execution_count": null,
      "outputs": [
        {
          "output_type": "execute_result",
          "data": {
            "text/html": [
              "<div>\n",
              "<style scoped>\n",
              "    .dataframe tbody tr th:only-of-type {\n",
              "        vertical-align: middle;\n",
              "    }\n",
              "\n",
              "    .dataframe tbody tr th {\n",
              "        vertical-align: top;\n",
              "    }\n",
              "\n",
              "    .dataframe thead th {\n",
              "        text-align: right;\n",
              "    }\n",
              "</style>\n",
              "<table border=\"1\" class=\"dataframe\">\n",
              "  <thead>\n",
              "    <tr style=\"text-align: right;\">\n",
              "      <th></th>\n",
              "      <th>id</th>\n",
              "      <th>max_no_cluster</th>\n",
              "      <th>count_cluster</th>\n",
              "      <th>cluster</th>\n",
              "      <th>centroid_lng</th>\n",
              "      <th>centroid_lat</th>\n",
              "      <th>fake_hdm_system_id_flag</th>\n",
              "      <th>economic_entity_id_1</th>\n",
              "      <th>hdm_system_id</th>\n",
              "      <th>flag_source</th>\n",
              "      <th>distribution_point_type</th>\n",
              "      <th>distribution_point_type_text</th>\n",
              "      <th>item_status</th>\n",
              "      <th>province</th>\n",
              "      <th>city</th>\n",
              "      <th>postal_code</th>\n",
              "      <th>street_prefix</th>\n",
              "      <th>street_name</th>\n",
              "      <th>street_number</th>\n",
              "      <th>apartment_number</th>\n",
              "      <th>pos_latitude</th>\n",
              "      <th>pos_longitude</th>\n",
              "      <th>geo_pos_id</th>\n",
              "      <th>pos_quality</th>\n",
              "      <th>pos_institution_latitude</th>\n",
              "      <th>pos_institution_longitude</th>\n",
              "      <th>correct_lat</th>\n",
              "      <th>correct_lng</th>\n",
              "      <th>full_adress</th>\n",
              "      <th>lat</th>\n",
              "      <th>long</th>\n",
              "      <th>address</th>\n",
              "    </tr>\n",
              "  </thead>\n",
              "  <tbody>\n",
              "    <tr>\n",
              "      <th>0</th>\n",
              "      <td>76</td>\n",
              "      <td>18</td>\n",
              "      <td>18</td>\n",
              "      <td>1</td>\n",
              "      <td>20.63471</td>\n",
              "      <td>52.884192</td>\n",
              "      <td>0</td>\n",
              "      <td>76</td>\n",
              "      <td>144775</td>\n",
              "      <td>Rekord z bazy aptecznej i medyczej</td>\n",
              "      <td>6</td>\n",
              "      <td>Apteka Szpitalna Zamknięta</td>\n",
              "      <td>1</td>\n",
              "      <td>7</td>\n",
              "      <td>Ciechanów</td>\n",
              "      <td>06-413</td>\n",
              "      <td>ul.</td>\n",
              "      <td>Powstańców Wielkopolskich</td>\n",
              "      <td>2</td>\n",
              "      <td>NaN</td>\n",
              "      <td>52.882007</td>\n",
              "      <td>20.633423</td>\n",
              "      <td>POINT(20.6334225 52.88200653)</td>\n",
              "      <td>0</td>\n",
              "      <td>52.882007</td>\n",
              "      <td>20.633423</td>\n",
              "      <td>52.883561</td>\n",
              "      <td>20.6346</td>\n",
              "      <td>Powstańców Wielkopolskich 2, 06-413, Ciechanów</td>\n",
              "      <td>52.88369</td>\n",
              "      <td>20.63485</td>\n",
              "      <td>Powstańców Wielkopolskich 2, 06-413, Ciechanów</td>\n",
              "    </tr>\n",
              "  </tbody>\n",
              "</table>\n",
              "</div>"
            ],
            "text/plain": [
              "   id  max_no_cluster  ...      long                                         address\n",
              "0  76              18  ...  20.63485  Powstańców Wielkopolskich 2, 06-413, Ciechanów\n",
              "\n",
              "[1 rows x 32 columns]"
            ]
          },
          "metadata": {
            "tags": []
          },
          "execution_count": 140
        }
      ]
    },
    {
      "cell_type": "markdown",
      "metadata": {
        "id": "J__xS1_rEca1"
      },
      "source": [
        "\r\n",
        "###Zmiana nazwy kolumny adresowej\r\n"
      ]
    },
    {
      "cell_type": "code",
      "metadata": {
        "colab": {
          "base_uri": "https://localhost:8080/",
          "height": 149
        },
        "id": "ZqvjVXP3_cPn",
        "outputId": "cf47cb55-5b00-4c91-e869-bb990ae2f2ae"
      },
      "source": [
        "# Jeżeli nazwa kolumny się nie zgadza,  mozna tutaj dokonac zmian:\r\n",
        "# Wypełnij poniżej nazwę kolumny z źródłowego arkusza\r\n",
        "\r\n",
        "# np. kolumna_adres = \"Adres\"\r\n",
        "kolumna_adres = \"full_adress\"\r\n",
        "\r\n",
        "data = data.rename(columns={kolumna_adres: 'address'})\r\n",
        "data.head(1)"
      ],
      "execution_count": null,
      "outputs": [
        {
          "output_type": "execute_result",
          "data": {
            "text/html": [
              "<div>\n",
              "<style scoped>\n",
              "    .dataframe tbody tr th:only-of-type {\n",
              "        vertical-align: middle;\n",
              "    }\n",
              "\n",
              "    .dataframe tbody tr th {\n",
              "        vertical-align: top;\n",
              "    }\n",
              "\n",
              "    .dataframe thead th {\n",
              "        text-align: right;\n",
              "    }\n",
              "</style>\n",
              "<table border=\"1\" class=\"dataframe\">\n",
              "  <thead>\n",
              "    <tr style=\"text-align: right;\">\n",
              "      <th></th>\n",
              "      <th>id</th>\n",
              "      <th>max_no_cluster</th>\n",
              "      <th>count_cluster</th>\n",
              "      <th>cluster</th>\n",
              "      <th>centroid_lng</th>\n",
              "      <th>centroid_lat</th>\n",
              "      <th>fake_hdm_system_id_flag</th>\n",
              "      <th>economic_entity_id_1</th>\n",
              "      <th>hdm_system_id</th>\n",
              "      <th>flag_source</th>\n",
              "      <th>distribution_point_type</th>\n",
              "      <th>distribution_point_type_text</th>\n",
              "      <th>item_status</th>\n",
              "      <th>province</th>\n",
              "      <th>city</th>\n",
              "      <th>postal_code</th>\n",
              "      <th>street_prefix</th>\n",
              "      <th>street_name</th>\n",
              "      <th>street_number</th>\n",
              "      <th>apartment_number</th>\n",
              "      <th>pos_latitude</th>\n",
              "      <th>pos_longitude</th>\n",
              "      <th>geo_pos_id</th>\n",
              "      <th>pos_quality</th>\n",
              "      <th>pos_institution_latitude</th>\n",
              "      <th>pos_institution_longitude</th>\n",
              "      <th>correct_lat</th>\n",
              "      <th>correct_lng</th>\n",
              "      <th>address</th>\n",
              "      <th>lat</th>\n",
              "      <th>long</th>\n",
              "    </tr>\n",
              "  </thead>\n",
              "  <tbody>\n",
              "    <tr>\n",
              "      <th>0</th>\n",
              "      <td>76</td>\n",
              "      <td>18</td>\n",
              "      <td>18</td>\n",
              "      <td>1</td>\n",
              "      <td>20.63471</td>\n",
              "      <td>52.884192</td>\n",
              "      <td>0</td>\n",
              "      <td>76</td>\n",
              "      <td>144775</td>\n",
              "      <td>Rekord z bazy aptecznej i medyczej</td>\n",
              "      <td>6</td>\n",
              "      <td>Apteka Szpitalna Zamknięta</td>\n",
              "      <td>1</td>\n",
              "      <td>7</td>\n",
              "      <td>Ciechanów</td>\n",
              "      <td>06-413</td>\n",
              "      <td>ul.</td>\n",
              "      <td>Powstańców Wielkopolskich</td>\n",
              "      <td>2</td>\n",
              "      <td>NaN</td>\n",
              "      <td>52.882007</td>\n",
              "      <td>20.633423</td>\n",
              "      <td>POINT(20.6334225 52.88200653)</td>\n",
              "      <td>0</td>\n",
              "      <td>52.882007</td>\n",
              "      <td>20.633423</td>\n",
              "      <td>52.883561</td>\n",
              "      <td>20.6346</td>\n",
              "      <td>Powstańców Wielkopolskich 2, 06-413, Ciechanów</td>\n",
              "      <td>52.88369</td>\n",
              "      <td>20.63485</td>\n",
              "    </tr>\n",
              "  </tbody>\n",
              "</table>\n",
              "</div>"
            ],
            "text/plain": [
              "   id  max_no_cluster  ...       lat      long\n",
              "0  76              18  ...  52.88369  20.63485\n",
              "\n",
              "[1 rows x 31 columns]"
            ]
          },
          "metadata": {
            "tags": []
          },
          "execution_count": 51
        }
      ]
    },
    {
      "cell_type": "markdown",
      "metadata": {
        "id": "liCf1GFSxj5I"
      },
      "source": [
        "#Geocoding"
      ]
    },
    {
      "cell_type": "markdown",
      "metadata": {
        "id": "Xteb4y9mOO0P"
      },
      "source": [
        "## Reverse geocoding - wyszukiwanie adresu na podstawie współrzędnych\r\n"
      ]
    },
    {
      "cell_type": "code",
      "metadata": {
        "colab": {
          "base_uri": "https://localhost:8080/"
        },
        "id": "Ms3zUu22xj5I",
        "outputId": "b9c8bb34-3077-453d-e7f5-5a4dbd7906e4"
      },
      "source": [
        "\n",
        "\n",
        "for i in data.index: \n",
        "    latitude = data['lat'][i]\n",
        "    longitude = data['long'][i]\n",
        "    list_response =[]\n",
        "    list_formatted_address =[]\n",
        "    list_roof =[]\n",
        "    list_lat =[]\n",
        "    list_lng =[]\n",
        "    params = \"latlng={lat},{lon}&sensor={sen}&key={key}\".format(\n",
        "        lat=latitude,\n",
        "        lon=longitude,\n",
        "        sen=sensor,\n",
        "        key=api_key)\n",
        "    url = \"{base}{params}\".format(base=base, params=params)\n",
        "    dataj = r.json() \n",
        "    response = requests.get(url).json()\n",
        "    list_response.append(response)\n",
        "    formated_address = response['results'][0]['formatted_address']\n",
        "    list_formatted_address.append(formated_address)\n",
        "    r_roof = response['results'][0]['geometry']['location_type']\n",
        "    list_roof.append(r_roof)\n",
        "    r_lat  = response['results'][0]['geometry']['location'][\"lat\"]\n",
        "    list_lat.append(r_lat)\n",
        "    r_lng = response['results'][0]['geometry']['location'][\"lng\"]\n",
        "    list_lng.append(r_lng)\n",
        "print(\"Geokoding poszedł pomyślnie, liczba uzyskanych rekordów \" + str(len(list_formatted_address)))\n",
        "\n"
      ],
      "execution_count": null,
      "outputs": [
        {
          "output_type": "stream",
          "text": [
            "Geokoding poszedł pomyślnie, liczba uzyskanych rekordów 1\n"
          ],
          "name": "stdout"
        }
      ]
    },
    {
      "cell_type": "markdown",
      "metadata": {
        "id": "5YHPXkwvSe2s"
      },
      "source": [
        "### Utworzenie pliku z pobranymi adresami"
      ]
    },
    {
      "cell_type": "code",
      "metadata": {
        "id": "31ZS9bmVxj5K"
      },
      "source": [
        "list_formatted_address = pd.DataFrame(list_formatted_address)\n",
        "list_lat = pd.DataFrame(list_lat)\n",
        "list_lng = pd.DataFrame(list_lng)\n",
        "list_roof = pd.DataFrame(list_roof)\n",
        "\n",
        "\n",
        "result = pd.concat([list_formatted_address, list_lat, list_lng,list_roof], axis=1)\n",
        "\n",
        "result.columns = ['formatted_address_google_maps', 'lat_google_maps', 'lng_google_maps', 'location_type_google_maps']\n",
        "result\n",
        "\n",
        "#Tutaj możesz zmienić nazwę pliku\n",
        "nazwa_pliku_gc = \"Geocoding adresów Google Maps \"\n",
        "\n",
        "ilosc_do_importu = str(result[\"formatted_address_google_maps\"].count())\n",
        "\n",
        "result.to_excel(nazwa_pliku_gc + ' (' + ilosc_do_importu + ') '+ dzisiaj  +  '.xlsx', index = False)"
      ],
      "execution_count": null,
      "outputs": []
    },
    {
      "cell_type": "markdown",
      "metadata": {
        "id": "pVXwq6inla4L"
      },
      "source": [
        "### Łączenie pliku źródłowego z wynikami geolokalizatora"
      ]
    },
    {
      "cell_type": "code",
      "metadata": {
        "colab": {
          "base_uri": "https://localhost:8080/",
          "height": 149
        },
        "id": "8E4ltfhFk1Zz",
        "outputId": "9d486c14-79ec-4579-a4a4-4c232c48dc88"
      },
      "source": [
        "# łączenie geocodingu Googla z plikiem źródłowym\r\n",
        "\r\n",
        "comparison =  pd.concat([data, result], axis=1)\r\n",
        "\r\n",
        "# Tutaj możesz zmienić nazwę pliku\r\n",
        "nazwa_pliku_gc_all = 'Źródłowy plik Google Maps geokoding adresów '\r\n",
        "\r\n",
        "\r\n",
        "result.to_excel(nazwa_pliku_gc_all + ' ('+ ilosc_do_importu + ') ' + dzisiaj +  '.xlsx', index = False)\r\n",
        "comparison.head()"
      ],
      "execution_count": null,
      "outputs": [
        {
          "output_type": "execute_result",
          "data": {
            "text/html": [
              "<div>\n",
              "<style scoped>\n",
              "    .dataframe tbody tr th:only-of-type {\n",
              "        vertical-align: middle;\n",
              "    }\n",
              "\n",
              "    .dataframe tbody tr th {\n",
              "        vertical-align: top;\n",
              "    }\n",
              "\n",
              "    .dataframe thead th {\n",
              "        text-align: right;\n",
              "    }\n",
              "</style>\n",
              "<table border=\"1\" class=\"dataframe\">\n",
              "  <thead>\n",
              "    <tr style=\"text-align: right;\">\n",
              "      <th></th>\n",
              "      <th>id</th>\n",
              "      <th>max_no_cluster</th>\n",
              "      <th>count_cluster</th>\n",
              "      <th>cluster</th>\n",
              "      <th>centroid_lng</th>\n",
              "      <th>centroid_lat</th>\n",
              "      <th>fake_hdm_system_id_flag</th>\n",
              "      <th>economic_entity_id_1</th>\n",
              "      <th>hdm_system_id</th>\n",
              "      <th>flag_source</th>\n",
              "      <th>distribution_point_type</th>\n",
              "      <th>distribution_point_type_text</th>\n",
              "      <th>item_status</th>\n",
              "      <th>province</th>\n",
              "      <th>city</th>\n",
              "      <th>postal_code</th>\n",
              "      <th>street_prefix</th>\n",
              "      <th>street_name</th>\n",
              "      <th>street_number</th>\n",
              "      <th>apartment_number</th>\n",
              "      <th>pos_latitude</th>\n",
              "      <th>pos_longitude</th>\n",
              "      <th>geo_pos_id</th>\n",
              "      <th>pos_quality</th>\n",
              "      <th>pos_institution_latitude</th>\n",
              "      <th>pos_institution_longitude</th>\n",
              "      <th>correct_lat</th>\n",
              "      <th>correct_lng</th>\n",
              "      <th>full_adress</th>\n",
              "      <th>lat</th>\n",
              "      <th>long</th>\n",
              "      <th>address</th>\n",
              "      <th>formatted_address_google_maps</th>\n",
              "      <th>lat_google_maps</th>\n",
              "      <th>lng_google_maps</th>\n",
              "      <th>location_type_google_maps</th>\n",
              "    </tr>\n",
              "  </thead>\n",
              "  <tbody>\n",
              "    <tr>\n",
              "      <th>0</th>\n",
              "      <td>76</td>\n",
              "      <td>18</td>\n",
              "      <td>18</td>\n",
              "      <td>1</td>\n",
              "      <td>20.63471</td>\n",
              "      <td>52.884192</td>\n",
              "      <td>0</td>\n",
              "      <td>76</td>\n",
              "      <td>144775</td>\n",
              "      <td>Rekord z bazy aptecznej i medyczej</td>\n",
              "      <td>6</td>\n",
              "      <td>Apteka Szpitalna Zamknięta</td>\n",
              "      <td>1</td>\n",
              "      <td>7</td>\n",
              "      <td>Ciechanów</td>\n",
              "      <td>06-413</td>\n",
              "      <td>ul.</td>\n",
              "      <td>Powstańców Wielkopolskich</td>\n",
              "      <td>2</td>\n",
              "      <td>NaN</td>\n",
              "      <td>52.882007</td>\n",
              "      <td>20.633423</td>\n",
              "      <td>POINT(20.6334225 52.88200653)</td>\n",
              "      <td>0</td>\n",
              "      <td>52.882007</td>\n",
              "      <td>20.633423</td>\n",
              "      <td>52.883561</td>\n",
              "      <td>20.6346</td>\n",
              "      <td>Powstańców Wielkopolskich 2, 06-413, Ciechanów</td>\n",
              "      <td>52.88369</td>\n",
              "      <td>20.63485</td>\n",
              "      <td>Powstańców Wielkopolskich 2, 06-413, Ciechanów</td>\n",
              "      <td>Powstańców Wielkopolskich 2, 06-400 Ciechanów,...</td>\n",
              "      <td>52.883691</td>\n",
              "      <td>20.634853</td>\n",
              "      <td>ROOFTOP</td>\n",
              "    </tr>\n",
              "  </tbody>\n",
              "</table>\n",
              "</div>"
            ],
            "text/plain": [
              "   id  max_no_cluster  ...  lng_google_maps  location_type_google_maps\n",
              "0  76              18  ...        20.634853                    ROOFTOP\n",
              "\n",
              "[1 rows x 36 columns]"
            ]
          },
          "metadata": {
            "tags": []
          },
          "execution_count": 153
        }
      ]
    },
    {
      "cell_type": "markdown",
      "metadata": {
        "id": "Zzo9CpinuDGL"
      },
      "source": [
        "## Geokoding - wyszukiwanie współrzędnych na podstawie adresu"
      ]
    },
    {
      "cell_type": "code",
      "metadata": {
        "id": "NGVeuC_Bxj5N",
        "colab": {
          "base_uri": "https://localhost:8080/"
        },
        "outputId": "f83a8536-1969-46dc-e27c-e3f121c334b4"
      },
      "source": [
        "for i in data.index: \n",
        "    address = data['address'][i]\n",
        "    list_lat =[]\n",
        "    list_lng =[]\n",
        "    list_address =[]\n",
        "    list_roof =[]\n",
        "    list_type =[]\n",
        "    params = \"address={address}&sensor={sen}&key={key}\".format( \n",
        "        address =address,\n",
        "        sen=sensor,\n",
        "        key=api_key)\n",
        "    url = \"{base}{params}\".format(base=base, params=params)\n",
        "    r = requests.get(url = url, params = params) \n",
        "    dataj = r.json() \n",
        "    response = requests.get(url).json()\n",
        "    r_lat  = response['results'][0]['geometry']['location'][\"lat\"]\n",
        "    list_lat.append(r_lat)\n",
        "    r_lng = response['results'][0]['geometry']['location'][\"lng\"]\n",
        "    list_lng.append(r_lng)\n",
        "    r_address = response['results'][0]['formatted_address']\n",
        "    list_address.append(r_address)\n",
        "    r_roof = response['results'][0]['geometry']['location_type']\n",
        "    list_roof.append(r_roof)\n",
        "    r_type = response['results'][0]['types'][0]\n",
        "    list_type.append(r_type)\n",
        "print(\"Geokoding poszedł pomyślnie, liczba uzyskanych rekordów \" + str(len(list_lat)))"
      ],
      "execution_count": null,
      "outputs": [
        {
          "output_type": "stream",
          "text": [
            "Geokoding poszedł pomyślnie, liczba uzyskanych rekordów 1\n"
          ],
          "name": "stdout"
        }
      ]
    },
    {
      "cell_type": "markdown",
      "metadata": {
        "id": "AYHxOonOxj5O"
      },
      "source": [
        "### Utworzenie pliku z pobranymi danymi lokalizacji"
      ]
    },
    {
      "cell_type": "code",
      "metadata": {
        "id": "3Pb6N7LXxj5Q"
      },
      "source": [
        "list_lat = pd.DataFrame(list_lat)\n",
        "list_lng = pd.DataFrame(list_lng)\n",
        "list_address= pd.DataFrame(list_address)\n",
        "list_roof = pd.DataFrame(list_roof)\n",
        "list_type = pd.DataFrame(list_type)\n",
        "\n",
        "result = pd.concat([list_address, list_lat,list_lng,list_roof], axis=1)\n",
        "\n",
        "result.columns = ['formatted_address', 'lat', 'lng', 'location_type']\n",
        "result\n",
        "\n",
        "# Tutaj można nadać nazwę\n",
        "nazwa_pliku_rgc = 'Google Maps geokoding współrzędnych '\n",
        "\n",
        "ilosc_do_importu = str(result[\"formatted_address\"].count())\n",
        "\n",
        "result.to_excel(nazwa_pliku_rgc + ' (' + ilosc_do_importu + ') '+ dzisiaj  +  '.xlsx', index = False)"
      ],
      "execution_count": null,
      "outputs": []
    },
    {
      "cell_type": "markdown",
      "metadata": {
        "id": "SRqVtcitn2DA"
      },
      "source": [
        "### Łączenie pliku źródłowego z wynikami geolokalizatora"
      ]
    },
    {
      "cell_type": "code",
      "metadata": {
        "id": "s4QlR8xqxj5R",
        "colab": {
          "base_uri": "https://localhost:8080/",
          "height": 149
        },
        "outputId": "8ae20a51-d099-4e8a-dc39-090b87fde567"
      },
      "source": [
        "# łączenie geocodingu Googla z plikiem źródłowym\n",
        "\n",
        "comparison =  pd.concat([data, result], axis=1)\n",
        "\n",
        "#Tutaj możesz zmienić nazwę pliku\n",
        "nazwa_pliku_rgc_all = 'Źródłowy plik Google Maps geokoding współrzędnych  '\n",
        "\n",
        "result.to_excel(nazwa_pliku_rgc_all + dzisiaj + ' (' + ilosc_do_importu + ')' +  '.xlsx', index = False)\n",
        "comparison.head()"
      ],
      "execution_count": null,
      "outputs": [
        {
          "output_type": "execute_result",
          "data": {
            "text/html": [
              "<div>\n",
              "<style scoped>\n",
              "    .dataframe tbody tr th:only-of-type {\n",
              "        vertical-align: middle;\n",
              "    }\n",
              "\n",
              "    .dataframe tbody tr th {\n",
              "        vertical-align: top;\n",
              "    }\n",
              "\n",
              "    .dataframe thead th {\n",
              "        text-align: right;\n",
              "    }\n",
              "</style>\n",
              "<table border=\"1\" class=\"dataframe\">\n",
              "  <thead>\n",
              "    <tr style=\"text-align: right;\">\n",
              "      <th></th>\n",
              "      <th>id</th>\n",
              "      <th>max_no_cluster</th>\n",
              "      <th>count_cluster</th>\n",
              "      <th>cluster</th>\n",
              "      <th>centroid_lng</th>\n",
              "      <th>centroid_lat</th>\n",
              "      <th>fake_hdm_system_id_flag</th>\n",
              "      <th>economic_entity_id_1</th>\n",
              "      <th>hdm_system_id</th>\n",
              "      <th>flag_source</th>\n",
              "      <th>distribution_point_type</th>\n",
              "      <th>distribution_point_type_text</th>\n",
              "      <th>item_status</th>\n",
              "      <th>province</th>\n",
              "      <th>city</th>\n",
              "      <th>postal_code</th>\n",
              "      <th>street_prefix</th>\n",
              "      <th>street_name</th>\n",
              "      <th>street_number</th>\n",
              "      <th>apartment_number</th>\n",
              "      <th>pos_latitude</th>\n",
              "      <th>pos_longitude</th>\n",
              "      <th>geo_pos_id</th>\n",
              "      <th>pos_quality</th>\n",
              "      <th>pos_institution_latitude</th>\n",
              "      <th>pos_institution_longitude</th>\n",
              "      <th>correct_lat</th>\n",
              "      <th>correct_lng</th>\n",
              "      <th>full_adress</th>\n",
              "      <th>lat</th>\n",
              "      <th>long</th>\n",
              "      <th>address</th>\n",
              "      <th>formatted_address</th>\n",
              "      <th>lat</th>\n",
              "      <th>lng</th>\n",
              "      <th>location_type</th>\n",
              "    </tr>\n",
              "  </thead>\n",
              "  <tbody>\n",
              "    <tr>\n",
              "      <th>0</th>\n",
              "      <td>76</td>\n",
              "      <td>18</td>\n",
              "      <td>18</td>\n",
              "      <td>1</td>\n",
              "      <td>20.63471</td>\n",
              "      <td>52.884192</td>\n",
              "      <td>0</td>\n",
              "      <td>76</td>\n",
              "      <td>144775</td>\n",
              "      <td>Rekord z bazy aptecznej i medyczej</td>\n",
              "      <td>6</td>\n",
              "      <td>Apteka Szpitalna Zamknięta</td>\n",
              "      <td>1</td>\n",
              "      <td>7</td>\n",
              "      <td>Ciechanów</td>\n",
              "      <td>06-413</td>\n",
              "      <td>ul.</td>\n",
              "      <td>Powstańców Wielkopolskich</td>\n",
              "      <td>2</td>\n",
              "      <td>NaN</td>\n",
              "      <td>52.882007</td>\n",
              "      <td>20.633423</td>\n",
              "      <td>POINT(20.6334225 52.88200653)</td>\n",
              "      <td>0</td>\n",
              "      <td>52.882007</td>\n",
              "      <td>20.633423</td>\n",
              "      <td>52.883561</td>\n",
              "      <td>20.6346</td>\n",
              "      <td>Powstańców Wielkopolskich 2, 06-413, Ciechanów</td>\n",
              "      <td>52.88369</td>\n",
              "      <td>20.63485</td>\n",
              "      <td>Powstańców Wielkopolskich 2, 06-413, Ciechanów</td>\n",
              "      <td>Powstańców Wielkopolskich 2, 06-413 Ciechanów,...</td>\n",
              "      <td>52.883691</td>\n",
              "      <td>20.634853</td>\n",
              "      <td>ROOFTOP</td>\n",
              "    </tr>\n",
              "  </tbody>\n",
              "</table>\n",
              "</div>"
            ],
            "text/plain": [
              "   id  max_no_cluster  count_cluster  ...        lat        lng  location_type\n",
              "0  76              18             18  ...  52.883691  20.634853        ROOFTOP\n",
              "\n",
              "[1 rows x 36 columns]"
            ]
          },
          "metadata": {
            "tags": []
          },
          "execution_count": 157
        }
      ]
    }
  ]
}