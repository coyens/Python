{
  "nbformat": 4,
  "nbformat_minor": 0,
  "metadata": {
    "colab": {
      "name": "Copy of image_processing_practice_with_solutions.ipynb",
      "provenance": [],
      "collapsed_sections": [],
      "include_colab_link": true
    },
    "kernelspec": {
      "name": "python3",
      "display_name": "Python 3"
    },
    "accelerator": "GPU"
  },
  "cells": [
    {
      "cell_type": "markdown",
      "metadata": {
        "id": "view-in-github",
        "colab_type": "text"
      },
      "source": [
        "<a href=\"https://colab.research.google.com/github/coyens/Python/blob/master/warsztaty/image_processing_practice_with_solutions.ipynb\" target=\"_parent\"><img src=\"https://colab.research.google.com/assets/colab-badge.svg\" alt=\"Open In Colab\"/></a>"
      ]
    },
    {
      "cell_type": "code",
      "metadata": {
        "id": "_TLKdxv4fwDx",
        "colab_type": "code",
        "outputId": "b5e50cc5-8ef8-42c4-c7fe-841c8537ab84",
        "colab": {
          "base_uri": "https://localhost:8080/",
          "height": 34
        }
      },
      "source": [
        "%tensorflow_version 1.x\n",
        "import keras\n",
        "import os\n",
        "from keras import backend as K\n",
        "from keras.datasets import cifar10\n",
        "import matplotlib.pyplot as plt\n",
        "import numpy as np\n",
        "from copy import deepcopy\n",
        "import tensorflow as tf\n",
        "from keras.utils import to_categorical\n",
        "\n",
        "tf.compat.v1.logging.set_verbosity(tf.compat.v1.logging.ERROR)"
      ],
      "execution_count": 0,
      "outputs": [
        {
          "output_type": "stream",
          "text": [
            "Using TensorFlow backend.\n"
          ],
          "name": "stderr"
        }
      ]
    },
    {
      "cell_type": "markdown",
      "metadata": {
        "id": "zNQZtbspNrMF",
        "colab_type": "text"
      },
      "source": [
        "# Gather the data"
      ]
    },
    {
      "cell_type": "code",
      "metadata": {
        "id": "lhG7_A0PglI4",
        "colab_type": "code",
        "outputId": "2be73066-ac57-48a9-bd24-a10032190075",
        "colab": {
          "base_uri": "https://localhost:8080/",
          "height": 51
        }
      },
      "source": [
        "# load CIFAR 10 images\n",
        "# description of this dataset can be seen here:\n",
        "# https://www.cs.toronto.edu/~kriz/cifar.html\n",
        "\n",
        "(X_train, y_train), (X_test, y_test) = cifar10.load_data()"
      ],
      "execution_count": 0,
      "outputs": [
        {
          "output_type": "stream",
          "text": [
            "Downloading data from https://www.cs.toronto.edu/~kriz/cifar-10-python.tar.gz\n",
            "170500096/170498071 [==============================] - 14s 0us/step\n"
          ],
          "name": "stdout"
        }
      ]
    },
    {
      "cell_type": "code",
      "metadata": {
        "id": "FoQlVlpbhfVm",
        "colab_type": "code",
        "outputId": "feb0495f-98b5-4c75-9f2b-8d72c3aae513",
        "colab": {
          "base_uri": "https://localhost:8080/",
          "height": 34
        }
      },
      "source": [
        "# both X and y are numpy arrays\n",
        "# the most essential infomation about numpy arrays is in their shape\n",
        "X_train.shape"
      ],
      "execution_count": 0,
      "outputs": [
        {
          "output_type": "execute_result",
          "data": {
            "text/plain": [
              "(50000, 32, 32, 3)"
            ]
          },
          "metadata": {
            "tags": []
          },
          "execution_count": 3
        }
      ]
    },
    {
      "cell_type": "code",
      "metadata": {
        "id": "IkWgb31vihuj",
        "colab_type": "code",
        "outputId": "aa09bf87-3a8a-4209-f745-39b052b68138",
        "colab": {
          "base_uri": "https://localhost:8080/",
          "height": 300
        }
      },
      "source": [
        "# assign seventh example from training batch to variable called \"example_img\"\n",
        "example_img = deepcopy(X_train[7])\n",
        "print('Label number for that class:', y_train[7])\n",
        "# display img\n",
        "plt.imshow(example_img)"
      ],
      "execution_count": 0,
      "outputs": [
        {
          "output_type": "stream",
          "text": [
            "Label number for that class: [7]\n"
          ],
          "name": "stdout"
        },
        {
          "output_type": "execute_result",
          "data": {
            "text/plain": [
              "<matplotlib.image.AxesImage at 0x7f9c72430710>"
            ]
          },
          "metadata": {
            "tags": []
          },
          "execution_count": 4
        },
        {
          "output_type": "display_data",
          "data": {
            "image/png": "[encoded data removed]",
            "text/plain": [
              "<Figure size 432x288 with 1 Axes>"
            ]
          },
          "metadata": {
            "tags": []
          }
        }
      ]
    },
    {
      "cell_type": "code",
      "metadata": {
        "id": "dLiuG7VILVgL",
        "colab_type": "code",
        "outputId": "5f23abc1-1446-4f2c-9884-0225aede0e01",
        "colab": {
          "base_uri": "https://localhost:8080/",
          "height": 34
        }
      },
      "source": [
        "# print the shape of example_img\n",
        "example_img.shape"
      ],
      "execution_count": 0,
      "outputs": [
        {
          "output_type": "execute_result",
          "data": {
            "text/plain": [
              "(32, 32, 3)"
            ]
          },
          "metadata": {
            "tags": []
          },
          "execution_count": 5
        }
      ]
    },
    {
      "cell_type": "code",
      "metadata": {
        "id": "v_WlqpncejXV",
        "colab_type": "code",
        "outputId": "b7d4e284-c5e9-4303-9ded-47f6693e49f8",
        "colab": {
          "base_uri": "https://localhost:8080/",
          "height": 283
        }
      },
      "source": [
        "# extract first channel from example_img and assign it to 'red_channel' variable\n",
        "# red_channel var shape should be (32, 32)\n",
        "##TODO\n",
        "red_channel = example_img[:,:,0]##TODO\n",
        "assert red_channel.shape == (32, 32)\n",
        "plt.imshow(np.concatenate([red_channel[..., None], \n",
        "                           np.zeros(shape=(32, 32, 2), dtype='int')], axis=-1))"
      ],
      "execution_count": 0,
      "outputs": [
        {
          "output_type": "execute_result",
          "data": {
            "text/plain": [
              "<matplotlib.image.AxesImage at 0x7f9c64317400>"
            ]
          },
          "metadata": {
            "tags": []
          },
          "execution_count": 10
        },
        {
          "output_type": "display_data",
          "data": {
            "image/png": "[encoded data removed]",
            "text/plain": [
              "<Figure size 432x288 with 1 Axes>"
            ]
          },
          "metadata": {
            "tags": []
          }
        }
      ]
    },
    {
      "cell_type": "markdown",
      "metadata": {
        "id": "P45daHD9swLt",
        "colab_type": "text"
      },
      "source": [
        "# Image classifier (dense neural network)"
      ]
    },
    {
      "cell_type": "code",
      "metadata": {
        "id": "XlqSst6Kpqa1",
        "colab_type": "code",
        "colab": {}
      },
      "source": [
        "from keras.models import Sequential\n",
        "from keras.layers import Dense\n",
        "from keras.optimizers import Adam"
      ],
      "execution_count": 0,
      "outputs": []
    },
    {
      "cell_type": "code",
      "metadata": {
        "id": "7IH8AleDqLQA",
        "colab_type": "code",
        "colab": {}
      },
      "source": [
        "# build a dense neural architecture that receives input vector of length 3072\n",
        "# and outputs prediction for 10 classes (softmax activation)\n",
        "# use Adam optimizer, categorical_crossentropy loss\n",
        "# our metrics will be accuracy\n",
        "\n",
        "dense_network = Sequential()\n",
        "##TODO build your dense network !\n",
        "dense_network.add(Dense(10, input_dim= (3072), activation = 'softmax'))\n",
        "\n",
        "\n",
        "dense_network.compile(optimizer='rmsprop',\n",
        "              loss='categorical_crossentropy',\n",
        "              metrics=['accuracy'])\n"
      ],
      "execution_count": 0,
      "outputs": []
    },
    {
      "cell_type": "code",
      "metadata": {
        "id": "79oSBedNORWg",
        "colab_type": "code",
        "outputId": "d822e726-eca7-4b5e-d924-73437abd81be",
        "colab": {
          "base_uri": "https://localhost:8080/",
          "height": 187
        }
      },
      "source": [
        "dense_network.summary()"
      ],
      "execution_count": 0,
      "outputs": [
        {
          "output_type": "stream",
          "text": [
            "Model: \"sequential_10\"\n",
            "_________________________________________________________________\n",
            "Layer (type)                 Output Shape              Param #   \n",
            "=================================================================\n",
            "dense_10 (Dense)             (None, 10)                30730     \n",
            "=================================================================\n",
            "Total params: 30,730\n",
            "Trainable params: 30,730\n",
            "Non-trainable params: 0\n",
            "_________________________________________________________________\n"
          ],
          "name": "stdout"
        }
      ]
    },
    {
      "cell_type": "code",
      "metadata": {
        "id": "Cb7iiZW7sHPv",
        "colab_type": "code",
        "colab": {}
      },
      "source": [
        "##TODO\n",
        "# flatten the X_train examples ((50000, 32, 32, 3) -> (50000, 3072))\n",
        "# hint: you can use numpy reshape function\n",
        "X_train_flat = X_train.reshape(50000, 32*32*3)\n",
        "\n",
        "X_train_flat = X_train_flat/255\n",
        "\n",
        "assert X_train_flat.shape == (50000, 3072)\n",
        "\n",
        "y = to_categorical(y_train)\n",
        "\n",
        "##TODO\n",
        "# convert the X_train_flat array value range from (0; 255) to (0; 1)\n",
        "#X_train_flat = \n",
        "assert np.max(X_train_flat) <= 1.\n",
        "\n",
        "##TODO\n",
        "# convert y_train to one hot encoding\n",
        "# hint: you can use keras.utils.to_categorical function\n",
        "#y = \n",
        "assert y.shape == (50000, 10)"
      ],
      "execution_count": 0,
      "outputs": []
    },
    {
      "cell_type": "code",
      "metadata": {
        "id": "JZwwHU31thoP",
        "colab_type": "code",
        "outputId": "a254d321-9ef8-4a25-e012-b17427a42185",
        "colab": {
          "base_uri": "https://localhost:8080/",
          "height": 411
        }
      },
      "source": [
        "##TODO\n",
        "# train your network\n",
        "# use batch size 32, split the dataset into train/validation (0.7/0.3)\n",
        "# keep training for 10 epochs\n",
        "dense_network.fit(x = X_train_flat, y =  y, batch_size= 32,epochs = 10, validation_split=  0.3)"
      ],
      "execution_count": 0,
      "outputs": [
        {
          "output_type": "stream",
          "text": [
            "Train on 35000 samples, validate on 15000 samples\n",
            "Epoch 1/10\n",
            "35000/35000 [==============================] - 13s 377us/step - loss: 2.2074 - acc: 0.2635 - val_loss: 2.0363 - val_acc: 0.3033\n",
            "Epoch 2/10\n",
            "35000/35000 [==============================] - 4s 110us/step - loss: 2.0921 - acc: 0.3020 - val_loss: 2.1265 - val_acc: 0.2856\n",
            "Epoch 3/10\n",
            "35000/35000 [==============================] - 4s 110us/step - loss: 2.0596 - acc: 0.3142 - val_loss: 2.3528 - val_acc: 0.2619\n",
            "Epoch 4/10\n",
            "35000/35000 [==============================] - 4s 104us/step - loss: 2.0387 - acc: 0.3226 - val_loss: 2.3807 - val_acc: 0.2380\n",
            "Epoch 5/10\n",
            "35000/35000 [==============================] - 4s 104us/step - loss: 2.0176 - acc: 0.3316 - val_loss: 1.9094 - val_acc: 0.3408\n",
            "Epoch 6/10\n",
            "35000/35000 [==============================] - 4s 107us/step - loss: 2.0141 - acc: 0.3349 - val_loss: 2.2073 - val_acc: 0.3063\n",
            "Epoch 7/10\n",
            "35000/35000 [==============================] - 4s 109us/step - loss: 2.0014 - acc: 0.3379 - val_loss: 2.1457 - val_acc: 0.2989\n",
            "Epoch 8/10\n",
            "35000/35000 [==============================] - 4s 108us/step - loss: 1.9937 - acc: 0.3394 - val_loss: 2.0726 - val_acc: 0.3152\n",
            "Epoch 9/10\n",
            "35000/35000 [==============================] - 4s 109us/step - loss: 1.9844 - acc: 0.3414 - val_loss: 2.3112 - val_acc: 0.2965\n",
            "Epoch 10/10\n",
            "35000/35000 [==============================] - 4s 106us/step - loss: 1.9855 - acc: 0.3442 - val_loss: 2.1555 - val_acc: 0.3041\n"
          ],
          "name": "stdout"
        },
        {
          "output_type": "execute_result",
          "data": {
            "text/plain": [
              "<keras.callbacks.History at 0x7f9c637dbd68>"
            ]
          },
          "metadata": {
            "tags": []
          },
          "execution_count": 41
        }
      ]
    },
    {
      "cell_type": "code",
      "metadata": {
        "id": "8qvdOMrU6Fcc",
        "colab_type": "code",
        "colab": {}
      },
      "source": [
        "def show_random_prediction(x, y, model):\n",
        "  pool = len(x)\n",
        "  random_int = np.random.randint(low=0, high=pool)\n",
        "  if len(model.input.shape) == 2:\n",
        "    sample = x[random_int].reshape(1, -1)\n",
        "  else:\n",
        "    sample = x[random_int][None, ...]\n",
        "  prediction = model.predict(sample)\n",
        "  plt.figure(figsize=(2, 2))\n",
        "  plt.imshow(x[random_int])\n",
        "  print('Predicted label:', np.argmax(prediction))\n",
        "  print('Actual label:', y[random_int][0])"
      ],
      "execution_count": 0,
      "outputs": []
    },
    {
      "cell_type": "code",
      "metadata": {
        "id": "36MMTlXT6Ogy",
        "colab_type": "code",
        "outputId": "5fc64511-6364-4337-a9bf-0e4c5dbbd41f",
        "colab": {
          "base_uri": "https://localhost:8080/",
          "height": 193
        }
      },
      "source": [
        "# rerun this cell to show random predictions\n",
        "show_random_prediction(X_train, y_train, dense_network)"
      ],
      "execution_count": 0,
      "outputs": [
        {
          "output_type": "stream",
          "text": [
            "Predicted label: 3\n",
            "Actual label: 6\n"
          ],
          "name": "stdout"
        },
        {
          "output_type": "display_data",
          "data": {
            "image/png": "[encoded data removed]",
            "text/plain": [
              "<Figure size 144x144 with 1 Axes>"
            ]
          },
          "metadata": {
            "tags": []
          }
        }
      ]
    },
    {
      "cell_type": "markdown",
      "metadata": {
        "id": "QgfpKfyO2RaL",
        "colab_type": "text"
      },
      "source": [
        "# Convolutions"
      ]
    },
    {
      "cell_type": "code",
      "metadata": {
        "id": "3ooQWLWFLcIM",
        "colab_type": "code",
        "colab": {}
      },
      "source": [
        "# write a fuction that converts RGB images (32, 32, 3) to grayscale (32, 32, 1)\n",
        "# you can just take an average of all channels (easy way)\n",
        "# the more elegant method is to extract weighted average (luminosity method)\n",
        "# the weights are: 0.29 R + 0.58 G + 0.11 B\n",
        "def rgb2gray(img):\n",
        "  R = example_img[:,:,0]\n",
        "  G = example_img[:,:,1]\n",
        "  B=  example_img[:,:,2]\n",
        "  return ((0.29 * R + 0.58 * G + 0.11 * B) /3)"
      ],
      "execution_count": 0,
      "outputs": []
    },
    {
      "cell_type": "code",
      "metadata": {
        "id": "5IMIjelpMSI6",
        "colab_type": "code",
        "outputId": "7d87c308-7e72-4588-b23c-52e70df34ba9",
        "colab": {
          "base_uri": "https://localhost:8080/",
          "height": 283
        }
      },
      "source": [
        "example_img_gray = rgb2gray(example_img)\n",
        "plt.imshow(example_img_gray, cmap='gray')"
      ],
      "execution_count": 0,
      "outputs": [
        {
          "output_type": "execute_result",
          "data": {
            "text/plain": [
              "<matplotlib.image.AxesImage at 0x7f9c5056f470>"
            ]
          },
          "metadata": {
            "tags": []
          },
          "execution_count": 85
        },
        {
          "output_type": "display_data",
          "data": {
            "image/png": "[encoded data removed]",
            "text/plain": [
              "<Figure size 432x288 with 1 Axes>"
            ]
          },
          "metadata": {
            "tags": []
          }
        }
      ]
    },
    {
      "cell_type": "code",
      "metadata": {
        "id": "mO5rzGPhi8ku",
        "colab_type": "code",
        "colab": {}
      },
      "source": [
        "# we will create convolutional filter using keras.layers.Conv2D class\n",
        "from keras.layers import Conv2D\n",
        "\n",
        "conv_filter = Sequential()\n",
        "##TODO\n",
        "# add one convolutional layer that will be a single filter of kernel size = 3\n",
        "# use 'valid' padding and set the name parameter as 'convolution'\n",
        "# remember to set input_shape (but now it will be 3-dimensional)\n",
        "conv_filter.add(Conv2D(filters =1, kernel_size=3, padding = 'valid', input_shape = (32, 32, 1), name = 'convolution'))"
      ],
      "execution_count": 0,
      "outputs": []
    },
    {
      "cell_type": "code",
      "metadata": {
        "id": "mhKq7wUuY385",
        "colab_type": "code",
        "colab": {}
      },
      "source": [
        "# reshape example_img_gray to include also batch size\n",
        "example_img_gray = example_img_gray.reshape(1, 32, 32, 1)"
      ],
      "execution_count": 0,
      "outputs": []
    },
    {
      "cell_type": "code",
      "metadata": {
        "id": "yAc2rq_VSpA-",
        "colab_type": "code",
        "outputId": "a1731b46-3dfb-48f8-887a-4b25b0f55839",
        "colab": {
          "base_uri": "https://localhost:8080/",
          "height": 283
        }
      },
      "source": [
        "# display how conv_filter changes image\n",
        "result = conv_filter.predict(example_img_gray).reshape(30, 30)\n",
        "plt.imshow(result, cmap='gray')"
      ],
      "execution_count": 0,
      "outputs": [
        {
          "output_type": "execute_result",
          "data": {
            "text/plain": [
              "<matplotlib.image.AxesImage at 0x7f9c638397f0>"
            ]
          },
          "metadata": {
            "tags": []
          },
          "execution_count": 91
        },
        {
          "output_type": "display_data",
          "data": {
            "image/png": "[encoded data removed]",
            "text/plain": [
              "<Figure size 432x288 with 1 Axes>"
            ]
          },
          "metadata": {
            "tags": []
          }
        }
      ]
    },
    {
      "cell_type": "code",
      "metadata": {
        "id": "54WNMsaacDSm",
        "colab_type": "code",
        "outputId": "bf4e0d60-c9b3-4d10-9fa4-e9520725fda6",
        "colab": {
          "base_uri": "https://localhost:8080/",
          "height": 340
        }
      },
      "source": [
        "# print conv_filter weights\n",
        "conv_filter.get_layer(name='convolution').get_weights()"
      ],
      "execution_count": 0,
      "outputs": [
        {
          "output_type": "execute_result",
          "data": {
            "text/plain": [
              "[array([[[[-0.353295  ]],\n",
              " \n",
              "         [[-0.5370463 ]],\n",
              " \n",
              "         [[-0.259802  ]]],\n",
              " \n",
              " \n",
              "        [[[-0.5094315 ]],\n",
              " \n",
              "         [[ 0.28158098]],\n",
              " \n",
              "         [[-0.13432029]]],\n",
              " \n",
              " \n",
              "        [[[ 0.09135801]],\n",
              " \n",
              "         [[ 0.03890461]],\n",
              " \n",
              "         [[ 0.00197238]]]], dtype=float32), array([0.], dtype=float32)]"
            ]
          },
          "metadata": {
            "tags": []
          },
          "execution_count": 79
        }
      ]
    },
    {
      "cell_type": "code",
      "metadata": {
        "id": "2JqHX1QLdsy2",
        "colab_type": "code",
        "colab": {}
      },
      "source": [
        "# let's define custom kernel! \n",
        "# Some of useful kernel patterns are presented here: \n",
        "# https://en.wikipedia.org/wiki/Kernel_(image_processing)\n",
        "# ofc you can define your own values\n",
        "# for the example, I'll use edge detection kernel\n",
        "kernel = np.array([\n",
        "                   [0, 1, 0], \n",
        "                   [1, -4, 1],\n",
        "                   [0, 1, 0]\n",
        "])\n",
        "\n",
        "# as you can see above, extracted parameters from Conv2D layer are a list\n",
        "# The list has two elements:\n",
        "\n",
        "# first one is actual convolutional kernel of shape (k, k, n, m)\n",
        "# where k is a kernel size\n",
        "# n is number of channels in previous layer\n",
        "# m is number of channels in actual layer\n",
        "\n",
        "# the second element of Conv2D parameters list is just a bias parameter\n",
        "# we will set it to 0. for the experiment\n",
        "kernel = [kernel.reshape(3, 3, 1, 1), np.array([0.])]"
      ],
      "execution_count": 0,
      "outputs": []
    },
    {
      "cell_type": "code",
      "metadata": {
        "id": "2Y8dxTS2U-f8",
        "colab_type": "code",
        "colab": {}
      },
      "source": [
        "conv_filter.get_layer(name='convolution').set_weights(kernel)"
      ],
      "execution_count": 0,
      "outputs": []
    },
    {
      "cell_type": "code",
      "metadata": {
        "id": "d6Cwn9iDVfYi",
        "colab_type": "code",
        "colab": {}
      },
      "source": [
        "conv_filter.get_layer(name='convolution').get_weights()"
      ],
      "execution_count": 0,
      "outputs": []
    },
    {
      "cell_type": "code",
      "metadata": {
        "id": "G1M93XkKV3Ks",
        "colab_type": "code",
        "outputId": "1b91acea-9cb4-4989-8f54-91ef1be514d4",
        "colab": {
          "base_uri": "https://localhost:8080/",
          "height": 283
        }
      },
      "source": [
        "# display image processed by your custom filter\n",
        "result = conv_filter.predict(example_img_gray).reshape(30, 30)\n",
        "plt.imshow(result, cmap='gray')"
      ],
      "execution_count": 0,
      "outputs": [
        {
          "output_type": "execute_result",
          "data": {
            "text/plain": [
              "<matplotlib.image.AxesImage at 0x7f9c504bf518>"
            ]
          },
          "metadata": {
            "tags": []
          },
          "execution_count": 92
        },
        {
          "output_type": "display_data",
          "data": {
            "image/png": "[encoded data removed]",
            "text/plain": [
              "<Figure size 432x288 with 1 Axes>"
            ]
          },
          "metadata": {
            "tags": []
          }
        }
      ]
    },
    {
      "cell_type": "markdown",
      "metadata": {
        "id": "mOdlwJxwFm3a",
        "colab_type": "text"
      },
      "source": [
        "# LeNet\n",
        "![alt text](https://miro.medium.com/max/1700/1*AwJZkWLKabIicUPzSN6KCg.png)"
      ]
    },
    {
      "cell_type": "code",
      "metadata": {
        "id": "SdE7r6bcFgAe",
        "colab_type": "code",
        "colab": {}
      },
      "source": [
        "from keras.layers.pooling import MaxPool2D\n",
        "from keras.layers import Flatten\n",
        "import keras.layers as layers\n",
        "# build your LeNet model !\n",
        "\n",
        "LeNet = Sequential()\n",
        "##TODO\n",
        "\n",
        "LeNet.add(layers.Conv2D(filters=6, kernel_size=5, activation='relu', input_shape=(32,32,3)))\n",
        "LeNet.add(layers.AveragePooling2D())\n",
        "\n",
        "LeNet.add(layers.Conv2D(filters=16, kernel_size=5, activation='relu'))\n",
        "LeNet.add(layers.AveragePooling2D())\n",
        "\n",
        "LeNet.add(layers.Flatten())\n",
        "\n",
        "LeNet.add(layers.Dense(units=120, activation='relu'))\n",
        "LeNet.add(layers.Dense(units=84, activation='relu'))\n",
        "LeNet.add(layers.Dense(units=10, activation = 'softmax'))"
      ],
      "execution_count": 0,
      "outputs": []
    },
    {
      "cell_type": "code",
      "metadata": {
        "id": "qQW9H0wUKQMy",
        "colab_type": "code",
        "outputId": "20727aa1-248e-483f-a3ab-1106cdf04521",
        "colab": {
          "base_uri": "https://localhost:8080/",
          "height": 425
        }
      },
      "source": [
        "# print summary of your ConvNet\n",
        "LeNet.summary()"
      ],
      "execution_count": 0,
      "outputs": [
        {
          "output_type": "stream",
          "text": [
            "Model: \"sequential_26\"\n",
            "_________________________________________________________________\n",
            "Layer (type)                 Output Shape              Param #   \n",
            "=================================================================\n",
            "conv2d_15 (Conv2D)           (None, 28, 28, 6)         456       \n",
            "_________________________________________________________________\n",
            "average_pooling2d_14 (Averag (None, 14, 14, 6)         0         \n",
            "_________________________________________________________________\n",
            "conv2d_16 (Conv2D)           (None, 10, 10, 16)        2416      \n",
            "_________________________________________________________________\n",
            "average_pooling2d_15 (Averag (None, 5, 5, 16)          0         \n",
            "_________________________________________________________________\n",
            "flatten_7 (Flatten)          (None, 400)               0         \n",
            "_________________________________________________________________\n",
            "dense_29 (Dense)             (None, 120)               48120     \n",
            "_________________________________________________________________\n",
            "dense_30 (Dense)             (None, 84)                10164     \n",
            "_________________________________________________________________\n",
            "dense_31 (Dense)             (None, 10)                850       \n",
            "=================================================================\n",
            "Total params: 62,006\n",
            "Trainable params: 62,006\n",
            "Non-trainable params: 0\n",
            "_________________________________________________________________\n"
          ],
          "name": "stdout"
        }
      ]
    },
    {
      "cell_type": "code",
      "metadata": {
        "id": "7wacO2HaMOED",
        "colab_type": "code",
        "colab": {}
      },
      "source": [
        "# compile your model, using:\n",
        "# 1. Categorical crossentropy loss\n",
        "# 2. Accuracy metric\n",
        "# 3. Any optimizer you want (in most cases Adam provides good performance)\n",
        "from keras import losses\n",
        "\n",
        "LeNet.compile(loss=keras.losses.categorical_crossentropy, optimizer=Adam(), metrics=['accuracy'])"
      ],
      "execution_count": 0,
      "outputs": []
    },
    {
      "cell_type": "code",
      "metadata": {
        "id": "xlqIafvPOIIv",
        "colab_type": "code",
        "colab": {}
      },
      "source": [
        "# now use X_train as feature data (since it is not flattened)\n",
        "# do not flatten, keep 4 dimensions (#examples, width, height, #channels)\n",
        "# the only thing to do is to reduce the value range from (0; 255) to (0; 1)\n",
        "# last time we did the normalization for 'X_train_flat', not 'X_train'\n",
        "X_train = X_train /255."
      ],
      "execution_count": 0,
      "outputs": []
    },
    {
      "cell_type": "code",
      "metadata": {
        "id": "fHKOy2__Ojb_",
        "colab_type": "code",
        "colab": {}
      },
      "source": [
        "# if you still have 'y' variable saved as one hot encoded labels, keep going\n",
        "# otherwise just run this cell\n",
        "y = keras.utils.to_categorical(y_train)"
      ],
      "execution_count": 0,
      "outputs": []
    },
    {
      "cell_type": "code",
      "metadata": {
        "id": "jHCaG2bSN3eX",
        "colab_type": "code",
        "outputId": "0b79981d-2733-4b1d-dfc5-7efd5fb09f38",
        "colab": {
          "base_uri": "https://localhost:8080/",
          "height": 734
        }
      },
      "source": [
        "# now train your LeNet with the X_train and y\n",
        "# leave the rest of parameters the same (as for Dense), so you can compare\n",
        "# which network learns better\n",
        "LeNet.fit(X_train, y, batch_size= 32,epochs = 20, validation_split=  0.3)\n",
        "\n",
        "dense_network2 = Sequential()\n",
        "##TODO build your dense network !\n",
        "dense_network2.add(Dense(10, input_dim= (3072), activation = 'softmax'))"
      ],
      "execution_count": 0,
      "outputs": [
        {
          "output_type": "stream",
          "text": [
            "Train on 35000 samples, validate on 15000 samples\n",
            "Epoch 1/20\n",
            "35000/35000 [==============================] - 7s 188us/step - loss: 1.5856 - acc: 0.4321 - val_loss: 1.6059 - val_acc: 0.4261\n",
            "Epoch 2/20\n",
            "35000/35000 [==============================] - 7s 190us/step - loss: 1.5655 - acc: 0.4390 - val_loss: 1.5795 - val_acc: 0.4367\n",
            "Epoch 3/20\n",
            "35000/35000 [==============================] - 7s 196us/step - loss: 1.5439 - acc: 0.4470 - val_loss: 1.5712 - val_acc: 0.4373\n",
            "Epoch 4/20\n",
            "35000/35000 [==============================] - 7s 192us/step - loss: 1.5286 - acc: 0.4499 - val_loss: 1.5550 - val_acc: 0.4526\n",
            "Epoch 5/20\n",
            "35000/35000 [==============================] - 7s 198us/step - loss: 1.5155 - acc: 0.4581 - val_loss: 1.5649 - val_acc: 0.4448\n",
            "Epoch 6/20\n",
            "35000/35000 [==============================] - 7s 186us/step - loss: 1.4995 - acc: 0.4631 - val_loss: 1.5474 - val_acc: 0.4520\n",
            "Epoch 7/20\n",
            "35000/35000 [==============================] - 6s 185us/step - loss: 1.4864 - acc: 0.4670 - val_loss: 1.5282 - val_acc: 0.4583\n",
            "Epoch 8/20\n",
            "35000/35000 [==============================] - 6s 184us/step - loss: 1.4749 - acc: 0.4727 - val_loss: 1.5257 - val_acc: 0.4611\n",
            "Epoch 9/20\n",
            "35000/35000 [==============================] - 6s 182us/step - loss: 1.4605 - acc: 0.4766 - val_loss: 1.5150 - val_acc: 0.4653\n",
            "Epoch 10/20\n",
            "35000/35000 [==============================] - 6s 182us/step - loss: 1.4513 - acc: 0.4789 - val_loss: 1.5313 - val_acc: 0.4566\n",
            "Epoch 11/20\n",
            "35000/35000 [==============================] - 6s 184us/step - loss: 1.4425 - acc: 0.4848 - val_loss: 1.5175 - val_acc: 0.4612\n",
            "Epoch 12/20\n",
            "35000/35000 [==============================] - 7s 186us/step - loss: 1.4306 - acc: 0.4892 - val_loss: 1.5147 - val_acc: 0.4642\n",
            "Epoch 13/20\n",
            "35000/35000 [==============================] - 7s 186us/step - loss: 1.4229 - acc: 0.4925 - val_loss: 1.5041 - val_acc: 0.4691\n",
            "Epoch 14/20\n",
            "35000/35000 [==============================] - 7s 189us/step - loss: 1.4101 - acc: 0.4938 - val_loss: 1.5023 - val_acc: 0.4669\n",
            "Epoch 15/20\n",
            "35000/35000 [==============================] - 6s 183us/step - loss: 1.4026 - acc: 0.4980 - val_loss: 1.4981 - val_acc: 0.4685\n",
            "Epoch 16/20\n",
            "35000/35000 [==============================] - 6s 185us/step - loss: 1.3948 - acc: 0.5032 - val_loss: 1.4820 - val_acc: 0.4750\n",
            "Epoch 17/20\n",
            "35000/35000 [==============================] - 6s 183us/step - loss: 1.3881 - acc: 0.5044 - val_loss: 1.4774 - val_acc: 0.4787\n",
            "Epoch 18/20\n",
            "35000/35000 [==============================] - 6s 182us/step - loss: 1.3808 - acc: 0.5077 - val_loss: 1.4933 - val_acc: 0.4703\n",
            "Epoch 19/20\n",
            "35000/35000 [==============================] - 6s 180us/step - loss: 1.3711 - acc: 0.5107 - val_loss: 1.5042 - val_acc: 0.4671\n",
            "Epoch 20/20\n",
            "35000/35000 [==============================] - 6s 180us/step - loss: 1.3663 - acc: 0.5099 - val_loss: 1.4695 - val_acc: 0.4811\n"
          ],
          "name": "stdout"
        }
      ]
    },
    {
      "cell_type": "code",
      "metadata": {
        "id": "gtGjxhP3rJ5d",
        "colab_type": "code",
        "outputId": "5d0a2c4d-0319-4225-f5b1-ba5c2a0667d4",
        "colab": {
          "base_uri": "https://localhost:8080/",
          "height": 193
        }
      },
      "source": [
        ""
      ],
      "execution_count": 0,
      "outputs": [
        {
          "output_type": "stream",
          "text": [
            "Predicted label: 3\n",
            "Actual label: 0.0\n"
          ],
          "name": "stdout"
        },
        {
          "output_type": "display_data",
          "data": {
            "image/png": "[encoded data removed]",
            "text/plain": [
              "<Figure size 144x144 with 1 Axes>"
            ]
          },
          "metadata": {
            "tags": []
          }
        }
      ]
    },
    {
      "cell_type": "markdown",
      "metadata": {
        "id": "LzkTRPwnrKHx",
        "colab_type": "text"
      },
      "source": [
        ""
      ]
    },
    {
      "cell_type": "code",
      "metadata": {
        "id": "NMWBDpyTSr2i",
        "colab_type": "code",
        "colab": {}
      },
      "source": [
        "# rerun this cell to show random predictions\n",
        "show_random_prediction(X_train, y_train, LeNet)"
      ],
      "execution_count": 0,
      "outputs": []
    },
    {
      "cell_type": "markdown",
      "metadata": {
        "id": "2LZko2G3UzvP",
        "colab_type": "text"
      },
      "source": [
        "# Inception\n",
        "![alt text](https://miro.medium.com/max/1920/1*gqKM5V-uo2sMFFPDS84yJw.png)"
      ]
    },
    {
      "cell_type": "code",
      "metadata": {
        "id": "lOU-qO6CS4v_",
        "colab_type": "code",
        "colab": {}
      },
      "source": [
        "from keras.applications.inception_v3 import InceptionV3\n",
        "from matplotlib.image import imread\n",
        "from cv2 import resize, flip"
      ],
      "execution_count": 0,
      "outputs": []
    },
    {
      "cell_type": "markdown",
      "metadata": {
        "id": "zoWs5adLddRh",
        "colab_type": "text"
      },
      "source": [
        "# Data preparation"
      ]
    },
    {
      "cell_type": "markdown",
      "metadata": {
        "id": "-TSJkKvreAHd",
        "colab_type": "text"
      },
      "source": [
        "For higher-resolution images example I've prepared dataset from Kaggle: https://www.kaggle.com/slothkong/10-monkey-species.\n",
        "The dataset contains ~1.5k images of 10 monkey species. Code below preprocess this images to feed and fine-tune Inception for monkey classification task.\n",
        "\n",
        "Ofc you can use your own idea for fine-tuning task. Feel free to improvise, otherwise you can play with the code below."
      ]
    },
    {
      "cell_type": "code",
      "metadata": {
        "id": "j26qg9pRpC0O",
        "colab_type": "code",
        "outputId": "0073c2eb-25e4-4f32-d838-1f45506325c0",
        "colab": {
          "base_uri": "https://localhost:8080/",
          "height": 153
        }
      },
      "source": [
        "! git clone https://github.com/Drpulti/monkey_images.git"
      ],
      "execution_count": 0,
      "outputs": [
        {
          "output_type": "stream",
          "text": [
            "Cloning into 'monkey_images'...\n",
            "remote: Enumerating objects: 5, done.\u001b[K\n",
            "remote: Counting objects: 100% (5/5), done.\u001b[K\n",
            "remote: Compressing objects: 100% (5/5), done.\u001b[K\n",
            "remote: Total 1304 (delta 0), reused 2 (delta 0), pack-reused 1299\u001b[K\n",
            "Receiving objects: 100% (1304/1304), 500.01 MiB | 14.74 MiB/s, done.\n",
            "Resolving deltas: 100% (2/2), done.\n",
            "Checking out files: 100% (1373/1373), done.\n"
          ],
          "name": "stdout"
        }
      ]
    },
    {
      "cell_type": "code",
      "metadata": {
        "colab_type": "code",
        "id": "2YDwN-wdZJLd",
        "colab": {}
      },
      "source": [
        "import pandas as pd\n",
        "monkey_labels = pd.read_csv('monkey_images/monkey_labels.txt')"
      ],
      "execution_count": 0,
      "outputs": []
    },
    {
      "cell_type": "code",
      "metadata": {
        "id": "wW0xWHd7LGJt",
        "colab_type": "code",
        "colab": {}
      },
      "source": [
        "# this DataFrame needs some preprocessing because it's messy\n",
        "monkey_labels.iloc[:, 0] = monkey_labels.iloc[:, 0].apply(lambda x: x.split()[0])\n",
        "monkey_labels.iloc[:, 2] = monkey_labels.iloc[:, 2].apply(lambda x: x.split()[0])"
      ],
      "execution_count": 0,
      "outputs": []
    },
    {
      "cell_type": "code",
      "metadata": {
        "id": "ipCWvm9FKuJ8",
        "colab_type": "code",
        "colab": {}
      },
      "source": [
        "labels_dict = dict(zip(monkey_labels.iloc[:, 0], monkey_labels.iloc[:, 2]))\n",
        "labels_ids = dict(zip(monkey_labels.iloc[:, 0], range(len(monkey_labels))))"
      ],
      "execution_count": 0,
      "outputs": []
    },
    {
      "cell_type": "code",
      "metadata": {
        "id": "u3RxNHjPekuQ",
        "colab_type": "code",
        "colab": {}
      },
      "source": [
        "def crop_and_resize(img, width, height):\n",
        "  w, h, c = img.shape\n",
        "  if w-h == 0:\n",
        "    return resize(img, (width, height))\n",
        "  if w > h:\n",
        "    diff = w-h\n",
        "    img = img[diff//2:-diff//2, :, :]\n",
        "  else:\n",
        "    diff = h-w\n",
        "    img = img[:, diff//2:-diff//2, :]\n",
        "  return resize(img, (width, height))"
      ],
      "execution_count": 0,
      "outputs": []
    },
    {
      "cell_type": "code",
      "metadata": {
        "id": "eAkqc0yxdaEN",
        "colab_type": "code",
        "outputId": "46d2f06a-b3ad-493f-db26-a94297d472e7",
        "colab": {
          "base_uri": "https://localhost:8080/",
          "height": 187
        }
      },
      "source": [
        "# target image resolution would be (299, 299). It's the inception's input size\n",
        "width = 299\n",
        "height = 299\n",
        "train_path = 'monkey_images/training/training/'\n",
        "\n",
        "# placeholders for image data and labels\n",
        "images = []\n",
        "labels = []\n",
        "\n",
        "for directory in os.listdir(train_path):\n",
        "  print(directory)\n",
        "  for img in os.listdir(train_path + directory):\n",
        "    img = imread(train_path + directory + '/' + img)\n",
        "    img = crop_and_resize(img, width, height)\n",
        "    images.append(img)\n",
        "    labels.append(labels_ids[directory])\n",
        "\n",
        "    # add also mirrored version of training image, to increase image pool size\n",
        "    images.append(flip(img, 1))\n",
        "    labels.append(labels_ids[directory])"
      ],
      "execution_count": 0,
      "outputs": [
        {
          "output_type": "stream",
          "text": [
            "n5\n",
            "n3\n",
            "n6\n",
            "n1\n",
            "n2\n",
            "n8\n",
            "n0\n",
            "n9\n",
            "n7\n",
            "n4\n"
          ],
          "name": "stdout"
        }
      ]
    },
    {
      "cell_type": "code",
      "metadata": {
        "id": "kJyBBspmTbQI",
        "colab_type": "code",
        "outputId": "28369cb5-3e57-4823-9c50-5da994fe134a",
        "colab": {
          "base_uri": "https://localhost:8080/",
          "height": 187
        }
      },
      "source": [
        "# load validation images, this time we won't augment the data\n",
        "# it would corrupt the results\n",
        "validation_path = 'monkey_images/validation/validation/'\n",
        "val_images = []\n",
        "val_labels = []\n",
        "\n",
        "for directory in os.listdir(validation_path):\n",
        "  print(directory)\n",
        "  for img in os.listdir(validation_path + directory):\n",
        "    img = imread(validation_path + directory + '/' + img)\n",
        "    img = crop_and_resize(img, width, height)\n",
        "    val_images.append(img)\n",
        "    val_labels.append(labels_ids[directory])"
      ],
      "execution_count": 0,
      "outputs": [
        {
          "output_type": "stream",
          "text": [
            "n5\n",
            "n3\n",
            "n6\n",
            "n1\n",
            "n2\n",
            "n8\n",
            "n0\n",
            "n9\n",
            "n7\n",
            "n4\n"
          ],
          "name": "stdout"
        }
      ]
    },
    {
      "cell_type": "code",
      "metadata": {
        "id": "fiSZFKayehkh",
        "colab_type": "code",
        "colab": {}
      },
      "source": [
        "images = np.array(images)\n",
        "labels = np.array(labels).reshape(-1, 1)\n",
        "\n",
        "val_images = np.array(val_images)\n",
        "val_labels = np.array(val_labels).reshape(-1, 1)"
      ],
      "execution_count": 0,
      "outputs": []
    },
    {
      "cell_type": "code",
      "metadata": {
        "id": "t0lJatrkNztv",
        "colab_type": "code",
        "colab": {}
      },
      "source": [
        "images = images / 255.\n",
        "labels = to_categorical(labels)\n",
        "\n",
        "val_images = val_images / 255.\n",
        "val_labels = to_categorical(val_labels)"
      ],
      "execution_count": 0,
      "outputs": []
    },
    {
      "cell_type": "code",
      "metadata": {
        "id": "Vc_5W29NPuon",
        "colab_type": "code",
        "colab": {}
      },
      "source": [
        "from sklearn.utils import shuffle\n",
        "images, labels = shuffle(images, labels)"
      ],
      "execution_count": 0,
      "outputs": []
    },
    {
      "cell_type": "markdown",
      "metadata": {
        "id": "d6ZZBErhQDjM",
        "colab_type": "text"
      },
      "source": [
        "# Inception fine-tuning"
      ]
    },
    {
      "cell_type": "code",
      "metadata": {
        "id": "pCVAKLFFP_1J",
        "colab_type": "code",
        "outputId": "b523336d-02ec-41f5-8a12-1a3b23ba26b2",
        "colab": {
          "base_uri": "https://localhost:8080/",
          "height": 71
        }
      },
      "source": [
        "inception = InceptionV3(include_top=False, \n",
        "                        weights='imagenet', \n",
        "                        input_shape=(299, 299, 3))\n",
        "\n",
        "# freeze most of the Inception layers, leave only the last ones as 'Trainable'\n",
        "for layer in inception.layers[:-5]:\n",
        "  layer.trainable = False"
      ],
      "execution_count": 0,
      "outputs": [
        {
          "output_type": "stream",
          "text": [
            "Downloading data from https://github.com/fchollet/deep-learning-models/releases/download/v0.5/inception_v3_weights_tf_dim_ordering_tf_kernels_notop.h5\n",
            "87916544/87910968 [==============================] - 8s 0us/step\n"
          ],
          "name": "stdout"
        }
      ]
    },
    {
      "cell_type": "code",
      "metadata": {
        "id": "HyKab2K0QWN1",
        "colab_type": "code",
        "colab": {}
      },
      "source": [
        "# uncomment if you want to print Inception layers\n",
        "# inception.summary()"
      ],
      "execution_count": 0,
      "outputs": []
    },
    {
      "cell_type": "code",
      "metadata": {
        "id": "aQjuu8dxQnM9",
        "colab_type": "code",
        "colab": {}
      },
      "source": [
        "custom_inception = Sequential()\n",
        "custom_inception.add(inception)\n",
        "custom_inception.add(Flatten())\n",
        "custom_inception.add(Dense(10, activation='softmax'))"
      ],
      "execution_count": 0,
      "outputs": []
    },
    {
      "cell_type": "code",
      "metadata": {
        "id": "ascrWbUFR3p9",
        "colab_type": "code",
        "outputId": "d80ce405-28df-4094-8e72-1263c662a4b9",
        "colab": {
          "base_uri": "https://localhost:8080/",
          "height": 255
        }
      },
      "source": [
        "custom_inception.summary()"
      ],
      "execution_count": 0,
      "outputs": [
        {
          "output_type": "stream",
          "text": [
            "Model: \"sequential_29\"\n",
            "_________________________________________________________________\n",
            "Layer (type)                 Output Shape              Param #   \n",
            "=================================================================\n",
            "inception_v3 (Model)         (None, 8, 8, 2048)        21802784  \n",
            "_________________________________________________________________\n",
            "flatten_8 (Flatten)          (None, 131072)            0         \n",
            "_________________________________________________________________\n",
            "dense_34 (Dense)             (None, 10)                1310730   \n",
            "=================================================================\n",
            "Total params: 23,113,514\n",
            "Trainable params: 1,310,730\n",
            "Non-trainable params: 21,802,784\n",
            "_________________________________________________________________\n"
          ],
          "name": "stdout"
        }
      ]
    },
    {
      "cell_type": "code",
      "metadata": {
        "id": "MHmUesyeQu_7",
        "colab_type": "code",
        "colab": {}
      },
      "source": [
        "custom_inception.compile(optimizer=Adam(), loss='categorical_crossentropy', metrics=['accuracy'])"
      ],
      "execution_count": 0,
      "outputs": []
    },
    {
      "cell_type": "code",
      "metadata": {
        "id": "ajisdIQIREa5",
        "colab_type": "code",
        "outputId": "7227d2a7-5e6d-42c5-efea-066bf2a3d4be",
        "colab": {
          "base_uri": "https://localhost:8080/",
          "height": 751
        }
      },
      "source": [
        "custom_inception.fit(x=images, y=labels, batch_size=16, epochs=20, validation_data=(val_images, val_labels))"
      ],
      "execution_count": 0,
      "outputs": [
        {
          "output_type": "stream",
          "text": [
            "Train on 2196 samples, validate on 272 samples\n",
            "Epoch 1/20\n",
            "2196/2196 [==============================] - 25s 11ms/step - loss: 12.8375 - acc: 0.1935 - val_loss: 13.9252 - val_acc: 0.1287\n",
            "Epoch 2/20\n",
            "2196/2196 [==============================] - 17s 8ms/step - loss: 13.0296 - acc: 0.1885 - val_loss: 11.6620 - val_acc: 0.2684\n",
            "Epoch 3/20\n",
            "2196/2196 [==============================] - 17s 8ms/step - loss: 11.7908 - acc: 0.2646 - val_loss: 11.2628 - val_acc: 0.2978\n",
            "Epoch 4/20\n",
            "2196/2196 [==============================] - 17s 8ms/step - loss: 11.3086 - acc: 0.2964 - val_loss: 11.2202 - val_acc: 0.3015\n",
            "Epoch 5/20\n",
            "2196/2196 [==============================] - 17s 8ms/step - loss: 11.2841 - acc: 0.2964 - val_loss: 10.6901 - val_acc: 0.3309\n",
            "Epoch 6/20\n",
            "2196/2196 [==============================] - 17s 8ms/step - loss: 10.3556 - acc: 0.3543 - val_loss: 9.7577 - val_acc: 0.3934\n",
            "Epoch 7/20\n",
            "2196/2196 [==============================] - 17s 8ms/step - loss: 9.9366 - acc: 0.3816 - val_loss: 9.5997 - val_acc: 0.4044\n",
            "Epoch 8/20\n",
            "2196/2196 [==============================] - 17s 8ms/step - loss: 9.8714 - acc: 0.3852 - val_loss: 9.6486 - val_acc: 0.4007\n",
            "Epoch 9/20\n",
            "2196/2196 [==============================] - 17s 8ms/step - loss: 9.8212 - acc: 0.3893 - val_loss: 9.7325 - val_acc: 0.3934\n",
            "Epoch 10/20\n",
            "2196/2196 [==============================] - 17s 8ms/step - loss: 10.0021 - acc: 0.3761 - val_loss: 9.6285 - val_acc: 0.4007\n",
            "Epoch 11/20\n",
            "2196/2196 [==============================] - 17s 8ms/step - loss: 9.8799 - acc: 0.3857 - val_loss: 9.5997 - val_acc: 0.4044\n",
            "Epoch 12/20\n",
            "2196/2196 [==============================] - 17s 8ms/step - loss: 8.8329 - acc: 0.4495 - val_loss: 9.5990 - val_acc: 0.4044\n",
            "Epoch 13/20\n",
            "2196/2196 [==============================] - 17s 8ms/step - loss: 8.4455 - acc: 0.4740 - val_loss: 9.4892 - val_acc: 0.4081\n",
            "Epoch 14/20\n",
            "2196/2196 [==============================] - 17s 8ms/step - loss: 8.5539 - acc: 0.4672 - val_loss: 8.5924 - val_acc: 0.4669\n",
            "Epoch 15/20\n",
            "2196/2196 [==============================] - 17s 8ms/step - loss: 8.3197 - acc: 0.4809 - val_loss: 8.5161 - val_acc: 0.4669\n",
            "Epoch 16/20\n",
            "2196/2196 [==============================] - 17s 8ms/step - loss: 8.3607 - acc: 0.4795 - val_loss: 9.1850 - val_acc: 0.4301\n",
            "Epoch 17/20\n",
            "2196/2196 [==============================] - 17s 8ms/step - loss: 8.2278 - acc: 0.4886 - val_loss: 9.2855 - val_acc: 0.4228\n",
            "Epoch 18/20\n",
            "2196/2196 [==============================] - 17s 8ms/step - loss: 8.4243 - acc: 0.4736 - val_loss: 8.3203 - val_acc: 0.4779\n",
            "Epoch 19/20\n",
            "2196/2196 [==============================] - 17s 8ms/step - loss: 8.1201 - acc: 0.4936 - val_loss: 8.4417 - val_acc: 0.4669\n",
            "Epoch 20/20\n",
            "2196/2196 [==============================] - 17s 8ms/step - loss: 7.5244 - acc: 0.5296 - val_loss: 7.7654 - val_acc: 0.5147\n"
          ],
          "name": "stdout"
        },
        {
          "output_type": "execute_result",
          "data": {
            "text/plain": [
              "<keras.callbacks.History at 0x7f9be68a3ba8>"
            ]
          },
          "metadata": {
            "tags": []
          },
          "execution_count": 140
        }
      ]
    },
    {
      "cell_type": "code",
      "metadata": {
        "id": "20f28Nk3SfqZ",
        "colab_type": "code",
        "outputId": "8057ab34-e809-4c32-bce8-c56a5b8c05a1",
        "colab": {
          "base_uri": "https://localhost:8080/",
          "height": 194
        }
      },
      "source": [
        "show_random_prediction(images, labels, custom_inception)"
      ],
      "execution_count": 0,
      "outputs": [
        {
          "output_type": "stream",
          "text": [
            "Predicted label: 4\n",
            "Actual label: 0.0\n"
          ],
          "name": "stdout"
        },
        {
          "output_type": "display_data",
          "data": {
            "image/png": "[encoded data removed]",
            "text/plain": [
              "<Figure size 144x144 with 1 Axes>"
            ]
          },
          "metadata": {
            "tags": []
          }
        }
      ]
    }
  ]
}