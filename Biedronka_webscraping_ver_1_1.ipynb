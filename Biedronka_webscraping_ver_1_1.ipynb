{
  "nbformat": 4,
  "nbformat_minor": 0,
  "metadata": {
    "colab": {
      "name": "Biedronka webscraping ver. 1.1.ipynb",
      "provenance": [],
      "authorship_tag": "ABX9TyNV1l4D5CQPagB/ISmRFN6E",
      "include_colab_link": true
    },
    "kernelspec": {
      "name": "python3",
      "display_name": "Python 3"
    }
  },
  "cells": [
    {
      "cell_type": "markdown",
      "metadata": {
        "id": "view-in-github",
        "colab_type": "text"
      },
      "source": [
        "<a href=\"https://colab.research.google.com/github/coyens/Python/blob/master/Biedronka_webscraping_ver_1_1.ipynb\" target=\"_parent\"><img src=\"https://colab.research.google.com/assets/colab-badge.svg\" alt=\"Open In Colab\"/></a>"
      ]
    },
    {
      "cell_type": "markdown",
      "metadata": {
        "id": "5_O0qVhfafS5"
      },
      "source": [
        "###BIEDRONKA "
      ]
    },
    {
      "cell_type": "markdown",
      "metadata": {
        "id": "CgllYE9tRdHJ"
      },
      "source": [
        "\r\n",
        "\r\n",
        "W źródle danych występują braki w opisie miasta, takie rekordy zostaną odfiltrowane przed zapisem i przekazaniem do geokodowania.\r\n",
        "\r\n",
        "\r\n",
        "\r\n",
        "\r\n",
        "\r\n",
        "\r\n",
        "![image.png](data:image/png;base64,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)"
      ]
    },
    {
      "cell_type": "code",
      "metadata": {
        "id": "8e7VHmYKNY4W"
      },
      "source": [
        "import requests\r\n",
        "from bs4 import BeautifulSoup\r\n",
        "import pandas as pd\r\n",
        "from datetime import date\r\n",
        "import time\r\n",
        "from itertools import chain\r\n",
        "import numpy as np\r\n",
        "import re\r\n",
        "\r\n",
        "\r\n",
        "today = date.today()\r\n",
        "dzisiaj = today.strftime(\"%Y-%m-%d\")\r\n",
        "\r\n"
      ],
      "execution_count": 1,
      "outputs": []
    },
    {
      "cell_type": "code",
      "metadata": {
        "colab": {
          "base_uri": "https://localhost:8080/"
        },
        "id": "zP3daLzZNdya",
        "outputId": "31501264-ec6f-491a-913e-66a45f29e370"
      },
      "source": [
        "# Zrzut danych Biedronka i generowanie plików do zapisu - może potrwać kilka minuy\r\n",
        "\r\n",
        "#URL bazowe\r\n",
        "biedronka_url=\"https://www.biedronka.pl/pl/sklepy/lista,city,,page,\"\r\n",
        "\r\n",
        "# <DO EDYCJI> obecnie jest 157, warto dać więcej, by niczego nie uciąć.\r\n",
        "count_urls = 200\r\n",
        "\r\n",
        "# generuje linki z określeniem numeru podstrony\r\n",
        "generated_urls = list([f\"{biedronka_url}{pnum}\" for pnum in range(1, count_urls)])\r\n",
        "\r\n",
        "\r\n",
        "city_list =[]\r\n",
        "street_list = []\r\n",
        "city_list_clean =[]\r\n",
        "\r\n",
        "for page in generated_urls:\r\n",
        "  d={}\r\n",
        "  r=requests.get(page)\r\n",
        "  c=r.content\r\n",
        "  soup=BeautifulSoup(c,\"html.parser\")\r\n",
        "  # zrzut adresów\r\n",
        "  find_street =soup.find_all(\"span\",{\"class\":\"shopAddress\"})\r\n",
        "  street_list.append(find_street)\r\n",
        "  # zrzut miasta\r\n",
        "  find_city = soup.find_all(\"h4\",{\"style\":\"margin-bottom: 10px;\"})\r\n",
        "  city_list.append(find_city)\r\n",
        "# łączenie list\r\n",
        "city_list = list(chain(*city_list))   \r\n",
        "street_list = list(chain(*street_list))   \r\n",
        "city_df = pd.DataFrame(city_list)\r\n",
        "street_df = pd.DataFrame(street_list)\r\n",
        "# eliminacja białych znaków z DF\r\n",
        "for i in city_df[0]:\r\n",
        "  a =' '.join(i.split())\r\n",
        "  city_list_clean.append(a)\r\n",
        "# tworzenie DF wynikowego\r\n",
        "city_df_clean = pd.DataFrame(city_list_clean)\r\n",
        "biedronka_data = pd.concat([city_df_clean, street_df], ignore_index=False, axis=1, join=\"inner\")\r\n",
        "biedronka_data.columns =['city', 'street'] \r\n",
        "biedronka_data['address'] =  biedronka_data['city']+\", \"+ biedronka_data['street']\r\n",
        "biedronka_data = biedronka_data.drop_duplicates()\r\n",
        "# ignoruje ostrzeżenie\r\n",
        "np.warnings.filterwarnings('ignore', category=np.VisibleDeprecationWarning) \r\n",
        "print(\"Zrzut danych ze strony zakończony pomyślnie, pobrano \" + str(len(biedronka_data)) +\" obiektów.\")\r\n",
        "\r\n",
        "\r\n"
      ],
      "execution_count": 3,
      "outputs": [
        {
          "output_type": "stream",
          "text": [
            "Zrzut danych ze strony zakończony pomyślnie, pobrano 3128 obiektów.\n"
          ],
          "name": "stdout"
        }
      ]
    },
    {
      "cell_type": "markdown",
      "metadata": {
        "id": "8bs8iShHPQjN"
      },
      "source": [
        "Zapis danych do pliku '.xlsx'"
      ]
    },
    {
      "cell_type": "code",
      "metadata": {
        "colab": {
          "base_uri": "https://localhost:8080/"
        },
        "id": "1j-8WV6FNlNZ",
        "outputId": "ea84ef6e-9adb-4457-d486-d3014c6260b4"
      },
      "source": [
        "#Tutaj możesz zmienić nazwę pliku\r\n",
        "nazwa_pliku = 'Biedronka2 '\r\n",
        "\r\n",
        "biedronka_data_filter = biedronka_data.dropna()\r\n",
        "biedronka_data_filter= biedronka_data[(biedronka_data['city']!=\"\")&(biedronka_data['street']!=\"\")]\r\n",
        "\r\n",
        "\r\n",
        "biedronka_data_filter.to_excel(nazwa_pliku + dzisiaj + ' (' + str(len(biedronka_data_filter)) + ')' +  '.xlsx', index = False)\r\n",
        "print(\"Liczba wyfiltrowanych niepełnych adresów \" + (str((len(biedronka_data)) - (len(biedronka_data_filter)))))"
      ],
      "execution_count": 33,
      "outputs": [
        {
          "output_type": "stream",
          "text": [
            "Liczba wyfiltrowanych niepełnych adresów 4\n"
          ],
          "name": "stdout"
        }
      ]
    }
  ]
}