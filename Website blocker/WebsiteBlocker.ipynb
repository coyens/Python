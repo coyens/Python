{
  "nbformat": 4,
  "nbformat_minor": 0,
  "metadata": {
    "colab": {
      "name": "Untitled6.ipynb",
      "provenance": [],
      "toc_visible": true,
      "authorship_tag": "ABX9TyOyAdZNb8l6jo4vwTke0qPi",
      "include_colab_link": true
    },
    "kernelspec": {
      "name": "python3",
      "display_name": "Python 3"
    }
  },
  "cells": [
    {
      "cell_type": "markdown",
      "metadata": {
        "id": "view-in-github",
        "colab_type": "text"
      },
      "source": [
        "<a href=\"https://colab.research.google.com/github/coyens/Python/blob/master/Website%20blocker/WebsiteBlocker.ipynb\" target=\"_parent\"><img src=\"https://colab.research.google.com/assets/colab-badge.svg\" alt=\"Open In Colab\"/></a>"
      ]
    },
    {
      "cell_type": "code",
      "metadata": {
        "id": "viyaZN5GFpvy",
        "colab_type": "code",
        "colab": {}
      },
      "source": [
        "# -*- coding: utf-8 -*-\n",
        "\"\"\"\n",
        "Created on Sat Mar  7 14:28:33 2020\n",
        "\n",
        "@author: katarzyna.gorska\n",
        "\"\"\"\n",
        "import time\n",
        "from datetime import datetime as dt\n",
        "\n",
        "host_temp=r\"C:\\Users\\katarzyna.gorska\\Documents\\Python kurs\\hosts\"\n",
        "host_path=r\"C:\\Windows\\System32\\drivers\\etc\\hosts\"\n",
        "redirect=\"127.0.0.1\"\n",
        "website_list=[\"www.facebook.com\", \"facebook.com\", \"www.linkedin.com\", \"linedin.com\"]\n",
        "\n",
        "\n",
        "while True:\n",
        "    if dt(dt.now().year, dt.now().month,dt.now().day,16) < dt(dt.now().year, dt.now().month,dt.now().day,8):\n",
        "        print(\"Working hours...\")\n",
        "        with open(host_path,\"r+\") as file: #otwiera i zapisuje plik\n",
        "            content=file.read()\n",
        "            for website in website_list:\n",
        "                if website in content:\n",
        "                    pass\n",
        "                else:\n",
        "                    file.write(redirect+\" \"+ website+\"\\n\")\n",
        "    else:\n",
        "        with open(host_path,\"r+\") as file:\n",
        "            content=file.readlines()\n",
        "            file.seek(0)\n",
        "            for line in content:\n",
        "                if not any(website in line for website in website_list):\n",
        "                    file.write(line)\n",
        "                file.truncate()\n",
        "        print(\"Fun hours...\")\n",
        "    time.sleep(5)\n"
      ],
      "execution_count": 0,
      "outputs": []
    }
  ]
}