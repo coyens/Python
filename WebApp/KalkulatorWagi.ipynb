{
  "nbformat": 4,
  "nbformat_minor": 0,
  "metadata": {
    "colab": {
      "name": "Untitled7.ipynb",
      "provenance": [],
      "authorship_tag": "ABX9TyPe+dixNwZrNHrkYYgp/36W",
      "include_colab_link": true
    },
    "kernelspec": {
      "name": "python3",
      "display_name": "Python 3"
    }
  },
  "cells": [
    {
      "cell_type": "markdown",
      "metadata": {
        "id": "view-in-github",
        "colab_type": "text"
      },
      "source": [
        "<a href=\"https://colab.research.google.com/github/coyens/Python/blob/master/WebApp/KalkulatorWagi.ipynb\" target=\"_parent\"><img src=\"https://colab.research.google.com/assets/colab-badge.svg\" alt=\"Open In Colab\"/></a>"
      ]
    },
    {
      "cell_type": "code",
      "metadata": {
        "id": "E7saLPNuCRL_",
        "colab_type": "code",
        "colab": {}
      },
      "source": [
        "# -*- coding: utf-8 -*-\n",
        "\"\"\"\n",
        "Created on Fri Mar 13 13:04:03 2020\n",
        "\n",
        "@author: katarzyna.gorska\n",
        "\"\"\"\n",
        "\n",
        "from tkinter import *\n",
        "window=Tk()\n",
        "\n",
        "def km_to_miles():\n",
        "    miles = float(e1_value.get())* 1000\n",
        "    pounds = float(e1_value.get())* 2.2046\n",
        "    ounces = float(e1_value.get())* 35.274\n",
        "    t1.delete(\"1.0\", END)\n",
        "    t1.insert(END,miles)\n",
        "    t2.delete(\"1.0\", END)\n",
        "    t2.insert(END,pounds)\n",
        "    t3.delete(\"1.0\", END)\n",
        "    t3.insert(END,ounces)\n",
        "    \n",
        "\n",
        "\n",
        "b1=Button(window,text=\"Convert\", command = km_to_miles)\n",
        "b1.grid(row=0, column =3)\n",
        "\n",
        "e1_value=StringVar()\n",
        "e1=Entry( window, textvariable = e1_value)\n",
        "e1.grid(row=0, column =2)\n",
        "\n",
        "e2=Label(window,text=\"        Kg\")\n",
        "e2.grid(row=0,column=1)\n",
        "\n",
        "t1=Text(window, height=1, width=20)\n",
        "t1.grid(row=1,column = 1)\n",
        "\n",
        "t2=Text(window, height=1, width=20)\n",
        "t2.grid(row=1,column = 2)\n",
        "\n",
        "t3=Text(window, height=1, width=20)\n",
        "t3.grid(row=1,column = 3)\n",
        "\n",
        "window.mainloop()\n",
        "\n"
      ],
      "execution_count": 0,
      "outputs": []
    }
  ]
}