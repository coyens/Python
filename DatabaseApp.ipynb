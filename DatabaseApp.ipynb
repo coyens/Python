{
  "nbformat": 4,
  "nbformat_minor": 0,
  "metadata": {
    "colab": {
      "name": "Copy of Untitled10.ipynb",
      "provenance": [],
      "toc_visible": true,
      "authorship_tag": "ABX9TyP2mhkNiBehc6c9wr1O4tVO",
      "include_colab_link": true
    },
    "kernelspec": {
      "name": "python3",
      "display_name": "Python 3"
    }
  },
  "cells": [
    {
      "cell_type": "markdown",
      "metadata": {
        "id": "view-in-github",
        "colab_type": "text"
      },
      "source": [
        "<a href=\"https://colab.research.google.com/github/coyens/Python/blob/master/DatabaseApp.ipynb\" target=\"_parent\"><img src=\"https://colab.research.google.com/assets/colab-badge.svg\" alt=\"Open In Colab\"/></a>"
      ]
    },
    {
      "cell_type": "code",
      "metadata": {
        "id": "ArnsgTj0f7Um",
        "colab_type": "code",
        "outputId": "56191035-981a-4fc7-f518-a76a9bc202a7",
        "colab": {
          "base_uri": "https://localhost:8080/",
          "height": 132
        }
      },
      "source": [
        "import sqlite3\n",
        "import psycopg2\n",
        "\n",
        "def create_table():\n",
        "    conn=psycopg2.connect(\"dbname='database1', user='postgres',password='postgres123',host='localhost', port ='5432'\")\n",
        "    cur=conn.cursor()\n",
        "    cur.execute(\"CREATE TABLE IF NOT EXISTS store (item TEXT, quantity INTEGER, price REAL)\")\n",
        "    conn.commit()\n",
        "    conn.close()\n",
        "\n",
        "def insert(item, quantity, price):\n",
        "    conn=psycopg2.connect(\"dbname='database1', user='postgres',password='postgres123',host='localhost', port ='5432'\")\n",
        "    cur=conn.cursor()\n",
        "    #cur.execute(\"INSERT INTO store VALUES('%s','%s','%s')\" % (item, quantity, price))\n",
        "    cur.execute(\"INSERT INTO store VALUES('%s','%s','%s')\", % (item, quantity, price))\n",
        "    conn.commit()\n",
        "    conn.close()\n",
        "\n",
        "#insert(\"Cofee\", 10,5)\n",
        "\n",
        "def view():\n",
        "    conn=psycopg2.connect(\"dbname='database1', user='postgres',password='postgres123',host='localhost', port ='5432'\")\n",
        "    cur=conn.cursor()\n",
        "    cur.execute(\"SELECT * FROM store\")\n",
        "    rows=cur.fetchall()\n",
        "    conn.close()\n",
        "    return rows\n",
        "\n",
        "#print(view())\n",
        "\n",
        "def delete(item):\n",
        "    conn=psycopg2.connect(\"dbname='database1', user='postgres',password='postgres123',host='localhost', port ='5432'\")\n",
        "    cur=conn.cursor()\n",
        "    cur.execute(\"DELETE FROM store WHERE item=?\",(item,)) # ważny przecinek na końcu,\n",
        "    conn.commit()\n",
        "    conn.close()\n",
        "\n",
        "#delete(\"Cofee\")\n",
        "\n",
        "def update(item):\n",
        "    conn=psycopg2.connect(\"dbname='database1', user='postgres',password='postgres123',host='localhost', port ='5432'\")\n",
        "    cur=conn.cursor()\n",
        "    cur.execute(\"UPDATE store quantity=?, price=? WHERE item=?\",(quantity, price, item))\n",
        "    conn.commit()\n",
        "    conn.close()\n",
        "\n",
        "#update(11, 6,\"Cofee\")\n",
        "#print(view())\n",
        "\n",
        "create_table()"
      ],
      "execution_count": 0,
      "outputs": [
        {
          "output_type": "error",
          "ename": "SyntaxError",
          "evalue": "ignored",
          "traceback": [
            "\u001b[0;36m  File \u001b[0;32m\"<ipython-input-44-d3957b27601c>\"\u001b[0;36m, line \u001b[0;32m15\u001b[0m\n\u001b[0;31m    cur.execute(\"INSERT INTO store VALUES('%s','%s','%s')\", % (item, quantity, price))\u001b[0m\n\u001b[0m                                                            ^\u001b[0m\n\u001b[0;31mSyntaxError\u001b[0m\u001b[0;31m:\u001b[0m invalid syntax\n"
          ]
        }
      ]
    },
    {
      "cell_type": "markdown",
      "metadata": {
        "id": "yRUdU9GO-30p",
        "colab_type": "text"
      },
      "source": [
        "# New Section"
      ]
    },
    {
      "cell_type": "markdown",
      "metadata": {
        "id": "13okJq8d-4Wd",
        "colab_type": "text"
      },
      "source": [
        "# New Section"
      ]
    },
    {
      "cell_type": "markdown",
      "metadata": {
        "id": "bRSB2ler92_W",
        "colab_type": "text"
      },
      "source": [
        ""
      ]
    },
    {
      "cell_type": "code",
      "metadata": {
        "id": "c5XhY4Hc5uDQ",
        "colab_type": "code",
        "colab": {}
      },
      "source": [
        "import sqlite3\n",
        "import psycopg2\n",
        "\n",
        "def create_table():\n",
        "    conn=psycopg2.connect(\"dbname='database1', user='postgres',password='postgres123',host='localhost', port ='5432'\")\n",
        "    cur=conn.cursor()\n",
        "    cur.execute(\"CREATE TABLE IF NOT EXISTS store (item TEXT, quantity INTEGER, price REAL)\")\n",
        "    conn.commit()\n",
        "    conn.close()\n",
        "    "
      ],
      "execution_count": 0,
      "outputs": []
    },
    {
      "cell_type": "code",
      "metadata": {
        "id": "qnn931-Q59Nc",
        "colab_type": "code",
        "outputId": "878cb611-47cf-4819-c80b-ae676ce4dffd",
        "colab": {
          "base_uri": "https://localhost:8080/",
          "height": 316
        }
      },
      "source": [
        "create_table()"
      ],
      "execution_count": 0,
      "outputs": [
        {
          "output_type": "error",
          "ename": "ProgrammingError",
          "evalue": "ignored",
          "traceback": [
            "\u001b[0;31m---------------------------------------------------------------------------\u001b[0m",
            "\u001b[0;31mProgrammingError\u001b[0m                          Traceback (most recent call last)",
            "\u001b[0;32m<ipython-input-41-cc873c3c0dd4>\u001b[0m in \u001b[0;36m<module>\u001b[0;34m()\u001b[0m\n\u001b[0;32m----> 1\u001b[0;31m \u001b[0mcreate_table\u001b[0m\u001b[0;34m(\u001b[0m\u001b[0;34m)\u001b[0m\u001b[0;34m\u001b[0m\u001b[0;34m\u001b[0m\u001b[0m\n\u001b[0m",
            "\u001b[0;32m<ipython-input-39-ab1503a2e01c>\u001b[0m in \u001b[0;36mcreate_table\u001b[0;34m()\u001b[0m\n\u001b[1;32m      3\u001b[0m \u001b[0;34m\u001b[0m\u001b[0m\n\u001b[1;32m      4\u001b[0m \u001b[0;32mdef\u001b[0m \u001b[0mcreate_table\u001b[0m\u001b[0;34m(\u001b[0m\u001b[0;34m)\u001b[0m\u001b[0;34m:\u001b[0m\u001b[0;34m\u001b[0m\u001b[0;34m\u001b[0m\u001b[0m\n\u001b[0;32m----> 5\u001b[0;31m     \u001b[0mconn\u001b[0m\u001b[0;34m=\u001b[0m\u001b[0mpsycopg2\u001b[0m\u001b[0;34m.\u001b[0m\u001b[0mconnect\u001b[0m\u001b[0;34m(\u001b[0m\u001b[0;34m\"dbname='database1', user='postgres',password='postgres123',host='localhost', port ='5432'\"\u001b[0m\u001b[0;34m)\u001b[0m\u001b[0;34m\u001b[0m\u001b[0;34m\u001b[0m\u001b[0m\n\u001b[0m\u001b[1;32m      6\u001b[0m     \u001b[0mcur\u001b[0m\u001b[0;34m=\u001b[0m\u001b[0mconn\u001b[0m\u001b[0;34m.\u001b[0m\u001b[0mcursor\u001b[0m\u001b[0;34m(\u001b[0m\u001b[0;34m)\u001b[0m\u001b[0;34m\u001b[0m\u001b[0;34m\u001b[0m\u001b[0m\n\u001b[1;32m      7\u001b[0m     \u001b[0mcur\u001b[0m\u001b[0;34m.\u001b[0m\u001b[0mexecute\u001b[0m\u001b[0;34m(\u001b[0m\u001b[0;34m\"CREATE TABLE IF NOT EXISTS store (item TEXT, quantity INTEGER, price REAL)\"\u001b[0m\u001b[0;34m)\u001b[0m\u001b[0;34m\u001b[0m\u001b[0;34m\u001b[0m\u001b[0m\n",
            "\u001b[0;32m/usr/local/lib/python3.6/dist-packages/psycopg2/__init__.py\u001b[0m in \u001b[0;36mconnect\u001b[0;34m(dsn, connection_factory, cursor_factory, **kwargs)\u001b[0m\n\u001b[1;32m    127\u001b[0m         \u001b[0;32mraise\u001b[0m \u001b[0mTypeError\u001b[0m\u001b[0;34m(\u001b[0m\u001b[0;34m'missing dsn and no parameters'\u001b[0m\u001b[0;34m)\u001b[0m\u001b[0;34m\u001b[0m\u001b[0;34m\u001b[0m\u001b[0m\n\u001b[1;32m    128\u001b[0m \u001b[0;34m\u001b[0m\u001b[0m\n\u001b[0;32m--> 129\u001b[0;31m     \u001b[0mdsn\u001b[0m \u001b[0;34m=\u001b[0m \u001b[0m_ext\u001b[0m\u001b[0;34m.\u001b[0m\u001b[0mmake_dsn\u001b[0m\u001b[0;34m(\u001b[0m\u001b[0mdsn\u001b[0m\u001b[0;34m,\u001b[0m \u001b[0;34m**\u001b[0m\u001b[0mkwargs\u001b[0m\u001b[0;34m)\u001b[0m\u001b[0;34m\u001b[0m\u001b[0;34m\u001b[0m\u001b[0m\n\u001b[0m\u001b[1;32m    130\u001b[0m     \u001b[0mconn\u001b[0m \u001b[0;34m=\u001b[0m \u001b[0m_connect\u001b[0m\u001b[0;34m(\u001b[0m\u001b[0mdsn\u001b[0m\u001b[0;34m,\u001b[0m \u001b[0mconnection_factory\u001b[0m\u001b[0;34m=\u001b[0m\u001b[0mconnection_factory\u001b[0m\u001b[0;34m,\u001b[0m \u001b[0;34m**\u001b[0m\u001b[0mkwasync\u001b[0m\u001b[0;34m)\u001b[0m\u001b[0;34m\u001b[0m\u001b[0;34m\u001b[0m\u001b[0m\n\u001b[1;32m    131\u001b[0m     \u001b[0;32mif\u001b[0m \u001b[0mcursor_factory\u001b[0m \u001b[0;32mis\u001b[0m \u001b[0;32mnot\u001b[0m \u001b[0;32mNone\u001b[0m\u001b[0;34m:\u001b[0m\u001b[0;34m\u001b[0m\u001b[0;34m\u001b[0m\u001b[0m\n",
            "\u001b[0;32m/usr/local/lib/python3.6/dist-packages/psycopg2/extensions.py\u001b[0m in \u001b[0;36mmake_dsn\u001b[0;34m(dsn, **kwargs)\u001b[0m\n\u001b[1;32m    153\u001b[0m     \u001b[0;31m# If no kwarg is specified don't mung the dsn, but verify it\u001b[0m\u001b[0;34m\u001b[0m\u001b[0;34m\u001b[0m\u001b[0;34m\u001b[0m\u001b[0m\n\u001b[1;32m    154\u001b[0m     \u001b[0;32mif\u001b[0m \u001b[0;32mnot\u001b[0m \u001b[0mkwargs\u001b[0m\u001b[0;34m:\u001b[0m\u001b[0;34m\u001b[0m\u001b[0;34m\u001b[0m\u001b[0m\n\u001b[0;32m--> 155\u001b[0;31m         \u001b[0mparse_dsn\u001b[0m\u001b[0;34m(\u001b[0m\u001b[0mdsn\u001b[0m\u001b[0;34m)\u001b[0m\u001b[0;34m\u001b[0m\u001b[0;34m\u001b[0m\u001b[0m\n\u001b[0m\u001b[1;32m    156\u001b[0m         \u001b[0;32mreturn\u001b[0m \u001b[0mdsn\u001b[0m\u001b[0;34m\u001b[0m\u001b[0;34m\u001b[0m\u001b[0m\n\u001b[1;32m    157\u001b[0m \u001b[0;34m\u001b[0m\u001b[0m\n",
            "\u001b[0;31mProgrammingError\u001b[0m: invalid dsn: missing \"=\" after \",\" in connection info string\n"
          ]
        }
      ]
    }
  ]
}