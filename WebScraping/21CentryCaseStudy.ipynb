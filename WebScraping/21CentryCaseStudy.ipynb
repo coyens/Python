{
  "nbformat": 4,
  "nbformat_minor": 0,
  "metadata": {
    "colab": {
      "name": "Copy of Copy of Untitled8.ipynb",
      "provenance": [],
      "collapsed_sections": [],
      "authorship_tag": "ABX9TyOBccklFR/ZW6/nTair7OFi",
      "include_colab_link": true
    },
    "kernelspec": {
      "name": "python3",
      "display_name": "Python 3"
    }
  },
  "cells": [
    {
      "cell_type": "markdown",
      "metadata": {
        "id": "view-in-github",
        "colab_type": "text"
      },
      "source": [
        "<a href=\"https://colab.research.google.com/github/coyens/Python/blob/master/WebScraping/21CentryCaseStudy.ipynb\" target=\"_parent\"><img src=\"https://colab.research.google.com/assets/colab-badge.svg\" alt=\"Open In Colab\"/></a>"
      ]
    },
    {
      "cell_type": "code",
      "metadata": {
        "id": "_B1u-zutQt1t",
        "colab_type": "code",
        "outputId": "a0a4f094-2989-46d8-f377-ce648a2a8eac",
        "colab": {
          "base_uri": "https://localhost:8080/",
          "height": 54
        }
      },
      "source": [
        "import requests\n",
        "from bs4 import BeautifulSoup\n",
        "r = requests.get(\"http://www.pyclass.com/example.html\", headers={'User-agent': 'Mozilla/5.0 (X11; Ubuntu; Linux x86_64; rv:61.0) Gecko/20100101 Firefox/61.0'})\n",
        "\n",
        "c = r.content\n",
        "\n",
        "print(c)"
      ],
      "execution_count": 0,
      "outputs": [
        {
          "output_type": "stream",
          "text": [
            "b'<!DOCTYPE html>\\n<html>\\n<head>\\n<style>\\ndiv.cities {\\n    background-color:black;\\n    color:white;\\n    margin:20px;\\n    padding:20px;\\n} \\n</style>\\n</head>\\n<body>\\n\\n<h1 align=\"center\"> Here are three big cities </h1>\\n\\n<div class=\"cities\">\\n<h2>London</h2>\\n<p>London is the capital of England and it\\'s been a British settlement since 2000 years ago. </p>\\n</div>\\n\\n<div class=\"cities\">\\n<h2>Paris</h2>\\n<p>Paris is the capital city of France. It was declared capital since 508.</p>\\n</div>\\n\\n<div class=\"cities\">\\n<h2>Tokyo</h2>\\n<p>Tokyo is the capital of Japan and one of the most populated cities in the world.</p>\\n</div>\\n\\n</body>\\n</html>'\n"
          ],
          "name": "stdout"
        }
      ]
    },
    {
      "cell_type": "code",
      "metadata": {
        "id": "jPBqQnMDTVVA",
        "colab_type": "code",
        "colab": {}
      },
      "source": [
        "soup = BeautifulSoup(c, \"html.parser\")"
      ],
      "execution_count": 0,
      "outputs": []
    },
    {
      "cell_type": "code",
      "metadata": {
        "id": "rppmOrbwTfbL",
        "colab_type": "code",
        "outputId": "4dfb9653-2a8c-4c8f-bc72-8c81f8b44eee",
        "colab": {
          "base_uri": "https://localhost:8080/",
          "height": 722
        }
      },
      "source": [
        "print(soup.prettify())"
      ],
      "execution_count": 0,
      "outputs": [
        {
          "output_type": "stream",
          "text": [
            "<!DOCTYPE html>\n",
            "<html>\n",
            " <head>\n",
            "  <style>\n",
            "   div.cities {\n",
            "    background-color:black;\n",
            "    color:white;\n",
            "    margin:20px;\n",
            "    padding:20px;\n",
            "}\n",
            "  </style>\n",
            " </head>\n",
            " <body>\n",
            "  <h1 align=\"center\">\n",
            "   Here are three big cities\n",
            "  </h1>\n",
            "  <div class=\"cities\">\n",
            "   <h2>\n",
            "    London\n",
            "   </h2>\n",
            "   <p>\n",
            "    London is the capital of England and it's been a British settlement since 2000 years ago.\n",
            "   </p>\n",
            "  </div>\n",
            "  <div class=\"cities\">\n",
            "   <h2>\n",
            "    Paris\n",
            "   </h2>\n",
            "   <p>\n",
            "    Paris is the capital city of France. It was declared capital since 508.\n",
            "   </p>\n",
            "  </div>\n",
            "  <div class=\"cities\">\n",
            "   <h2>\n",
            "    Tokyo\n",
            "   </h2>\n",
            "   <p>\n",
            "    Tokyo is the capital of Japan and one of the most populated cities in the world.\n",
            "   </p>\n",
            "  </div>\n",
            " </body>\n",
            "</html>\n"
          ],
          "name": "stdout"
        }
      ]
    },
    {
      "cell_type": "code",
      "metadata": {
        "id": "XFEiSEkzTfiw",
        "colab_type": "code",
        "colab": {}
      },
      "source": [
        "all =soup.find_all(\"div\",{\"class\":\"cities\"})"
      ],
      "execution_count": 0,
      "outputs": []
    },
    {
      "cell_type": "code",
      "metadata": {
        "id": "40iKYStyXv3Z",
        "colab_type": "code",
        "outputId": "12b65861-67f5-4094-baa7-82308c9b9a2a",
        "colab": {
          "base_uri": "https://localhost:8080/",
          "height": 185
        }
      },
      "source": [
        "all"
      ],
      "execution_count": 0,
      "outputs": [
        {
          "output_type": "execute_result",
          "data": {
            "text/plain": [
              "[<div class=\"cities\">\n",
              " <h2>London</h2>\n",
              " <p>London is the capital of England and it's been a British settlement since 2000 years ago. </p>\n",
              " </div>, <div class=\"cities\">\n",
              " <h2>Paris</h2>\n",
              " <p>Paris is the capital city of France. It was declared capital since 508.</p>\n",
              " </div>, <div class=\"cities\">\n",
              " <h2>Tokyo</h2>\n",
              " <p>Tokyo is the capital of Japan and one of the most populated cities in the world.</p>\n",
              " </div>]"
            ]
          },
          "metadata": {
            "tags": []
          },
          "execution_count": 6
        }
      ]
    },
    {
      "cell_type": "code",
      "metadata": {
        "id": "yul625vdTfmI",
        "colab_type": "code",
        "outputId": "c94e7e0b-ca14-4f9b-fb57-da417ce4eafe",
        "colab": {
          "base_uri": "https://localhost:8080/",
          "height": 34
        }
      },
      "source": [
        "all[0].find_all(\"h2\")[0].text"
      ],
      "execution_count": 0,
      "outputs": [
        {
          "output_type": "execute_result",
          "data": {
            "text/plain": [
              "'London'"
            ]
          },
          "metadata": {
            "tags": []
          },
          "execution_count": 7
        }
      ]
    },
    {
      "cell_type": "code",
      "metadata": {
        "id": "SyMh7J2uYVLH",
        "colab_type": "code",
        "outputId": "59a1fae1-9020-4982-b884-34c03b78606d",
        "colab": {
          "base_uri": "https://localhost:8080/",
          "height": 67
        }
      },
      "source": [
        "for item in all:\n",
        "  print(item.find_all(\"p\")[0].text)"
      ],
      "execution_count": 0,
      "outputs": [
        {
          "output_type": "stream",
          "text": [
            "London is the capital of England and it's been a British settlement since 2000 years ago. \n",
            "Paris is the capital city of France. It was declared capital since 508.\n",
            "Tokyo is the capital of Japan and one of the most populated cities in the world.\n"
          ],
          "name": "stdout"
        }
      ]
    },
    {
      "cell_type": "code",
      "metadata": {
        "colab_type": "code",
        "id": "ZR7wYCjsLH3d",
        "colab": {}
      },
      "source": [
        "r = requests.get(\"http://www.pyclass.com/real-estate/rock-springs-wy/LCWYROCKSPRINGS/\", headers={'User-agent': 'Mozilla/5.0 (X11; Ubuntu; Linux x86_64; rv:61.0) Gecko/20100101 Firefox/61.0'})\n"
      ],
      "execution_count": 0,
      "outputs": []
    },
    {
      "cell_type": "code",
      "metadata": {
        "id": "8ejqMGUIGjgw",
        "colab_type": "code",
        "colab": {}
      },
      "source": [
        "c=r.content\n",
        "    \n",
        "soup=BeautifulSoup(c,\"html.parser\")\n",
        "    \n",
        "all=soup.find_all(\"div\",{\"class\":\"propertyRow\"} )"
      ],
      "execution_count": 0,
      "outputs": []
    },
    {
      "cell_type": "code",
      "metadata": {
        "id": "Ulg_A1IdJFMd",
        "colab_type": "code",
        "outputId": "adb82b76-5747-4266-b6b5-89d9f38012ee",
        "colab": {
          "base_uri": "https://localhost:8080/",
          "height": 1000
        }
      },
      "source": [
        "all[0]"
      ],
      "execution_count": 0,
      "outputs": [
        {
          "output_type": "execute_result",
          "data": {
            "text/plain": [
              "<div class=\"propertyRow\" id=\"propertyRowREN021201395\" onclick=\"Track.doEvent('Hybrid Mapping', 'Property Center Lane', 'Select a property with brand REN to view details'); document.location.href='/property/0-gateway-rock-springs-wy-82901-REN021201395';\">\n",
              "<div class=\"CenterLaneCardBg CardWrapper propertyCard\" id=\"propertyREN021201395\">\n",
              "<div class=\"CenterLaneCard propertyCard\">\n",
              "<div class=\"CardThumb\">\n",
              "<div class=\"landscapeThumbContainer\">\n",
              "<a href=\"http://web.archive.org/web/20160127020422/http://www.century21.com/property/0-gateway-rock-springs-wy-82901-REN021201395\"><img class=\"lazyLoad\" rel=\"http://www.century21.com/listhub/thumb/130x90/photos.listhub.net/FCBRWY/20156419/1?lm=20151103T230938\" src=\"./LCWYROCKSPRINGS1_files/1\"/></a>\n",
              "</div>\n",
              "</div>\n",
              "<h4 class=\"propPrice\">\n",
              "\n",
              "\n",
              "            $725,000\n",
              "\n",
              "\n",
              "\n",
              "      <span class=\"IconPropertyFavorite16\"></span>\n",
              "</h4>\n",
              "<div class=\"CardDetails\">\n",
              "<div class=\"primaryDetails\">\n",
              "<span class=\"propAddressCollapse\" title=\"0 Gateway\">0 Gateway</span>\n",
              "<span class=\"propAddressCollapse\">Rock Springs, WY 82901</span>\n",
              "<input name=\"shortCurrency\" type=\"hidden\" value=\"$725K\"/>\n",
              "<input name=\"proplongitude\" type=\"hidden\" value=\"-109.248\"/>\n",
              "<input name=\"proplatitude\" type=\"hidden\" value=\"41.5842\"/>\n",
              "</div>\n",
              "<div class=\"secondaryDetails \">\n",
              "<div class=\"infoLine1\">\n",
              "</div>\n",
              "<div class=\"infoLine2\">\n",
              "</div>\n",
              "</div>\n",
              "<div class=\"secondaryHeader \">\n",
              "         Courtesy Of All Broker Realty\n",
              "\n",
              "      </div>\n",
              "</div>\n",
              "</div>\n",
              "<div class=\"CardActions\">\n",
              "<a class=\"CardPhotoCount\" href=\"http://web.archive.org/web/20160127020422/http://www.century21.com/property/0-gateway-rock-springs-wy-82901-REN021201395\">\n",
              "<span class=\"IconPropertyPhotos16\"></span>\n",
              "\n",
              "      1\n",
              "      Image\n",
              "   </a>\n",
              "<a class=\"propertyAction\" href=\"javascript:void(0);\" onclick=\"Track.doEvent('Hybrid Mapping', 'Property Center Lane', 'Hide a property'); myc21.hideProperty('REN021201395', '#propertyRowREN021201395');c21Helpers.stopEvent(event);\" title=\"Hide\">\n",
              "<span class=\"IconActionHide16\"></span><b>Hide</b>\n",
              "</a>\n",
              "<a class=\"propertyAction\" href=\"javascript:void(0);\" onclick=\"Track.doEvent('Hybrid Mapping', 'Property Center Lane', 'Select Contact regarding property'); modalWindows.openPropertyContact('REN021201395', 'MainSearchProperty', '', 'PRP');c21Helpers.stopEvent(event);\" title=\"Contact\">\n",
              "<span class=\"IconActionContact16\"></span><b>Contact</b>\n",
              "</a>\n",
              "<a class=\"propertyAction removeFavorite\" href=\"javascript:void(0);\" onclick=\"Track.doEvent('Hybrid Mapping', 'Property Center Lane', 'Remove a favorite property'); myc21.unfavoriteProperty('REN021201395', '#propertyREN021201395');c21Helpers.stopEvent(event);\" title=\"Remove Favorite\">\n",
              "<span class=\"IconActionRemoveFavorite16\"></span>Remove Favorite\n",
              "         </a>\n",
              "<a class=\"propertyAction addFavorite\" href=\"javascript:void(0);\" onclick=\"Track.doEvent('Hybrid Mapping', 'Property Center Lane', 'Add a favorite property'); myc21.favoriteProperty('REN021201395', '#propertyREN021201395', '3yd-FCBRWY-20156419');c21Helpers.stopEvent(event);\" title=\"Add to Favorites\">\n",
              "<span class=\"IconActionAddFavorite16\"></span><b>Add as Favorite</b>\n",
              "</a>\n",
              "</div>\n",
              "<div class=\"hiddenListItem\">\n",
              "<a href=\"javascript:void(0);\" onclick=\"Track.doEvent('Hybrid Mapping', 'Property Center Lane', 'Un-Hide a property');myc21.unhideProperty('REN021201395', '#propertyRowREN021201395');c21Helpers.stopEvent(event);\" title=\"0 Gateway, Rock Springs, WY 82901 | $725,000\">\n",
              "<span class=\"IconActionUnhide16\"></span>\n",
              "</a>\n",
              "<a class=\"propAddressHide\" href=\"javascript:void(0);\" onclick=\"Track.doEvent('Hybrid Mapping', 'Property Center Lane', 'Un-Hide a property');myc21.unhideProperty('REN021201395', '#propertyRowREN021201395');c21Helpers.stopEvent(event);\" title=\"0 Gateway, Rock Springs, WY 82901 | $725,000\">\n",
              "      Unhide Property: 0 Gateway, Rock Springs, WY 82901 | $725,000\n",
              "   </a>\n",
              "</div>\n",
              "<div class=\"clear\"></div>\n",
              "</div>\n",
              "<div class=\"propertyDetails\">\n",
              "<div class=\"invisibleFloat\"></div>\n",
              "<div class=\"propertyDetailPhotos\" id=\"propertyRowREN021201395propertyDetailPhotos\">\n",
              "<div class=\"photoFlow last\">\n",
              "<div class=\"landscapeThumbContainer\">\n",
              "<a href=\"http://web.archive.org/web/20160127020422/http://www.century21.com/property/0-gateway-rock-springs-wy-82901-REN021201395?g=0\" title=\"\"><img rel=\"http://www.century21.com/listhub/thumb/130x90/photos.listhub.net/FCBRWY/20156419/1?lm=20151103T230938\" src=\"./LCWYROCKSPRINGS1_files/loadingimage39x30.png\"/></a>\n",
              "</div>\n",
              "</div>\n",
              "<div class=\"propertyMLS\">MLS#\n",
              "\n",
              "                        20156419\n",
              "\n",
              "                  </div>\n",
              "</div>\n",
              "<div class=\"propertyDescription\" id=\"propertyRowREN021201395propertyDescription\">\n",
              "<span class=\"propDescHeader\">PROPERTY DESCRIPTION: </span>\n",
              "<div class=\"propertyDescCollapse collapsed\" expandlink=\"/property/0-gateway-rock-springs-wy-82901-REN021201395\" id=\"propertyRowREN021201395propertyDescCollapse\" style=\"display: block;\"> This Location could be used for almost anything, close to Hospital, Residential, Great possibilities </div>\n",
              "</div>\n",
              "<div class=\"propertyFeatures\" id=\"propertyRowREN021201395propertyFeatures\">\n",
              "<div class=\"ui-column\" style=\"float: left; width: 200px; height: 110px;\"><div class=\"columnGroup propFeatureHeader\">FEATURES:</div><div class=\"columnGroup\">\n",
              "<span class=\"featureGroup\">Architecture Style: </span><span class=\"featureName\">Other</span>\n",
              "</div><div class=\"columnGroup\">\n",
              "<span class=\"featureGroup\">Roof Type: </span><span class=\"featureName\">Unknown</span>\n",
              "</div></div></div>\n",
              "</div>\n",
              "</div>"
            ]
          },
          "metadata": {
            "tags": []
          },
          "execution_count": 11
        }
      ]
    },
    {
      "cell_type": "code",
      "metadata": {
        "id": "TCp34AxkJFUl",
        "colab_type": "code",
        "outputId": "ba2aed20-382e-41d2-8412-c6d2d59f056d",
        "colab": {
          "base_uri": "https://localhost:8080/",
          "height": 34
        }
      },
      "source": [
        "all[0].find(\"h4\",{\"class\":\"propPrice\"}).text.replace(\"\\n\",\"\").replace(\" \",\"\")\n",
        "page_nr=soup.find_all(\"a\",{\"class\":\"Page\"})[-1].text\n",
        "print(page_nr)\n"
      ],
      "execution_count": 0,
      "outputs": [
        {
          "output_type": "stream",
          "text": [
            "3\n"
          ],
          "name": "stdout"
        }
      ]
    },
    {
      "cell_type": "code",
      "metadata": {
        "colab_type": "code",
        "outputId": "131935f5-3a26-492c-9fee-7e1766dcb134",
        "id": "08RceS_61BXS",
        "colab": {
          "base_uri": "https://localhost:8080/",
          "height": 67
        }
      },
      "source": [
        "l=[]\n",
        "base_url=\"http://www.pythonhow.com/real-estate/rock-springs-wy/LCWYROCKSPRINGS/t=0&s=\"\n",
        "for page in range(0, int(page_nr)*10,10):\n",
        "    print(\"http://www.pythonhow.com/real-estate/rock-springs-wy/LCWYROCKSPRINGS/t=0&s=+str(page)\"+\".html\")\n",
        "    r=requests.get(\"http://www.pythonhow.com/real-estate/rock-springs-wy/LCWYROCKSPRINGS/t=0&s=\"+str(page)+\".html\")\n",
        "    #c=r.json()[\"list\"]\n",
        "    soup=BeautifulSoup(c,\"html.parser\")\n",
        "    all=soup.find_all(\"div\",{\"class\":\"propertyRow\"})\n",
        "    for item in all:\n",
        "      d={}\n",
        "      d[\"Price\"]=item.find(\"h4\", {\"class\":\"propPrice\"}).text.replace(\"\\n\",\"\").replace(\" \",\"\")\n",
        "      d[\"Address\"]=item.find_all(\"span\", {\"class\",\"propAddressCollapse\"})[0].text\n",
        "      try:\n",
        "        d[\"Locality\"]=item.find_all(\"span\", {\"class\",\"propAddressCollapse\"})[1].text\n",
        "      except:\n",
        "        d[\"Locality\"] =None \n",
        "      try:\n",
        "          d[\"SqFt\"]=item.find(\"span\",{\"class\",\"infoSqFt\"}).find(\"b\").text\n",
        "      except:\n",
        "          d[\"SqFt\"] =None\n",
        "      try:\n",
        "          d[\"Bads\"]=item.find(\"span\",{\"class\",\"infoBed\"}).find(\"b\").text\n",
        "      except:\n",
        "          d[\"Bads\"]=None\n",
        "      try:\n",
        "          d[\"Full Baths\"] = item.find(\"span\",{\"class\",\"infoValueFullBath\"}).find(\"b\").text\n",
        "      except:\n",
        "          d[\"Full Baths\"] = None\n",
        "      try:\n",
        "          d[\"Half Baths\"] = item.find(\"span\",{\"class\",\"infoValueHalfBath\"}).find(\"b\").text\n",
        "      except:\n",
        "          d[\"Half Baths\"] = None\n",
        "      for column_group in item.find_all(\"div\",{\"class\":\"columnGroup\"}):\n",
        "          #print(column_group)\n",
        "          for feature_group, feature_name in zip(column_group.find_all(\"span\",{\"class\":\"featureGroup\"}), column_group.find_all(\"span\",{\"class\":\"featureName\"})): \n",
        "            #print(feature_group.text, feature_name.text)\n",
        "            if \"Lot Size\" in feature_group.text:\n",
        "                d[\"Lot Size\"]= feature_name.text\n",
        "      l.append(d)"
      ],
      "execution_count": 0,
      "outputs": [
        {
          "output_type": "stream",
          "text": [
            "http://www.pythonhow.com/real-estate/rock-springs-wy/LCWYROCKSPRINGS/t=0&s=+str(page).html\n",
            "http://www.pythonhow.com/real-estate/rock-springs-wy/LCWYROCKSPRINGS/t=0&s=+str(page).html\n",
            "http://www.pythonhow.com/real-estate/rock-springs-wy/LCWYROCKSPRINGS/t=0&s=+str(page).html\n"
          ],
          "name": "stdout"
        }
      ]
    },
    {
      "cell_type": "code",
      "metadata": {
        "id": "7oGPTD4xJFeJ",
        "colab_type": "code",
        "outputId": "245a717e-7ff8-4f90-dbe8-5bb15ca870c5",
        "colab": {
          "base_uri": "https://localhost:8080/",
          "height": 571
        }
      },
      "source": [
        "import pandas\n",
        "df=pandas.DataFrame(l)\n",
        "print(df)\n",
        "\n",
        "df.to_csv(\"Output.csv\")\n"
      ],
      "execution_count": 0,
      "outputs": [
        {
          "output_type": "stream",
          "text": [
            "       Price                Address  ... Half Baths          Lot Size\n",
            "0   $725,000              0 Gateway  ...       None               NaN\n",
            "1   $452,900  1003 Winchester Blvd.  ...       None        0.21 Acres\n",
            "2   $396,900          600 Talladega  ...       None               NaN\n",
            "3   $389,900     3239 Spearhead Way  ...          1  Under 1/2 Acre, \n",
            "4   $254,000     522 Emerald Street  ...       None  Under 1/2 Acre, \n",
            "5   $252,900   1302 Veteran's Drive  ...       None        0.27 Acres\n",
            "6   $210,000       1021 Cypress Cir  ...       None  Under 1/2 Acre, \n",
            "7   $209,000         913 Madison Dr  ...       None  Under 1/2 Acre, \n",
            "8   $199,900      1344 Teton Street  ...       None  Under 1/2 Acre, \n",
            "9   $196,900         4 Minnies Lane  ...       None        2.02 Acres\n",
            "10  $725,000              0 Gateway  ...       None               NaN\n",
            "11  $452,900  1003 Winchester Blvd.  ...       None        0.21 Acres\n",
            "12  $396,900          600 Talladega  ...       None               NaN\n",
            "13  $389,900     3239 Spearhead Way  ...          1  Under 1/2 Acre, \n",
            "14  $254,000     522 Emerald Street  ...       None  Under 1/2 Acre, \n",
            "15  $252,900   1302 Veteran's Drive  ...       None        0.27 Acres\n",
            "16  $210,000       1021 Cypress Cir  ...       None  Under 1/2 Acre, \n",
            "17  $209,000         913 Madison Dr  ...       None  Under 1/2 Acre, \n",
            "18  $199,900      1344 Teton Street  ...       None  Under 1/2 Acre, \n",
            "19  $196,900         4 Minnies Lane  ...       None        2.02 Acres\n",
            "20  $725,000              0 Gateway  ...       None               NaN\n",
            "21  $452,900  1003 Winchester Blvd.  ...       None        0.21 Acres\n",
            "22  $396,900          600 Talladega  ...       None               NaN\n",
            "23  $389,900     3239 Spearhead Way  ...          1  Under 1/2 Acre, \n",
            "24  $254,000     522 Emerald Street  ...       None  Under 1/2 Acre, \n",
            "25  $252,900   1302 Veteran's Drive  ...       None        0.27 Acres\n",
            "26  $210,000       1021 Cypress Cir  ...       None  Under 1/2 Acre, \n",
            "27  $209,000         913 Madison Dr  ...       None  Under 1/2 Acre, \n",
            "28  $199,900      1344 Teton Street  ...       None  Under 1/2 Acre, \n",
            "29  $196,900         4 Minnies Lane  ...       None        2.02 Acres\n",
            "\n",
            "[30 rows x 8 columns]\n"
          ],
          "name": "stdout"
        }
      ]
    },
    {
      "cell_type": "code",
      "metadata": {
        "id": "7SHeurBA5pJP",
        "colab_type": "code",
        "outputId": "8f3b165a-6fe9-4795-bfe0-d34d37f96e6b",
        "colab": {
          "base_uri": "https://localhost:8080/",
          "height": 935
        }
      },
      "source": [
        "df"
      ],
      "execution_count": 0,
      "outputs": [
        {
          "output_type": "execute_result",
          "data": {
            "text/html": [
              "<div>\n",
              "<style scoped>\n",
              "    .dataframe tbody tr th:only-of-type {\n",
              "        vertical-align: middle;\n",
              "    }\n",
              "\n",
              "    .dataframe tbody tr th {\n",
              "        vertical-align: top;\n",
              "    }\n",
              "\n",
              "    .dataframe thead th {\n",
              "        text-align: right;\n",
              "    }\n",
              "</style>\n",
              "<table border=\"1\" class=\"dataframe\">\n",
              "  <thead>\n",
              "    <tr style=\"text-align: right;\">\n",
              "      <th></th>\n",
              "      <th>Price</th>\n",
              "      <th>Address</th>\n",
              "      <th>Locality</th>\n",
              "      <th>SqFt</th>\n",
              "      <th>Bads</th>\n",
              "      <th>Full Baths</th>\n",
              "      <th>Half Baths</th>\n",
              "      <th>Lot Size</th>\n",
              "    </tr>\n",
              "  </thead>\n",
              "  <tbody>\n",
              "    <tr>\n",
              "      <th>0</th>\n",
              "      <td>$725,000</td>\n",
              "      <td>0 Gateway</td>\n",
              "      <td>Rock Springs, WY 82901</td>\n",
              "      <td>None</td>\n",
              "      <td>None</td>\n",
              "      <td>None</td>\n",
              "      <td>None</td>\n",
              "      <td>NaN</td>\n",
              "    </tr>\n",
              "    <tr>\n",
              "      <th>1</th>\n",
              "      <td>$452,900</td>\n",
              "      <td>1003 Winchester Blvd.</td>\n",
              "      <td>Rock Springs, WY 82901</td>\n",
              "      <td>None</td>\n",
              "      <td>4</td>\n",
              "      <td>4</td>\n",
              "      <td>None</td>\n",
              "      <td>0.21 Acres</td>\n",
              "    </tr>\n",
              "    <tr>\n",
              "      <th>2</th>\n",
              "      <td>$396,900</td>\n",
              "      <td>600 Talladega</td>\n",
              "      <td>Rock Springs, WY 82901</td>\n",
              "      <td>3,154</td>\n",
              "      <td>5</td>\n",
              "      <td>3</td>\n",
              "      <td>None</td>\n",
              "      <td>NaN</td>\n",
              "    </tr>\n",
              "    <tr>\n",
              "      <th>3</th>\n",
              "      <td>$389,900</td>\n",
              "      <td>3239 Spearhead Way</td>\n",
              "      <td>Rock Springs, WY 82901</td>\n",
              "      <td>3,076</td>\n",
              "      <td>4</td>\n",
              "      <td>3</td>\n",
              "      <td>1</td>\n",
              "      <td>Under 1/2 Acre,</td>\n",
              "    </tr>\n",
              "    <tr>\n",
              "      <th>4</th>\n",
              "      <td>$254,000</td>\n",
              "      <td>522 Emerald Street</td>\n",
              "      <td>Rock Springs, WY 82901</td>\n",
              "      <td>1,172</td>\n",
              "      <td>3</td>\n",
              "      <td>3</td>\n",
              "      <td>None</td>\n",
              "      <td>Under 1/2 Acre,</td>\n",
              "    </tr>\n",
              "    <tr>\n",
              "      <th>5</th>\n",
              "      <td>$252,900</td>\n",
              "      <td>1302 Veteran's Drive</td>\n",
              "      <td>Rock Springs, WY 82901</td>\n",
              "      <td>1,932</td>\n",
              "      <td>4</td>\n",
              "      <td>2</td>\n",
              "      <td>None</td>\n",
              "      <td>0.27 Acres</td>\n",
              "    </tr>\n",
              "    <tr>\n",
              "      <th>6</th>\n",
              "      <td>$210,000</td>\n",
              "      <td>1021 Cypress Cir</td>\n",
              "      <td>Rock Springs, WY 82901</td>\n",
              "      <td>1,676</td>\n",
              "      <td>4</td>\n",
              "      <td>3</td>\n",
              "      <td>None</td>\n",
              "      <td>Under 1/2 Acre,</td>\n",
              "    </tr>\n",
              "    <tr>\n",
              "      <th>7</th>\n",
              "      <td>$209,000</td>\n",
              "      <td>913 Madison Dr</td>\n",
              "      <td>Rock Springs, WY 82901</td>\n",
              "      <td>1,344</td>\n",
              "      <td>3</td>\n",
              "      <td>2</td>\n",
              "      <td>None</td>\n",
              "      <td>Under 1/2 Acre,</td>\n",
              "    </tr>\n",
              "    <tr>\n",
              "      <th>8</th>\n",
              "      <td>$199,900</td>\n",
              "      <td>1344 Teton Street</td>\n",
              "      <td>Rock Springs, WY 82901</td>\n",
              "      <td>1,920</td>\n",
              "      <td>3</td>\n",
              "      <td>2</td>\n",
              "      <td>None</td>\n",
              "      <td>Under 1/2 Acre,</td>\n",
              "    </tr>\n",
              "    <tr>\n",
              "      <th>9</th>\n",
              "      <td>$196,900</td>\n",
              "      <td>4 Minnies Lane</td>\n",
              "      <td>Rock Springs, WY 82901</td>\n",
              "      <td>1,664</td>\n",
              "      <td>3</td>\n",
              "      <td>2</td>\n",
              "      <td>None</td>\n",
              "      <td>2.02 Acres</td>\n",
              "    </tr>\n",
              "    <tr>\n",
              "      <th>10</th>\n",
              "      <td>$725,000</td>\n",
              "      <td>0 Gateway</td>\n",
              "      <td>Rock Springs, WY 82901</td>\n",
              "      <td>None</td>\n",
              "      <td>None</td>\n",
              "      <td>None</td>\n",
              "      <td>None</td>\n",
              "      <td>NaN</td>\n",
              "    </tr>\n",
              "    <tr>\n",
              "      <th>11</th>\n",
              "      <td>$452,900</td>\n",
              "      <td>1003 Winchester Blvd.</td>\n",
              "      <td>Rock Springs, WY 82901</td>\n",
              "      <td>None</td>\n",
              "      <td>4</td>\n",
              "      <td>4</td>\n",
              "      <td>None</td>\n",
              "      <td>0.21 Acres</td>\n",
              "    </tr>\n",
              "    <tr>\n",
              "      <th>12</th>\n",
              "      <td>$396,900</td>\n",
              "      <td>600 Talladega</td>\n",
              "      <td>Rock Springs, WY 82901</td>\n",
              "      <td>3,154</td>\n",
              "      <td>5</td>\n",
              "      <td>3</td>\n",
              "      <td>None</td>\n",
              "      <td>NaN</td>\n",
              "    </tr>\n",
              "    <tr>\n",
              "      <th>13</th>\n",
              "      <td>$389,900</td>\n",
              "      <td>3239 Spearhead Way</td>\n",
              "      <td>Rock Springs, WY 82901</td>\n",
              "      <td>3,076</td>\n",
              "      <td>4</td>\n",
              "      <td>3</td>\n",
              "      <td>1</td>\n",
              "      <td>Under 1/2 Acre,</td>\n",
              "    </tr>\n",
              "    <tr>\n",
              "      <th>14</th>\n",
              "      <td>$254,000</td>\n",
              "      <td>522 Emerald Street</td>\n",
              "      <td>Rock Springs, WY 82901</td>\n",
              "      <td>1,172</td>\n",
              "      <td>3</td>\n",
              "      <td>3</td>\n",
              "      <td>None</td>\n",
              "      <td>Under 1/2 Acre,</td>\n",
              "    </tr>\n",
              "    <tr>\n",
              "      <th>15</th>\n",
              "      <td>$252,900</td>\n",
              "      <td>1302 Veteran's Drive</td>\n",
              "      <td>Rock Springs, WY 82901</td>\n",
              "      <td>1,932</td>\n",
              "      <td>4</td>\n",
              "      <td>2</td>\n",
              "      <td>None</td>\n",
              "      <td>0.27 Acres</td>\n",
              "    </tr>\n",
              "    <tr>\n",
              "      <th>16</th>\n",
              "      <td>$210,000</td>\n",
              "      <td>1021 Cypress Cir</td>\n",
              "      <td>Rock Springs, WY 82901</td>\n",
              "      <td>1,676</td>\n",
              "      <td>4</td>\n",
              "      <td>3</td>\n",
              "      <td>None</td>\n",
              "      <td>Under 1/2 Acre,</td>\n",
              "    </tr>\n",
              "    <tr>\n",
              "      <th>17</th>\n",
              "      <td>$209,000</td>\n",
              "      <td>913 Madison Dr</td>\n",
              "      <td>Rock Springs, WY 82901</td>\n",
              "      <td>1,344</td>\n",
              "      <td>3</td>\n",
              "      <td>2</td>\n",
              "      <td>None</td>\n",
              "      <td>Under 1/2 Acre,</td>\n",
              "    </tr>\n",
              "    <tr>\n",
              "      <th>18</th>\n",
              "      <td>$199,900</td>\n",
              "      <td>1344 Teton Street</td>\n",
              "      <td>Rock Springs, WY 82901</td>\n",
              "      <td>1,920</td>\n",
              "      <td>3</td>\n",
              "      <td>2</td>\n",
              "      <td>None</td>\n",
              "      <td>Under 1/2 Acre,</td>\n",
              "    </tr>\n",
              "    <tr>\n",
              "      <th>19</th>\n",
              "      <td>$196,900</td>\n",
              "      <td>4 Minnies Lane</td>\n",
              "      <td>Rock Springs, WY 82901</td>\n",
              "      <td>1,664</td>\n",
              "      <td>3</td>\n",
              "      <td>2</td>\n",
              "      <td>None</td>\n",
              "      <td>2.02 Acres</td>\n",
              "    </tr>\n",
              "    <tr>\n",
              "      <th>20</th>\n",
              "      <td>$725,000</td>\n",
              "      <td>0 Gateway</td>\n",
              "      <td>Rock Springs, WY 82901</td>\n",
              "      <td>None</td>\n",
              "      <td>None</td>\n",
              "      <td>None</td>\n",
              "      <td>None</td>\n",
              "      <td>NaN</td>\n",
              "    </tr>\n",
              "    <tr>\n",
              "      <th>21</th>\n",
              "      <td>$452,900</td>\n",
              "      <td>1003 Winchester Blvd.</td>\n",
              "      <td>Rock Springs, WY 82901</td>\n",
              "      <td>None</td>\n",
              "      <td>4</td>\n",
              "      <td>4</td>\n",
              "      <td>None</td>\n",
              "      <td>0.21 Acres</td>\n",
              "    </tr>\n",
              "    <tr>\n",
              "      <th>22</th>\n",
              "      <td>$396,900</td>\n",
              "      <td>600 Talladega</td>\n",
              "      <td>Rock Springs, WY 82901</td>\n",
              "      <td>3,154</td>\n",
              "      <td>5</td>\n",
              "      <td>3</td>\n",
              "      <td>None</td>\n",
              "      <td>NaN</td>\n",
              "    </tr>\n",
              "    <tr>\n",
              "      <th>23</th>\n",
              "      <td>$389,900</td>\n",
              "      <td>3239 Spearhead Way</td>\n",
              "      <td>Rock Springs, WY 82901</td>\n",
              "      <td>3,076</td>\n",
              "      <td>4</td>\n",
              "      <td>3</td>\n",
              "      <td>1</td>\n",
              "      <td>Under 1/2 Acre,</td>\n",
              "    </tr>\n",
              "    <tr>\n",
              "      <th>24</th>\n",
              "      <td>$254,000</td>\n",
              "      <td>522 Emerald Street</td>\n",
              "      <td>Rock Springs, WY 82901</td>\n",
              "      <td>1,172</td>\n",
              "      <td>3</td>\n",
              "      <td>3</td>\n",
              "      <td>None</td>\n",
              "      <td>Under 1/2 Acre,</td>\n",
              "    </tr>\n",
              "    <tr>\n",
              "      <th>25</th>\n",
              "      <td>$252,900</td>\n",
              "      <td>1302 Veteran's Drive</td>\n",
              "      <td>Rock Springs, WY 82901</td>\n",
              "      <td>1,932</td>\n",
              "      <td>4</td>\n",
              "      <td>2</td>\n",
              "      <td>None</td>\n",
              "      <td>0.27 Acres</td>\n",
              "    </tr>\n",
              "    <tr>\n",
              "      <th>26</th>\n",
              "      <td>$210,000</td>\n",
              "      <td>1021 Cypress Cir</td>\n",
              "      <td>Rock Springs, WY 82901</td>\n",
              "      <td>1,676</td>\n",
              "      <td>4</td>\n",
              "      <td>3</td>\n",
              "      <td>None</td>\n",
              "      <td>Under 1/2 Acre,</td>\n",
              "    </tr>\n",
              "    <tr>\n",
              "      <th>27</th>\n",
              "      <td>$209,000</td>\n",
              "      <td>913 Madison Dr</td>\n",
              "      <td>Rock Springs, WY 82901</td>\n",
              "      <td>1,344</td>\n",
              "      <td>3</td>\n",
              "      <td>2</td>\n",
              "      <td>None</td>\n",
              "      <td>Under 1/2 Acre,</td>\n",
              "    </tr>\n",
              "    <tr>\n",
              "      <th>28</th>\n",
              "      <td>$199,900</td>\n",
              "      <td>1344 Teton Street</td>\n",
              "      <td>Rock Springs, WY 82901</td>\n",
              "      <td>1,920</td>\n",
              "      <td>3</td>\n",
              "      <td>2</td>\n",
              "      <td>None</td>\n",
              "      <td>Under 1/2 Acre,</td>\n",
              "    </tr>\n",
              "    <tr>\n",
              "      <th>29</th>\n",
              "      <td>$196,900</td>\n",
              "      <td>4 Minnies Lane</td>\n",
              "      <td>Rock Springs, WY 82901</td>\n",
              "      <td>1,664</td>\n",
              "      <td>3</td>\n",
              "      <td>2</td>\n",
              "      <td>None</td>\n",
              "      <td>2.02 Acres</td>\n",
              "    </tr>\n",
              "  </tbody>\n",
              "</table>\n",
              "</div>"
            ],
            "text/plain": [
              "       Price                Address  ... Half Baths          Lot Size\n",
              "0   $725,000              0 Gateway  ...       None               NaN\n",
              "1   $452,900  1003 Winchester Blvd.  ...       None        0.21 Acres\n",
              "2   $396,900          600 Talladega  ...       None               NaN\n",
              "3   $389,900     3239 Spearhead Way  ...          1  Under 1/2 Acre, \n",
              "4   $254,000     522 Emerald Street  ...       None  Under 1/2 Acre, \n",
              "5   $252,900   1302 Veteran's Drive  ...       None        0.27 Acres\n",
              "6   $210,000       1021 Cypress Cir  ...       None  Under 1/2 Acre, \n",
              "7   $209,000         913 Madison Dr  ...       None  Under 1/2 Acre, \n",
              "8   $199,900      1344 Teton Street  ...       None  Under 1/2 Acre, \n",
              "9   $196,900         4 Minnies Lane  ...       None        2.02 Acres\n",
              "10  $725,000              0 Gateway  ...       None               NaN\n",
              "11  $452,900  1003 Winchester Blvd.  ...       None        0.21 Acres\n",
              "12  $396,900          600 Talladega  ...       None               NaN\n",
              "13  $389,900     3239 Spearhead Way  ...          1  Under 1/2 Acre, \n",
              "14  $254,000     522 Emerald Street  ...       None  Under 1/2 Acre, \n",
              "15  $252,900   1302 Veteran's Drive  ...       None        0.27 Acres\n",
              "16  $210,000       1021 Cypress Cir  ...       None  Under 1/2 Acre, \n",
              "17  $209,000         913 Madison Dr  ...       None  Under 1/2 Acre, \n",
              "18  $199,900      1344 Teton Street  ...       None  Under 1/2 Acre, \n",
              "19  $196,900         4 Minnies Lane  ...       None        2.02 Acres\n",
              "20  $725,000              0 Gateway  ...       None               NaN\n",
              "21  $452,900  1003 Winchester Blvd.  ...       None        0.21 Acres\n",
              "22  $396,900          600 Talladega  ...       None               NaN\n",
              "23  $389,900     3239 Spearhead Way  ...          1  Under 1/2 Acre, \n",
              "24  $254,000     522 Emerald Street  ...       None  Under 1/2 Acre, \n",
              "25  $252,900   1302 Veteran's Drive  ...       None        0.27 Acres\n",
              "26  $210,000       1021 Cypress Cir  ...       None  Under 1/2 Acre, \n",
              "27  $209,000         913 Madison Dr  ...       None  Under 1/2 Acre, \n",
              "28  $199,900      1344 Teton Street  ...       None  Under 1/2 Acre, \n",
              "29  $196,900         4 Minnies Lane  ...       None        2.02 Acres\n",
              "\n",
              "[30 rows x 8 columns]"
            ]
          },
          "metadata": {
            "tags": []
          },
          "execution_count": 33
        }
      ]
    },
    {
      "cell_type": "code",
      "metadata": {
        "id": "6Vta-btCK78Y",
        "colab_type": "code",
        "outputId": "e8be78ab-c67b-4250-a879-3f1dd1677f42",
        "colab": {
          "base_uri": "https://localhost:8080/",
          "height": 67
        }
      },
      "source": [
        "l=[]\n",
        "base_url=\"http://www.pythonhow.com/real-estate/rock-springs-wy/LCWYROCKSPRINGS/t=0&s=\"\n",
        "for page in range(0,30,10):\n",
        "    print(\"http://www.pythonhow.com/real-estate/rock-springs-wy/LCWYROCKSPRINGS/t=0&s=+str(page)\"+\".html\")\n",
        "    r=requests.get(\"http://www.pythonhow.com/real-estate/rock-springs-wy/LCWYROCKSPRINGS/t=0&s=\"+str(page)+\".html\")\n",
        "    #c=r.json()[\"list\"]\n",
        "    soup=BeautifulSoup(c,\"html.parser\")\n",
        "    all=soup.find_all(\"div\",{\"class\":\"propertyRow\"})"
      ],
      "execution_count": 0,
      "outputs": [
        {
          "output_type": "stream",
          "text": [
            "http://www.pythonhow.com/real-estate/rock-springs-wy/LCWYROCKSPRINGS/t=0&s=+str(page).html\n",
            "http://www.pythonhow.com/real-estate/rock-springs-wy/LCWYROCKSPRINGS/t=0&s=+str(page).html\n",
            "http://www.pythonhow.com/real-estate/rock-springs-wy/LCWYROCKSPRINGS/t=0&s=+str(page).html\n"
          ],
          "name": "stdout"
        }
      ]
    },
    {
      "cell_type": "code",
      "metadata": {
        "id": "zCgCN2l-MnwL",
        "colab_type": "code",
        "colab": {}
      },
      "source": [
        ""
      ],
      "execution_count": 0,
      "outputs": []
    }
  ]
}