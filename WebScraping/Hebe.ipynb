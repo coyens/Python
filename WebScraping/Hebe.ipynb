{
  "nbformat": 4,
  "nbformat_minor": 0,
  "metadata": {
    "colab": {
      "name": "Untitled9.ipynb",
      "provenance": [],
      "collapsed_sections": [],
      "authorship_tag": "ABX9TyOPY6KpONxEPSUiMXo5Q5A2",
      "include_colab_link": true
    },
    "kernelspec": {
      "name": "python3",
      "display_name": "Python 3"
    }
  },
  "cells": [
    {
      "cell_type": "markdown",
      "metadata": {
        "id": "view-in-github",
        "colab_type": "text"
      },
      "source": [
        "<a href=\"https://colab.research.google.com/github/coyens/Python/blob/master/WebScraping/Hebe.ipynb\" target=\"_parent\"><img src=\"https://colab.research.google.com/assets/colab-badge.svg\" alt=\"Open In Colab\"/></a>"
      ]
    },
    {
      "cell_type": "code",
      "metadata": {
        "id": "gGzqQ3NUJaNa",
        "colab_type": "code",
        "colab": {}
      },
      "source": [
        "import requests\n",
        "from bs4 import BeautifulSoup\n",
        "header = {'User-Agent':'Mozilla/5.0 (Windows NT 10.0; Win64; x64; rv:61.0) Gecko/20100101 Firefox/61.0'}"
      ],
      "execution_count": 0,
      "outputs": []
    },
    {
      "cell_type": "code",
      "metadata": {
        "id": "J6_TNcOsJbZT",
        "colab_type": "code",
        "colab": {}
      },
      "source": [
        "r = requests.get(\"https://www.hebe.pl/sklepy\", headers=header)"
      ],
      "execution_count": 0,
      "outputs": []
    },
    {
      "cell_type": "code",
      "metadata": {
        "id": "eTmknaNqJbgs",
        "colab_type": "code",
        "colab": {}
      },
      "source": [
        "c=r.content\n",
        "    \n",
        "soup=BeautifulSoup(c,\"html.parser\")\n",
        "print(soup.prettify())\n"
      ],
      "execution_count": 0,
      "outputs": []
    },
    {
      "cell_type": "code",
      "metadata": {
        "id": "oI2zkEL-9vVz",
        "colab_type": "code",
        "colab": {}
      },
      "source": [
        "all =soup.find_all(\"div\",{\"class\":\"store-popup\"})\n",
        "all2 =soup.find_all(\"div\",{\"class\":\"storelist__item ui-expandable js-accordion-store js-store\"})\n",
        "print(all2)"
      ],
      "execution_count": 0,
      "outputs": []
    },
    {
      "cell_type": "markdown",
      "metadata": {
        "id": "NimagoyE0oy0",
        "colab_type": "text"
      },
      "source": [
        "Warto tutaj zauważyć że współrzędne miały taki format i nie dało wywołąć się za pomocą funkcji find, tylko odnieść się bezpośrednio do klasuy."
      ]
    },
    {
      "cell_type": "code",
      "metadata": {
        "id": "3MK5WzJIJbku",
        "colab_type": "code",
        "outputId": "ad415bb7-ee5d-436c-d4d4-d0470f185883",
        "colab": {
          "base_uri": "https://localhost:8080/",
          "height": 54
        }
      },
      "source": [
        "l=[]\n",
        "for item in all2:\n",
        "  d={}\n",
        "  d[\"Nazwa\"]=item.find_all(\"div\", {\"class\",\"store-popup__name text--uppercase\"})[0].text\n",
        "  try:\n",
        "    d[\"Adres\"]=item.find_all(\"div\", {\"class\",\"store-popup__address\"})[0].text\n",
        "  except:\n",
        "    d[\"Adres\"] =None \n",
        "  try:\n",
        "    d[\"Miasto\"]=item.find(\"div\",{\"class\",\"store-popup__city\"}).text\n",
        "  except:\n",
        "    d[\"Miasto\"] =None\n",
        "  #try:\n",
        "    #d[\"Godziny otwarcia\"]=item.find(\"div\",{\"class\",\"store-hours\"}).find(\"/br\")[1].text\n",
        "  #except:\n",
        "    #d[\"Godziny otwarcia\"]=None\n",
        "  try:\n",
        "    d[\"Lat\"]=item['data-lat']\n",
        "  except:\n",
        "    d[\"Lat\"]=None\n",
        "  try:\n",
        "    d[\"Lng\"]=item['data-lng']\n",
        "  except:\n",
        "    d[\"Lng\"]=None\n",
        "  l.append(d)\n",
        "\n",
        "print(l)\n",
        "\n",
        "#dat = soup.select_one('div[data-lat]')\n",
        "#print(dat['data-lat'],dat['data-lng'])   "
      ],
      "execution_count": 52,
      "outputs": [
        {
          "output_type": "stream",
          "text": [
            "[{'Nazwa': 'Drogeria Hebe', 'Adres': 'Galeria Gondola Piłsudskiego 31C', 'Miasto': 'Legionowo, 05-120', 'Lat': '52.396525', 'Lng': '20.932849'}, {'Nazwa': 'Drogeria Hebe', 'Adres': 'Hop Stop Partyzantów 16B', 'Miasto': 'Siedlce, 08-110', 'Lat': '52.161751', 'Lng': '22.262779'}, {'Nazwa': 'Drogeria Hebe', 'Adres': 'Atrium Reduta Al. Jerozolimskie 148', 'Miasto': 'Warszawa, 02-326', 'Lat': '52.212482', 'Lng': '20.951152'}, {'Nazwa': 'Drogeria Hebe', 'Adres': 'Grunwaldzka 6', 'Miasto': 'Rzeszów, 35-068', 'Lat': '50.038172', 'Lng': '22.002874'}, {'Nazwa': 'Drogeria Hebe', 'Adres': 'Auchan Grunwaldzka 108', 'Miasto': 'Rumia, 84-230', 'Lat': '54.582998', 'Lng': '18.366249'}, {'Nazwa': 'Drogeria Hebe', 'Adres': 'Podwale 37', 'Miasto': 'Wrocław, 50-040', 'Lat': '51.104082', 'Lng': '17.030417'}, {'Nazwa': 'Drogeria Hebe', 'Adres': 'Aleja Bielany Czekoladowa 7/9', 'Miasto': 'Bielany Wrocławskie Kobierzyce, 55-040', 'Lat': '51.048941', 'Lng': '16.959474'}, {'Nazwa': 'Drogeria Hebe', 'Adres': 'Zielone Arkady Wojska Polskiego 1', 'Miasto': 'Bydgoszcz, 85-171', 'Lat': '53.116232', 'Lng': '18.00966'}, {'Nazwa': 'Drogeria Hebe', 'Adres': 'Galeria Śląska Rybnicka 97', 'Miasto': 'Racibórz, 47-400', 'Lat': '50.089391', 'Lng': '18.259885'}, {'Nazwa': 'Drogeria Hebe', 'Adres': 'Supersam Księdza Piotra Skargi 6', 'Miasto': 'Katowice, 40-091', 'Lat': '50.261638', 'Lng': '19.019301'}, {'Nazwa': 'Drogeria Hebe', 'Adres': 'Milo Park Daszyńskiego 41b', 'Miasto': 'Bogatynia, 59-920', 'Lat': '50.910761', 'Lng': '14.95461'}, {'Nazwa': 'Drogeria Hebe', 'Adres': 'Cuprum Arena Sikorskiego 20', 'Miasto': 'Lubin, 59-300', 'Lat': '51.39387', 'Lng': '16.20572'}, {'Nazwa': 'Drogeria Hebe', 'Adres': 'VIVO! Piła 14 lutego 26', 'Miasto': 'Piła, 64-920', 'Lat': '53.144976', 'Lng': '16.746037'}, {'Nazwa': 'Drogeria Hebe', 'Adres': 'Galeria Dębiec 28Czerwca1956 382', 'Miasto': 'Poznań, 61-441', 'Lat': '52.362862', 'Lng': '16.902074'}, {'Nazwa': 'Drogeria Hebe', 'Adres': 'Vis a Vis Przyczółkowa 219', 'Miasto': 'Warszawa, 02-962', 'Lat': '52.148373', 'Lng': '21.091759'}, {'Nazwa': 'Drogeria Hebe', 'Adres': 'Kopalniana 4A', 'Miasto': 'Polkowice, 59-100', 'Lat': '51.4989', 'Lng': '16.068581'}, {'Nazwa': 'Drogeria Hebe', 'Adres': 'CH Agora Plac T. Kościuszki 1', 'Miasto': 'Bytom, 41-902', 'Lat': '50.347653', 'Lng': '18.919468'}, {'Nazwa': 'Drogeria Hebe', 'Adres': 'Park Handlowy Dworna 27E', 'Miasto': 'Grajewo, 19-200', 'Lat': '53.649858', 'Lng': '22.460514'}, {'Nazwa': 'Drogeria Hebe', 'Adres': 'Carrefour Kozielska 20', 'Miasto': 'Kędzierzyn-Koźle, 47-220', 'Lat': '50.341691', 'Lng': '18.194396'}, {'Nazwa': 'Drogeria Hebe', 'Adres': 'Galeria Rondo Partyzantów 2a', 'Miasto': 'Bochnia, 32-700', 'Lat': '49.97871', 'Lng': '20.426789'}, {'Nazwa': 'Drogeria Hebe', 'Adres': 'City Forum Podwale 5', 'Miasto': 'Gdańsk, 80-895', 'Lat': '54.355918', 'Lng': '18.646567'}, {'Nazwa': 'Drogeria Hebe', 'Adres': 'Galeria Alfa Świętojańska 15', 'Miasto': 'Białystok, 15-277', 'Lat': '53.126155', 'Lng': '23.169984'}, {'Nazwa': 'Drogeria Hebe', 'Adres': 'Libero Kościuszki 229', 'Miasto': 'Katowice, 40-600', 'Lat': '50.225529', 'Lng': '18.987399'}, {'Nazwa': 'Drogeria Hebe', 'Adres': 'Park Handlowy Piłsudskiego 121A', 'Miasto': 'Łomża, 18-400', 'Lat': '53.167131', 'Lng': '22.054873'}, {'Nazwa': 'Drogeria Hebe', 'Adres': 'Wola Park Górczewska 124', 'Miasto': 'Warszawa, 01-460', 'Lat': '52.242174', 'Lng': '20.931447'}, {'Nazwa': 'Drogeria Hebe', 'Adres': 'Gemini Tychy Towarowa 2', 'Miasto': 'Tychy, 43-100', 'Lat': '50.098958', 'Lng': '19.008928'}, {'Nazwa': 'Drogeria Hebe', 'Adres': 'PH PKS Bohaterów Monte Cassino 10', 'Miasto': 'Białystok , 15-873', 'Lat': '53.132249', 'Lng': '23.13506'}, {'Nazwa': 'Drogeria Hebe', 'Adres': 'CH Jantar Szczecińska 58', 'Miasto': 'Słupsk, 76-200', 'Lat': '54.454196', 'Lng': '16.990174'}, {'Nazwa': 'Drogeria Hebe', 'Adres': 'VIVO! Lublin Al. Unii Lubelskiej 2', 'Miasto': 'Lublin, 20-108', 'Lat': '51.249968', 'Lng': '22.576151'}, {'Nazwa': 'Drogeria Hebe', 'Adres': 'CH Focus Mall Jagiellońska 39', 'Miasto': 'Bydgoszcz, 85-097', 'Lat': '53.124157', 'Lng': '18.016694'}, {'Nazwa': 'Drogeria Hebe', 'Adres': 'CH Sarni Stok 2', 'Miasto': 'Bielsko-Biała, 43-300', 'Lat': '49.840321', 'Lng': '19.036314'}, {'Nazwa': 'Drogeria Hebe', 'Adres': 'Stela Korfantego 23', 'Miasto': 'Cieszyn, 43-400', 'Lat': '49.750278', 'Lng': '18.639632'}, {'Nazwa': 'Drogeria Hebe', 'Adres': 'Kurniki 9', 'Miasto': 'Kraków, 31-156', 'Lat': '50.067158', 'Lng': '19.944734'}, {'Nazwa': 'Drogeria Hebe', 'Adres': 'Rynek 5', 'Miasto': 'Rybnik, 44-200', 'Lat': '50.095867', 'Lng': '18.542592'}, {'Nazwa': 'Drogeria Hebe', 'Adres': 'Galeria Lwowska 56', 'Miasto': 'Zamość, 22-400', 'Lat': '50.705464', 'Lng': '23.282991'}, {'Nazwa': 'Drogeria hebe', 'Adres': 'CH Pogoria Jana III Sobieskiego 6', 'Miasto': 'Dąbrowa Górnicza, 41-300', 'Lat': '50.327024', 'Lng': '19.182171'}, {'Nazwa': 'Drogeria Hebe', 'Adres': 'Wapiennikowa 14', 'Miasto': 'Kielce, 25-112', 'Lat': '50.851984', 'Lng': '20.63156'}, {'Nazwa': 'Drogeria Hebe', 'Adres': 'Vendo Park Katowicka 1B', 'Miasto': 'Dąbrowa Górnicza, 41-300', 'Lat': '50.31828', 'Lng': '19.208796'}, {'Nazwa': 'Drogeria Hebe', 'Adres': 'Atrium Targówek Głębocka 15', 'Miasto': 'Warszawa, 03-287', 'Lat': '52.305034', 'Lng': '21.05736'}, {'Nazwa': 'Drogeria Hebe', 'Adres': 'Galeria Wołomin Geodetów 2', 'Miasto': 'Wołomin, 05-200', 'Lat': '52.355972', 'Lng': '21.256108'}, {'Nazwa': 'Drogeria Hebe', 'Adres': 'Galeria Tarnovia Krakowska 149', 'Miasto': 'Tarnów, 33-100', 'Lat': '50.000992', 'Lng': '20.957376'}, {'Nazwa': 'Drogeria Hebe', 'Adres': 'Galeria Hosso Ułanów Karpackich 3', 'Miasto': 'Gubin, 66-620', 'Lat': '51.951295', 'Lng': '14.723334'}, {'Nazwa': 'Drogeria Hebe', 'Adres': 'Banderii 4', 'Miasto': 'Warszawa, 01-164', 'Lat': '52.245776', 'Lng': '20.962347'}, {'Nazwa': 'Drogeria Hebe', 'Adres': 'Forum Gdańsk Targ Sienny 7', 'Miasto': 'Gdańsk, 80-806', 'Lat': '54.349355', 'Lng': '18.643524'}, {'Nazwa': 'Drogeria Hebe', 'Adres': 'Galeria Krosno Legionów 17', 'Miasto': 'Krosno, 38-400', 'Lat': '49.69248', 'Lng': '21.772475'}, {'Nazwa': 'Drogeria Hebe', 'Adres': 'CH Słowiańska Jeleniogórska 42', 'Miasto': 'Zgorzelec, 59-900', 'Lat': '51.155781', 'Lng': '15.030551'}, {'Nazwa': 'Drogeria Hebe', 'Adres': 'Galeria Zielona Lubelska 2', 'Miasto': 'Puławy, 24-100', 'Lat': '51.415706', 'Lng': '21.969699'}, {'Nazwa': 'Drogeria Hebe', 'Adres': 'Galeria Dębicka Ks. Nosala 2', 'Miasto': 'Dębica, 39-200', 'Lat': '50.046312', 'Lng': '21.412573'}, {'Nazwa': 'Drogeria Hebe', 'Adres': 'Kraszewskiego 30', 'Miasto': 'Poznań, 60-519', 'Lat': '52.407997', 'Lng': '16.901752'}, {'Nazwa': 'Drogeria Hebe', 'Adres': 'Manufaktura Jana Karskiego 5/15', 'Miasto': 'Łódź, 91-071', 'Lat': '51.779332', 'Lng': '19.441172'}, {'Nazwa': 'Drogeria Hebe', 'Adres': 'Galeria Hosso Słowiańska 1', 'Miasto': 'Świebodzin , 66-200', 'Lat': '52.234624', 'Lng': '15.534067'}, {'Nazwa': 'Drogeria Hebe', 'Adres': 'Auchan Św.Antoniego 2', 'Miasto': 'Swadzim, 62-080', 'Lat': '52.440288', 'Lng': '16.765847'}, {'Nazwa': 'Drogeria Hebe', 'Adres': 'Al. Rzeczypospolitej 23', 'Miasto': 'Warszawa, 02-972', 'Lat': '52.164467', 'Lng': '21.069182'}, {'Nazwa': 'Drogeria Hebe', 'Adres': 'Promenady Wrocławskie Zakładowa 12b', 'Miasto': 'Wrocław, 50-231', 'Lat': '51.130161', 'Lng': '17.042626'}, {'Nazwa': 'Drogeria Hebe', 'Adres': 'Zgorzelecka 12', 'Miasto': 'Bolesławiec, 59-700', 'Lat': '51.264194', 'Lng': '15.558354'}, {'Nazwa': 'Drogeria Hebe', 'Adres': 'Konstruktorska 10C', 'Miasto': 'Warszawa, 02-673', 'Lat': '52.185771', 'Lng': '20.989769'}, {'Nazwa': 'Drogeria Hebe', 'Adres': 'Dekada Sieradz Wojska Polskiego 11', 'Miasto': 'Sieradz, 98-200', 'Lat': '51.597125', 'Lng': '18.725298'}, {'Nazwa': 'Drogeria Hebe', 'Adres': 'Vendo Park Wyszyńskiego 17', 'Miasto': 'Skierniewice, 96-100', 'Lat': '51.971931', 'Lng': '20.1444'}, {'Nazwa': 'Drogeria Hebe', 'Adres': 'Atrium Copernicus Żółkiewskiego 15', 'Miasto': 'Toruń, 87-100', 'Lat': '53.025084', 'Lng': '18.636702'}, {'Nazwa': 'Drogeria Hebe', 'Adres': 'Stop Shop Kościuszki 15', 'Miasto': 'Świnoujście, 72-600', 'Lat': '53.906357', 'Lng': '14.238068'}, {'Nazwa': 'Drogeria Hebe', 'Adres': 'CH Tulipan Piłsudskiego 94', 'Miasto': 'Łódź, 92-202', 'Lat': '51.765464', 'Lng': '19.495304'}, {'Nazwa': 'Drogeria Hebe', 'Adres': 'Galeria Bem Legionowa 11', 'Miasto': 'Zambrów, 18-300', 'Lat': '52.973089', 'Lng': '22.251849'}, {'Nazwa': 'Drogeria Hebe', 'Adres': 'Quick Park Nowy Otok 11', 'Miasto': 'Oława , 55-200', 'Lat': '50.937099', 'Lng': '17.268627'}, {'Nazwa': 'Drogeria Hebe', 'Adres': 'CH Marino Paprotna 7', 'Miasto': 'Wrocław, 51-117', 'Lat': '51.151859', 'Lng': '17.026739'}, {'Nazwa': 'Drogeria Hebe', 'Adres': 'Zygmunta Augusta 5/7', 'Miasto': 'Bydgoszcz, 85-082', 'Lat': '53.134831', 'Lng': '17.992177'}, {'Nazwa': 'Drogeria Hebe', 'Adres': 'Noskowskiego 1', 'Miasto': 'Gdańsk, 80-171', 'Lat': '54.355491', 'Lng': '18.614577'}, {'Nazwa': 'Drogeria Hebe', 'Adres': 'Galeria Pomorska Fordońska 141', 'Miasto': 'Bydgoszcz, 85-739', 'Lat': '53.125655', 'Lng': '18.067407'}, {'Nazwa': 'Drogeria Hebe', 'Adres': 'Powstańców Warszawy 4', 'Miasto': 'Mielec, 39-300', 'Lat': '50.287839', 'Lng': '21.4588'}, {'Nazwa': 'Drogeria Hebe', 'Adres': 'Jagiellońska 1', 'Miasto': 'Częstochowa, 42-216', 'Lat': '50.783056', 'Lng': '19.141191'}, {'Nazwa': 'Drogeria Hebe', 'Adres': 'Outlet Park Struga 42', 'Miasto': 'Szczecin, 70-784', 'Lat': '53.380365', 'Lng': '14.671259'}, {'Nazwa': 'Drogeria Hebe', 'Adres': 'Galeria Słupsk Tuwima 32', 'Miasto': 'Słupsk, 76-200', 'Lat': '54.464378', 'Lng': '17.024055'}, {'Nazwa': 'Drogeria Hebe', 'Adres': 'Santocka 18/7', 'Miasto': 'Szczecin, 71-113', 'Lat': '53.432948', 'Lng': '14.512665'}, {'Nazwa': 'Drogeria Hebe', 'Adres': 'Park Handlowy Okulickiego 20C', 'Miasto': 'Piaseczno, 05-500', 'Lat': '52.08295', 'Lng': '21.032841'}, {'Nazwa': 'Drogeria Hebe', 'Adres': 'Kopernika 3b', 'Miasto': 'Trzcianka, 64-980', 'Lat': '53.040702', 'Lng': '16.464644'}, {'Nazwa': 'Drogeria Hebe', 'Adres': 'Stop Shop Budowlana 11', 'Miasto': 'Kętrzyn, 11-400', 'Lat': '54.079922', 'Lng': '21.388883'}, {'Nazwa': 'Drogeria Hebe', 'Adres': 'Nowa Mleczarnia Konstytucji 3Maj 13', 'Miasto': 'Radzymin, 05-250', 'Lat': '52.414982', 'Lng': '21.188192'}, {'Nazwa': 'Drogeria Hebe', 'Adres': 'Gemini Park Leszczyńska 20', 'Miasto': 'Bielsko Biała, 43-300', 'Lat': '49.802978', 'Lng': '19.050724'}, {'Nazwa': 'Drogeria Hebe', 'Adres': 'Lipowa 30', 'Miasto': 'Białystok, 15-427', 'Lat': '53.134231', 'Lng': '23.148399'}, {'Nazwa': 'Drogeria Hebe', 'Adres': 'Al. Jerozolimskie 11', 'Miasto': 'Warszawa, 00-508', 'Lat': '52.230776', 'Lng': '21.015395'}, {'Nazwa': 'Drogeria Hebe', 'Adres': 'Przejście Podziemne lok 7', 'Miasto': 'Warszawa, 00-024', 'Lat': '52.228047', 'Lng': '20.999402'}, {'Nazwa': 'Drogeria Hebe', 'Adres': 'Rondo ONZ 1', 'Miasto': 'Warszawa, 00-124', 'Lat': '52.233242', 'Lng': '20.997995'}, {'Nazwa': 'Drogeria Hebe', 'Adres': 'Lindleya 16', 'Miasto': 'Warszawa, 02-013', 'Lat': '52.225155', 'Lng': '20.998965'}, {'Nazwa': 'Drogeria Hebe', 'Adres': 'Żelazna 32', 'Miasto': 'Warszawa, 00-832', 'Lat': '52.230691', 'Lng': '20.991391'}, {'Nazwa': 'Drogeria Hebe', 'Adres': 'Solec 83', 'Miasto': 'Warszawa, 00-382', 'Lat': '52.234757', 'Lng': '21.031007'}, {'Nazwa': 'Drogeria Hebe', 'Adres': 'CH Plac Unii Puławska 2', 'Miasto': 'Warszawa, 02-566', 'Lat': '52.212757', 'Lng': '21.017545'}, {'Nazwa': 'Drogeria Hebe', 'Adres': 'Targowa 24', 'Miasto': 'Warszawa, 03-733', 'Lat': '52.252497', 'Lng': '21.035772'}, {'Nazwa': 'Drogeria Hebe', 'Adres': 'Kasprowicza 48', 'Miasto': 'Warszawa, 01-871', 'Lat': '52.281317', 'Lng': '20.949015'}, {'Nazwa': 'Drogeria Hebe', 'Adres': 'Stacja Międzylesie Żegańska 2A', 'Miasto': 'Warszawa, 04-713', 'Lat': '52.205032', 'Lng': '21.167281'}, {'Nazwa': 'Drogeria Hebe', 'Adres': 'Al. Marszałka J. Piłsudskiego 2', 'Miasto': 'Warszawa, 05-077', 'Lat': '52.224635', 'Lng': '21.241131'}, {'Nazwa': 'Drogeria Hebe', 'Adres': 'Sienkiewicza 10', 'Miasto': 'Legionowo, 05-120', 'Lat': '52.400275', 'Lng': '20.935742'}, {'Nazwa': 'Drogeria Hebe', 'Adres': 'Harcerska 2', 'Miasto': 'Nowy Dwór Mazowiecki, 05-100', 'Lat': '52.4268', 'Lng': '20.71716'}, {'Nazwa': 'Drogeria Hebe', 'Adres': 'Konstytucji 3 maja 2', 'Miasto': 'Rawa Mazowiecka, 96-200', 'Lat': '51.762833', 'Lng': '20.253215'}, {'Nazwa': 'Drogeria Hebe', 'Adres': 'CH INBAG Feliksa Nowowiejskiego 1', 'Miasto': 'Szamotuły, 64-500', 'Lat': '52.613416', 'Lng': '16.5827'}, {'Nazwa': 'Drogeria Hebe', 'Adres': 'Dereniowa 10', 'Miasto': 'Warszawa, 02-776', 'Lat': '52.146407', 'Lng': '21.043665'}, {'Nazwa': 'Drogeria Hebe', 'Adres': 'Wroclavia Shopping Center Sucha 1', 'Miasto': 'Wrocław, 50-086', 'Lat': '51.097042', 'Lng': '17.033781'}, {'Nazwa': 'Drogeria Hebe', 'Adres': 'Galeria Orkana 6', 'Miasto': 'Lublin, 20-001', 'Lat': '51.23418', 'Lng': '22.49595'}, {'Nazwa': 'Drogeria Hebe', 'Adres': 'Posnania Pleszewska 1', 'Miasto': 'Poznań, 61-136', 'Lat': '52.397126', 'Lng': '16.956134'}, {'Nazwa': 'Drogeria Hebe', 'Adres': 'Wrocławska 8', 'Miasto': 'Warszawa, 01-493', 'Lat': '52.247755', 'Lng': '20.916505'}, {'Nazwa': 'Drogeria Hebe', 'Adres': 'Galeria Sanowa W. Brudzewskiego 1', 'Miasto': 'Przemyśl, 37-700', 'Lat': '49.791103', 'Lng': '22.783069'}, {'Nazwa': 'Drogeria Hebe', 'Adres': 'Galeria Solna Wojska Polskiego 16', 'Miasto': 'Inowrocław, 88-109', 'Lat': '52.78413', 'Lng': '18.240932'}, {'Nazwa': 'Drogeria Hebe', 'Adres': 'Auchan Francuska 6', 'Miasto': 'Wrocław, 55-040', 'Lat': '51.053497', 'Lng': '16.970744'}, {'Nazwa': 'Drogeria Hebe', 'Adres': 'CH Galaxy Wyzwolenia 18', 'Miasto': 'Szczecin, 70-554', 'Lat': '53.433762', 'Lng': '14.555873'}, {'Nazwa': 'Drogeria Hebe', 'Adres': 'M1 Al. J. Grzecznarowskiego 28', 'Miasto': 'Radom, 26-600', 'Lat': '51.381582', 'Lng': '21.169992'}, {'Nazwa': 'Drogeria Hebe', 'Adres': 'Galeria Twierdza Przemysłowa 10', 'Miasto': 'Zamość, 22-400', 'Lat': '50.726849', 'Lng': '23.263361'}, {'Nazwa': 'Drogeria Hebe', 'Adres': 'VIVO! Krosno Bieszczadzka 29', 'Miasto': 'Krosno, 38-400', 'Lat': '49.676998', 'Lng': '21.775813'}, {'Nazwa': 'Drogeria Hebe', 'Adres': 'King Cross Praga Jubilerska 1/3', 'Miasto': 'Warszawa, 04-190', 'Lat': '52.235545', 'Lng': '21.119003'}, {'Nazwa': 'Drogeria Hebe', 'Adres': 'Galeria Leszno Konstytucji 3Maja 12', 'Miasto': 'Leszno, 64-100', 'Lat': '51.826349', 'Lng': '16.599341'}, {'Nazwa': 'Drogeria Hebe', 'Adres': 'CH Osowa Spacerowa 48', 'Miasto': 'Gdańsk, 80-299', 'Lat': '54.426027', 'Lng': '18.490107'}, {'Nazwa': 'Drogeria Hebe', 'Adres': 'Galeria Północna Światowida 17', 'Miasto': 'Warszawa, 03-144', 'Lat': '52.317344', 'Lng': '20.966167'}, {'Nazwa': 'Drogeria Hebe', 'Adres': 'Galeria Sudecka Jana Pawła II 51', 'Miasto': 'Jelenia Góra, 58-506', 'Lat': '50.921687', 'Lng': '15.762148'}, {'Nazwa': 'Drogeria Hebe', 'Adres': 'Kwiatkowskiego 8', 'Miasto': 'Tarnobrzeg, 39-400', 'Lat': '50.573471', 'Lng': '21.692314'}, {'Nazwa': 'Drogeria Hebe', 'Adres': 'CH Kaskada Al. Niepodległości 36', 'Miasto': 'Szczecin, 70-404', 'Lat': '53.428127', 'Lng': '14.551584'}, {'Nazwa': 'Drogeria Hebe', 'Adres': 'Auchan Mariana Rejewskiego 3', 'Miasto': 'Bydgoszcz, 85-791', 'Lat': '53.136746', 'Lng': '18.115684'}, {'Nazwa': 'Drogeria Hebe', 'Adres': 'Galeria Słoneczna Chrobrego 1', 'Miasto': 'Radom, 26-600', 'Lat': '51.406345', 'Lng': '21.155306'}, {'Nazwa': 'Drogeria Hebe', 'Adres': 'Galeria Wileńska Targowa 72', 'Miasto': 'Warszawa, 03-734', 'Lat': '52.255045', 'Lng': '21.037599'}, {'Nazwa': 'Drogeria Hebe', 'Adres': 'Oleska 20', 'Miasto': 'Lubliniec, 42-700', 'Lat': '50.678999', 'Lng': '18.678221'}, {'Nazwa': 'Drogeria Hebe', 'Adres': 'Warszawska 63', 'Miasto': 'Kozienice, 26-900', 'Lat': '51.59463', 'Lng': '21.532371'}, {'Nazwa': 'Drogeria Hebe', 'Adres': 'Szarych Szeregów 1', 'Miasto': 'Lubań, 59-800', 'Lat': '51.116852', 'Lng': '15.290981'}, {'Nazwa': 'Drogeria Hebe', 'Adres': 'Stara Ujeżdżalnia Sikorskiego 2', 'Miasto': 'Jarosław, 37-500', 'Lat': '50.014922', 'Lng': '22.679083'}, {'Nazwa': 'Drogeria Hebe', 'Adres': 'Pułaskiego 6', 'Miasto': 'Włocławek, 87-800', 'Lat': '52.65435', 'Lng': '19.059425'}, {'Nazwa': 'Drogeria Hebe', 'Adres': 'Karuzela Wojska Polskiego 22c', 'Miasto': 'Mrągowo, 11-700', 'Lat': '53.858439', 'Lng': '21.304884'}, {'Nazwa': 'Drogeria Hebe', 'Adres': 'Galeria Piastova Witkowska 1', 'Miasto': 'Gniezno, 62-200', 'Lat': '52.526895', 'Lng': '17.597757'}, {'Nazwa': 'Drogeria Hebe', 'Adres': 'Galeria Rondo Kruszwicka 1', 'Miasto': 'Bydgoszcz, 85-213', 'Lat': '53.124331', 'Lng': '17.984935'}, {'Nazwa': 'Drogeria Hebe', 'Adres': 'CH Zielone Wzgórze Wrocławska 20', 'Miasto': 'Białystok, 15-660', 'Lat': '53.123856', 'Lng': '23.09876'}, {'Nazwa': 'Drogeria Hebe', 'Adres': 'Brama Mazur Plac Miejski 1', 'Miasto': 'Ełk, 19-300', 'Lat': '53.823222', 'Lng': '22.36188'}, {'Nazwa': 'Drogeria Hebe', 'Adres': 'Pasaż Łódzki Al. Jana Pawła II 30', 'Miasto': 'Łódź, 90-001', 'Lat': '51.74068', 'Lng': '19.441983'}, {'Nazwa': 'Drogeria Hebe', 'Adres': 'Hop Stop Pociskowa 4', 'Miasto': 'Warszawa Rembertów, 04-471', 'Lat': '52.255669', 'Lng': '21.157949'}, {'Nazwa': 'Drogeria Hebe', 'Adres': 'Metro Park Al. Jana Pawła II 49', 'Miasto': 'Biłgoraj, 23-400', 'Lat': '50.530477', 'Lng': '22.70869'}, {'Nazwa': 'Drogeria Hebe', 'Adres': 'Park Handlowy Łokietka 24b', 'Miasto': 'Brzeg, 49-300', 'Lat': '50.854807', 'Lng': '17.479389'}, {'Nazwa': 'Drogeria Hebe', 'Adres': 'Magiczna Park Magiczna 22', 'Miasto': 'Warszawa, 03-289', 'Lat': '52.315791', 'Lng': '21.061784'}, {'Nazwa': 'Drogeria Hebe', 'Adres': 'Focus Mall Słowackiego 123', 'Miasto': 'Piotrków Trybunalski, 97-300', 'Lat': '51.411171', 'Lng': '19.66725'}, {'Nazwa': 'Drogeria Hebe', 'Adres': 'CH Ogrody Płk. Dąbka 152', 'Miasto': 'Elbląg, 82-300', 'Lat': '54.184812', 'Lng': '19.407214'}, {'Nazwa': 'Drogeria Hebe', 'Adres': 'Aura Centrum Al. Piłsudskiego 16', 'Miasto': 'Olsztyn, 10-576', 'Lat': '53.777313', 'Lng': '20.483028'}, {'Nazwa': 'Drogeria Hebe', 'Adres': 'Plejada J.N. Jeziorańskiego 25', 'Miasto': 'Bytom, 41-923', 'Lat': '50.34604', 'Lng': '18.849391'}, {'Nazwa': 'Drogeria Hebe', 'Adres': 'Service Centre Warszawska 48', 'Miasto': 'Pisz, 12-200', 'Lat': '53.62264', 'Lng': '21.813542'}, {'Nazwa': 'Drogeria Hebe', 'Adres': 'Atrium Felicity Al. Witosa 32', 'Miasto': 'Lublin, 20-315', 'Lat': '51.231855', 'Lng': '22.614737'}, {'Nazwa': 'Drogeria Hebe', 'Adres': 'CH Korona Warszawska 26', 'Miasto': 'Kielce, 25-312', 'Lat': '50.87569', 'Lng': '20.635886'}, {'Nazwa': 'Drogeria Hebe', 'Adres': 'Premium Park Broniewskiego 9', 'Miasto': 'Łowicz, 99-400', 'Lat': '52.101035', 'Lng': '19.933289'}, {'Nazwa': 'Drogeria Hebe', 'Adres': 'Galeria Vivo Fryderyka Chopina 42', 'Miasto': 'Stalowa Wola, 37-450', 'Lat': '50.586771', 'Lng': '22.063739'}, {'Nazwa': 'Drogeria Hebe', 'Adres': 'Popiełuszki 2a', 'Miasto': 'Zgierz, 95-100', 'Lat': '51.8553', 'Lng': '19.407726'}, {'Nazwa': 'Drogeria Hebe', 'Adres': 'Galeria Venus Wyszyńskiego 17', 'Miasto': 'Świdnik, 21-040', 'Lat': '51.216695', 'Lng': '22.698107'}, {'Nazwa': 'Drogeria Hebe', 'Adres': 'Millenium Hall Al. Kopisto 1', 'Miasto': 'Rzeszów, 35-315', 'Lat': '50.027407', 'Lng': '22.014593'}, {'Nazwa': 'Drogeria Hebe', 'Adres': 'Galeria Krakowska Pawia 5', 'Miasto': 'Kraków, 31-154', 'Lat': '50.067022', 'Lng': '19.946038'}, {'Nazwa': 'Drogeria Hebe', 'Adres': 'Galeria Hosso Wojska Polskiego 28', 'Miasto': 'Świdwin, 78-300', 'Lat': '53.772481', 'Lng': '15.773279'}, {'Nazwa': 'Drogeria Hebe', 'Adres': 'Królowej Jadwigi 9', 'Miasto': 'Oświęcim, 32-600', 'Lat': '50.033453', 'Lng': '19.22257'}, {'Nazwa': 'Drogeria hebe', 'Adres': 'Oławska 13', 'Miasto': 'Wrocław, 50-123', 'Lat': '51.108391', 'Lng': '17.035273'}, {'Nazwa': 'Drogeria Hebe', 'Adres': 'Galeria Łomianki Brukowa 25', 'Miasto': 'Łomianki, 05-092', 'Lat': '52.32665', 'Lng': '20.90028'}, {'Nazwa': 'Drogeria Hebe', 'Adres': 'Struga 73', 'Miasto': 'Radom, 26-615', 'Lat': '51.409811', 'Lng': '21.176166'}, {'Nazwa': 'Drogeria Hebe', 'Adres': 'Vendo Park Grudzińskich 4', 'Miasto': 'Chodzież, 64-800', 'Lat': '52.987108', 'Lng': '16.921074'}, {'Nazwa': 'Drogeria Hebe', 'Adres': 'Galeria Warmińska Tuwima 26', 'Miasto': 'Olsztyn, 10-748', 'Lat': '53.753953', 'Lng': '20.48491'}, {'Nazwa': 'Drogeria Hebe', 'Adres': 'Park Handlowy Preisnera 2', 'Miasto': 'Radzyń Podlaski, 21-300', 'Lat': '51.773071', 'Lng': '22.618684'}, {'Nazwa': 'Drogeria Hebe', 'Adres': 'Blue City Al. Jerozolimskie 179', 'Miasto': 'Warszawa, 02-222', 'Lat': '52.212519', 'Lng': '20.95569'}, {'Nazwa': 'Drogeria Hebe', 'Adres': 'Serenada Al.Gen.B.Komorowskiego 41', 'Miasto': 'Kraków, 31-876', 'Lat': '50.088145', 'Lng': '19.985484'}, {'Nazwa': 'Drogeria Hebe', 'Adres': 'PH Saller Południowa 5', 'Miasto': 'Sulechów, 66-100', 'Lat': '52.076455', 'Lng': '15.612541'}, {'Nazwa': 'Drogeria Hebe', 'Adres': 'Kościuszki 1', 'Miasto': 'Częstochowa, 42-202', 'Lat': '50.8125', 'Lng': '19.115862'}, {'Nazwa': 'Drogeria Hebe', 'Adres': 'Ozimska 14', 'Miasto': 'Opole, 45-057', 'Lat': '50.667304', 'Lng': '17.924585'}, {'Nazwa': 'Drogeria Hebe', 'Adres': 'Pomorska 585', 'Miasto': 'Łódź, 90-201', 'Lat': '51.792524', 'Lng': '19.587715'}, {'Nazwa': 'Drogeria Hebe', 'Adres': 'Galeria Kociewska Pomorska 1', 'Miasto': 'Tczew, 83-110', 'Lat': '54.096375', 'Lng': '18.784866'}, {'Nazwa': 'Drogeria Hebe', 'Adres': 'CH Magda Piotrkowska 30', 'Miasto': 'Łódź, 90-410', 'Lat': '51.772857', 'Lng': '19.453806'}, {'Nazwa': 'Drogeria Hebe', 'Adres': 'Park4U Sarnowska 6', 'Miasto': 'Rawicz, 63-900', 'Lat': '51.613916', 'Lng': '16.864961'}, {'Nazwa': 'Drogeria Hebe', 'Adres': 'Nowy Rynek Podwale 25', 'Miasto': 'Jelenia Góra, 58-500', 'Lat': '50.921687', 'Lng': '15.759959'}, {'Nazwa': 'Drogeria Hebe', 'Adres': 'Nowy Targ', 'Miasto': 'Wrocław, 50-144', 'Lat': '51.110953', 'Lng': '17.036889'}, {'Nazwa': 'Drogeria Hebe', 'Adres': 'Vendo Park Nowy Rynek 2', 'Miasto': 'Pułtusk, 06-100', 'Lat': '52.700426', 'Lng': '21.084352'}, {'Nazwa': 'Drogeria Hebe', 'Adres': 'Męczenników 11B', 'Miasto': 'Działdowo, 13-200', 'Lat': '53.237633', 'Lng': '20.173186'}, {'Nazwa': 'Drogeria Hebe', 'Adres': 'Vendo Park Warszawska 81A', 'Miasto': 'Łask, 98-100', 'Lat': '51.593537', 'Lng': '19.155927'}, {'Nazwa': 'Drogeria Hebe', 'Adres': 'Chrobrego 4', 'Miasto': 'Warszawa, 02-479', 'Lat': '52.2029', 'Lng': '20.9151'}, {'Nazwa': 'Drogeria Hebe', 'Adres': 'Kardynała Wyszyńskiego 14', 'Miasto': 'Starachowice, 27-200', 'Lat': '51.036743', 'Lng': '21.085319'}, {'Nazwa': 'Drogeria Hebe', 'Adres': 'Dobrowolskiego 8', 'Miasto': 'Pruszcz Gdański, 83-000', 'Lat': '54.26578', 'Lng': '18.628803'}, {'Nazwa': 'Drogeria Hebe', 'Adres': 'Sierakowskiego 1a', 'Miasto': 'Piaseczno, 05-500', 'Lat': '52.074354', 'Lng': '21.026378'}, {'Nazwa': 'Drogeria Hebe', 'Adres': 'Świętojańska 32', 'Miasto': 'Gdynia, 81-372', 'Lat': '54.518363', 'Lng': '18.539708'}, {'Nazwa': 'Drogeria Hebe', 'Adres': 'Limanowskiego 2/4', 'Miasto': 'Łódź, 91-059', 'Lat': '51.786562', 'Lng': '19.44964'}, {'Nazwa': 'Drogeria Hebe', 'Adres': 'Park Łomianki Warszawska 201', 'Miasto': 'Łomianki, 05-092', 'Lat': '52.346192', 'Lng': '20.865261'}, {'Nazwa': 'Drogeria Hebe', 'Adres': 'CH Dąbrówka Roździeńskiego 200', 'Miasto': 'Katowice, 40-315', 'Lat': '50.268606', 'Lng': '19.060014'}, {'Nazwa': 'Drogeria Hebe', 'Adres': 'Kupiec Poznański Pl. Wiosny Ludów 2', 'Miasto': 'Poznań, 61-831', 'Lat': '52.405523', 'Lng': '16.929565'}, {'Nazwa': 'Drogeria Hebe', 'Adres': 'Stary Browar Miodowa 21', 'Miasto': 'Kościerzyna, 83-400', 'Lat': '54.122559', 'Lng': '17.974461'}, {'Nazwa': 'Drogeria Hebe', 'Adres': 'Gemini Park Nowodąbrowska 127', 'Miasto': 'Tarnów, 33-100', 'Lat': '50.029712', 'Lng': '20.999713'}, {'Nazwa': 'Drogeria Hebe', 'Adres': 'Floriańska 43', 'Miasto': 'Kraków, 31-019', 'Lat': '50.063964', 'Lng': '19.938791'}, {'Nazwa': 'Drogeria Hebe', 'Adres': 'Atrium Koszalin Paderewskiego 1', 'Miasto': 'Koszalin, 75-736', 'Lat': '54.176732', 'Lng': '16.199226'}, {'Nazwa': 'Drogeria Hebe', 'Adres': 'Mosty Tysiąclecia 2a', 'Miasto': 'Płock, 09-400', 'Lat': '52.553117', 'Lng': '19.687853'}, {'Nazwa': 'Drogeria Hebe', 'Adres': 'Park Handlowy Łąkowa 5', 'Miasto': 'Sokółka, 16-100', 'Lat': '53.398508', 'Lng': '23.516511'}, {'Nazwa': 'Drogeria Hebe', 'Adres': 'Solaris Mikołaja Kopernika 16', 'Miasto': 'Opole, 45-040', 'Lat': '50.670375', 'Lng': '17.923991'}, {'Nazwa': 'Drogeria Hebe', 'Adres': 'CH Janki Mszczonowska 3', 'Miasto': 'Janki, 05-090', 'Lat': '52.135126', 'Lng': '20.890382'}, {'Nazwa': 'Drogeria Hebe', 'Adres': 'Kościuszki 47', 'Miasto': 'Pruszków, 05-800', 'Lat': '52.167345', 'Lng': '20.798899'}, {'Nazwa': 'Drogeria Hebe', 'Adres': 'Pl. św .Józefa 12', 'Miasto': 'Kalisz, 62-800', 'Lat': '51.764068', 'Lng': '18.090212'}, {'Nazwa': 'Drogeria Hebe', 'Adres': 'Dąbrowskiego 27a', 'Miasto': 'Poznań, 60-840', 'Lat': '52.411785', 'Lng': '16.906292'}, {'Nazwa': 'Drogeria Hebe', 'Adres': 'Zwycięstwa 7', 'Miasto': 'Gliwice, 44-100', 'Lat': '50.294923', 'Lng': '18.665451'}, {'Nazwa': 'Drogeria Hebe', 'Adres': 'Kołłataja 61a', 'Miasto': 'Otwock, 05-400', 'Lat': '52.118232', 'Lng': '21.244663'}, {'Nazwa': 'Drogeria Hebe', 'Adres': 'Galeria Handlowa MM Św. Marcin 24', 'Miasto': 'Poznań, 61-805', 'Lat': '52.40615', 'Lng': '16.925574'}, {'Nazwa': 'Drogeria Hebe', 'Adres': 'Gildia Rzyczypospolitej 33b', 'Miasto': 'Gdańsk, 80-463', 'Lat': '54.390326', 'Lng': '18.609779'}, {'Nazwa': 'Drogeria Hebe', 'Adres': 'Borowska 114', 'Miasto': 'Wrocław, 50-552', 'Lat': '51.085097', 'Lng': '17.033576'}, {'Nazwa': 'Drogeria Hebe', 'Adres': 'CH Europa II Piłsudskiego 34', 'Miasto': 'Rzeszów, 35-001', 'Lat': '50.041248', 'Lng': '22.001529'}, {'Nazwa': 'Drogeria Hebe', 'Adres': 'CH Trzy Korony Lwowska 80', 'Miasto': 'Nowy Sącz, 33-300', 'Lat': '49.61905', 'Lng': '20.696551'}, {'Nazwa': 'Drogeria Hebe', 'Adres': 'Kościuszki 7', 'Miasto': 'Zakopane, 34-500', 'Lat': '49.295811', 'Lng': '19.951118'}, {'Nazwa': 'Drogeria Hebe', 'Adres': 'CH Przymorze Obrońców Wybrzeża 1', 'Miasto': 'Gdańsk, 80-398', 'Lat': '54.409447', 'Lng': '18.590116'}, {'Nazwa': 'Drogeria Hebe', 'Adres': 'Carrefour Rybnik Gliwicka 45', 'Miasto': 'Rybnik, 44-200', 'Lat': '50.112845', 'Lng': '18.543312'}, {'Nazwa': 'Drogeria Hebe', 'Adres': 'Galeria Zdrój Podhalańska 26', 'Miasto': 'Jastrzębie Zdrój, 44-335', 'Lat': '49.939903', 'Lng': '18.591783'}, {'Nazwa': 'Drogeria Hebe', 'Adres': 'Galeria Mazurska Jana Pawła II 9', 'Miasto': 'Ostróda, 14-100', 'Lat': '53.698766', 'Lng': '19.955414'}, {'Nazwa': 'Drogeria Hebe', 'Adres': 'Wieniawskiego 19', 'Miasto': 'Wałbrzych, 58-306', 'Lat': '50.821946', 'Lng': '16.287733'}, {'Nazwa': 'Drogeria Hebe', 'Adres': 'Plaza Dwernickiego 15', 'Miasto': 'Suwałki, 16-400', 'Lat': '54.107817', 'Lng': '22.932461'}, {'Nazwa': 'Drogeria Hebe', 'Adres': 'Plaza Broniewskiego 90', 'Miasto': 'Toruń, 87-100', 'Lat': '53.012765', 'Lng': '18.566507'}, {'Nazwa': 'Drogeria Hebe', 'Adres': 'Carrefour Dąbrówki 5', 'Miasto': 'Zielona Góra, 65-096', 'Lat': '51.938154', 'Lng': '15.492968'}, {'Nazwa': 'Drogerie Hebe', 'Adres': 'Retail Park Jana Pawła II 41', 'Miasto': 'Żory, 44-240', 'Lat': '50.032839', 'Lng': '18.68827'}, {'Nazwa': 'Drogeria Hebe', 'Adres': 'Galeria Gorlicka Ogrodowa 6', 'Miasto': 'Gorlice, 38-300', 'Lat': '49.656846', 'Lng': '21.157674'}, {'Nazwa': 'Drogeria Hebe', 'Adres': 'Gubińska 2a', 'Miasto': 'Wrocław, 54-434', 'Lat': '51.113574', 'Lng': '16.95634'}, {'Nazwa': 'Drogeria Hebe', 'Adres': 'Sienkiewicza 76', 'Miasto': 'Wrocław, 50-349', 'Lat': '51.116482', 'Lng': '17.05403'}, {'Nazwa': 'Drogeria Hebe', 'Adres': 'Galeria Hermes Krasińskiego 18', 'Miasto': 'Skarżysko-Kamienna, 26-110', 'Lat': '51.114225', 'Lng': '20.858841'}, {'Nazwa': 'Drogeria Hebe', 'Adres': 'Galeria Metropolia Kilińskiego 4', 'Miasto': 'Gdańsk, 80-452', 'Lat': '54.387', 'Lng': '18.6055'}, {'Nazwa': 'Drogeria Hebe', 'Adres': 'Focus Mall Wrocławska 17', 'Miasto': 'Zielona Góra, 65-427', 'Lat': '51.935936', 'Lng': '15.509417'}, {'Nazwa': 'Drogeria Hebe', 'Adres': 'Retail Park Cicha 3', 'Miasto': 'Zduńska Wola, 98-220', 'Lat': '51.597569', 'Lng': '18.937524'}, {'Nazwa': 'Drogeria Hebe', 'Adres': 'Tkalnia Grobelna 8', 'Miasto': 'Pabianice, 95-200', 'Lat': '51.661888', 'Lng': '19.353614'}, {'Nazwa': 'Drogeria Hebe', 'Adres': 'Park Handlowy Topaz Węgrowska 3', 'Miasto': 'Sokołów Podlaski, 08-300', 'Lat': '52.406919', 'Lng': '22.220857'}, {'Nazwa': 'Drogeria Hebe', 'Adres': 'Zamenhofa 20', 'Miasto': 'Śrem, 63-100', 'Lat': '52.081037', 'Lng': '17.015156'}, {'Nazwa': 'Drogeria Hebe', 'Adres': 'Galeria Piastów NMP 9', 'Miasto': 'Legnica, 59-220', 'Lat': '51.299491', 'Lng': '16.044806'}, {'Nazwa': 'Drogeria Hebe', 'Adres': 'Galeria Ostrovia Kaliska 120', 'Miasto': 'Ostrów Wielkopolski, 63-400', 'Lat': '51.658212', 'Lng': '17.844791'}, {'Nazwa': 'Drogeria Hebe', 'Adres': 'S1 Center Sienkiewicza 12', 'Miasto': 'Mielec, 39-300', 'Lat': '50.288796', 'Lng': '21.421788'}, {'Nazwa': 'Drogeria Hebe', 'Adres': 'Rejowiecka 34 Galeria Chełm', 'Miasto': 'Chełm, 22-100', 'Lat': '51.144452', 'Lng': '23.456474'}, {'Nazwa': 'Drogeria Hebe', 'Adres': 'Szosa Połczyńska 1D', 'Miasto': 'Białogard, 78-200', 'Lat': '53.998293', 'Lng': '15.992946'}, {'Nazwa': 'Drogeria Hebe', 'Adres': 'Galeria Młociny Zgrupowania AK 15', 'Miasto': 'Warszawa, 01-943', 'Lat': '52.295336', 'Lng': '20.928492'}, {'Nazwa': 'Drogeria Hebe', 'Adres': 'Park Handlowy Piłsudskiego 3', 'Miasto': 'Głogów, 67-200', 'Lat': '51.648201', 'Lng': '16.0758'}, {'Nazwa': 'Drogeria Hebe', 'Adres': 'CH Rywal Brzeska 27', 'Miasto': 'Biała Podlaska, 21-500', 'Lat': '52.064', 'Lng': '23.2257'}, {'Nazwa': 'Drogeria Hebe', 'Adres': '3 Maja 27', 'Miasto': 'Bielawa, 58-260', 'Lat': '50.676799', 'Lng': '16.532782'}, {'Nazwa': 'Drogeria Hebe', 'Adres': 'Arkadia Jana Pawła II 82', 'Miasto': 'Warszawa, 00-175', 'Lat': '52.256343', 'Lng': '20.981657'}, {'Nazwa': 'Drogeria Hebe', 'Adres': 'Łukowska 109 Stop Shop', 'Miasto': 'Białki Siedlce, 08-110', 'Lat': '52.134573', 'Lng': '22.290752'}, {'Nazwa': 'Drogeria Hebe', 'Adres': 'Św.Antoniego 2/4', 'Miasto': 'Wrocław, 50-073', 'Lat': '51.108962', 'Lng': '17.024344'}, {'Nazwa': 'Drogeria Hebe', 'Adres': 'Browary Warszawskie Grzybowska 62', 'Miasto': 'Warszawa, 00-844', 'Lat': '52.2333', 'Lng': '20.9841'}, {'Nazwa': 'Drogeria Hebe', 'Adres': 'Vendo Park Zielona 1', 'Miasto': 'Ostrołęka, 07-410', 'Lat': '53.1092', 'Lng': '21.5043'}, {'Nazwa': 'Drogeria Hebe', 'Adres': 'Zwycięstwa 7', 'Miasto': 'Lębork, 84-300', 'Lat': '54.5381', 'Lng': '17.7425'}, {'Nazwa': 'Drogeria Hebe', 'Adres': 'Forum Gliwice Lipowa 1', 'Miasto': 'Gliwice, 44-100', 'Lat': '50.30012', 'Lng': '18.681699'}, {'Nazwa': 'Drogeria Hebe', 'Adres': 'Sikorskiego 6A', 'Miasto': 'Namysłów, 46-100', 'Lat': '51.076826', 'Lng': '17.721365'}, {'Nazwa': 'Drogeria Hebe', 'Adres': 'Słowackiego 43A', 'Miasto': 'Jawor, 59-400', 'Lat': '51.056483', 'Lng': '16.196044'}, {'Nazwa': 'Drogeria Hebe', 'Adres': 'Warszawska 23', 'Miasto': 'Ciechanów, 06-400', 'Lat': '52.880989', 'Lng': '20.616115'}, {'Nazwa': 'Drogeria Hebe', 'Adres': 'Stary Rynek 14', 'Miasto': 'Mława, 06-500', 'Lat': '53.111066', 'Lng': '20.379978'}, {'Nazwa': 'Drogeria Hebe', 'Adres': 'Galeria Dekada 1go Maja 40', 'Miasto': 'Żyrardów, 96-300', 'Lat': '52.054292', 'Lng': '20.438277'}, {'Nazwa': 'Drogeria Hebe', 'Adres': 'Wolności 22', 'Miasto': 'Chorzów, 41-500', 'Lat': '50.296889', 'Lng': '18.94849'}, {'Nazwa': 'Drogeria Hebe', 'Adres': 'Partyzantów 23', 'Miasto': 'Busko Zdrój, 28-100', 'Lat': '50.470585', 'Lng': '20.720559'}, {'Nazwa': 'Drogeria Hebe', 'Adres': 'Sienkiewicza 27', 'Miasto': 'Kielce, 25-007', 'Lat': '50.871042', 'Lng': '20.625684'}, {'Nazwa': 'Drogeria Hebe', 'Adres': 'Opawska 18', 'Miasto': 'Racibórz, 47-400', 'Lat': '50.087186', 'Lng': '18.214775'}, {'Nazwa': 'Drogeria Hebe', 'Adres': 'Krakowska 6', 'Miasto': 'Tarnów, 33-100', 'Lat': '50.011388', 'Lng': '20.981858'}, {'Nazwa': 'Drogeria Hebe', 'Adres': 'Szeroka 37A', 'Miasto': 'Toruń, 87-100', 'Lat': '53.010171', 'Lng': '18.60367'}, {'Nazwa': 'Drogeria Hebe', 'Adres': 'MMG Ciechanów Władysławowo 65', 'Miasto': 'Opinogóra Górna, 06-406', 'Lat': '52.881381', 'Lng': '20.653807'}, {'Nazwa': 'Drogeria Hebe', 'Adres': 'CH Brama Pomorza Podmiejska 2a', 'Miasto': 'Lipienice, 89-620', 'Lat': '53.693213', 'Lng': '17.615265'}, {'Nazwa': 'Drogeria Hebe', 'Adres': 'Galeria Gryf Wiosenna 32', 'Miasto': 'Szczecin, 70-807', 'Lat': '53.385175', 'Lng': '14.659996'}, {'Nazwa': 'Drogeria Hebe', 'Adres': 'Wójtówka 2c', 'Miasto': 'Sochaczew, 96-500', 'Lat': '52.225059', 'Lng': '20.266971'}, {'Nazwa': 'Drogeria Hebe', 'Adres': 'Galeria Katowicka 3 Maja 30', 'Miasto': 'Katowice, 40-097', 'Lat': '50.259171', 'Lng': '19.015326'}, {'Nazwa': 'Drogeria Hebe', 'Adres': 'Bonarka Kamieńskiego 11', 'Miasto': 'Kraków, 30-644', 'Lat': '50.027896', 'Lng': '19.948397'}, {'Nazwa': 'Drogeria Hebe', 'Adres': 'Galeria Krasnystaw Zakręcie 2J', 'Miasto': 'Krasnystaw, 22-300', 'Lat': '50.995687', 'Lng': '23.142486'}, {'Nazwa': 'Drogeria Hebe', 'Adres': 'CH Plaza Rejtana 69', 'Miasto': 'Rzeszów, 35-959', 'Lat': '50.030351', 'Lng': '21.994065'}, {'Nazwa': 'Drogeria Hebe', 'Adres': 'Galeria Królewska Armii Krajowej 10', 'Miasto': 'Sandomierz, 27-600', 'Lat': '50.685712', 'Lng': '21.732111'}, {'Nazwa': 'Drogeria Hebe', 'Adres': 'Warszawska 1', 'Miasto': 'Piastów, 05-820', 'Lat': '52.191091', 'Lng': '20.854226'}, {'Nazwa': 'Drogeria Hebe', 'Adres': 'plac Grunwaldzki 22', 'Miasto': 'Wrocław Pasaż Grunwaldzki, 50-363', 'Lat': '51.112943', 'Lng': '17.056934'}, {'Nazwa': 'Drogeria Hebe', 'Adres': 'CH Auchan Rybnicka 207', 'Miasto': 'Gliwice, 44-122', 'Lat': '50.2775', 'Lng': '18.6624'}, {'Nazwa': 'Drogeria Hebe', 'Adres': 'CH Riviera Kazimierza Górskiego 2', 'Miasto': 'Gdynia, 81-304', 'Lat': '54.5012', 'Lng': '18.5324'}, {'Nazwa': 'Drogeria Hebe', 'Adres': 'Galeria Sandecja Węgierska 170', 'Miasto': 'Nowy Sącz, 33-300', 'Lat': '49.5989', 'Lng': '20.782'}, {'Nazwa': 'Drogeria Hebe', 'Adres': 'Strzegomska 13B Retail Park', 'Miasto': 'Świebodzice, 58-160', 'Lat': '50.861273', 'Lng': '16.320326'}, {'Nazwa': 'Drogeria Hebe', 'Adres': 'Aleja Niepodległości 2a', 'Miasto': 'Starogard Gdański, 83-200', 'Lat': '53.964619', 'Lng': '18.523764'}]\n"
          ],
          "name": "stdout"
        }
      ]
    },
    {
      "cell_type": "code",
      "metadata": {
        "id": "IQSu1IfCJbnU",
        "colab_type": "code",
        "outputId": "d4461822-1710-470d-e3e7-b7f428ece084",
        "colab": {
          "base_uri": "https://localhost:8080/",
          "height": 252
        }
      },
      "source": [
        "import pandas\n",
        "df=pandas.DataFrame(l)\n",
        "print(df)\n",
        "\n",
        "df.to_csv(\"Output.csv\")"
      ],
      "execution_count": 54,
      "outputs": [
        {
          "output_type": "stream",
          "text": [
            "             Nazwa                                Adres  ...        Lat        Lng\n",
            "0    Drogeria Hebe     Galeria Gondola Piłsudskiego 31C  ...  52.396525  20.932849\n",
            "1    Drogeria Hebe             Hop Stop Partyzantów 16B  ...  52.161751  22.262779\n",
            "2    Drogeria Hebe  Atrium Reduta Al. Jerozolimskie 148  ...  52.212482  20.951152\n",
            "3    Drogeria Hebe                        Grunwaldzka 6  ...  50.038172  22.002874\n",
            "4    Drogeria Hebe               Auchan Grunwaldzka 108  ...  54.582998  18.366249\n",
            "..             ...                                  ...  ...        ...        ...\n",
            "250  Drogeria Hebe               CH Auchan Rybnicka 207  ...    50.2775    18.6624\n",
            "251  Drogeria Hebe    CH Riviera Kazimierza Górskiego 2  ...    54.5012    18.5324\n",
            "252  Drogeria Hebe       Galeria Sandecja Węgierska 170  ...    49.5989     20.782\n",
            "253  Drogeria Hebe          Strzegomska 13B Retail Park  ...  50.861273  16.320326\n",
            "254  Drogeria Hebe              Aleja Niepodległości 2a  ...  53.964619  18.523764\n",
            "\n",
            "[255 rows x 5 columns]\n"
          ],
          "name": "stdout"
        }
      ]
    },
    {
      "cell_type": "code",
      "metadata": {
        "id": "XVneaJWJJbqK",
        "colab_type": "code",
        "outputId": "0a2058de-50dd-4fd9-a3dd-d8fa02ad3e0e",
        "colab": {
          "base_uri": "https://localhost:8080/",
          "height": 402
        }
      },
      "source": [
        "df"
      ],
      "execution_count": 55,
      "outputs": [
        {
          "output_type": "execute_result",
          "data": {
            "text/html": [
              "<div>\n",
              "<style scoped>\n",
              "    .dataframe tbody tr th:only-of-type {\n",
              "        vertical-align: middle;\n",
              "    }\n",
              "\n",
              "    .dataframe tbody tr th {\n",
              "        vertical-align: top;\n",
              "    }\n",
              "\n",
              "    .dataframe thead th {\n",
              "        text-align: right;\n",
              "    }\n",
              "</style>\n",
              "<table border=\"1\" class=\"dataframe\">\n",
              "  <thead>\n",
              "    <tr style=\"text-align: right;\">\n",
              "      <th></th>\n",
              "      <th>Nazwa</th>\n",
              "      <th>Adres</th>\n",
              "      <th>Miasto</th>\n",
              "      <th>Lat</th>\n",
              "      <th>Lng</th>\n",
              "    </tr>\n",
              "  </thead>\n",
              "  <tbody>\n",
              "    <tr>\n",
              "      <th>0</th>\n",
              "      <td>Drogeria Hebe</td>\n",
              "      <td>Galeria Gondola Piłsudskiego 31C</td>\n",
              "      <td>Legionowo, 05-120</td>\n",
              "      <td>52.396525</td>\n",
              "      <td>20.932849</td>\n",
              "    </tr>\n",
              "    <tr>\n",
              "      <th>1</th>\n",
              "      <td>Drogeria Hebe</td>\n",
              "      <td>Hop Stop Partyzantów 16B</td>\n",
              "      <td>Siedlce, 08-110</td>\n",
              "      <td>52.161751</td>\n",
              "      <td>22.262779</td>\n",
              "    </tr>\n",
              "    <tr>\n",
              "      <th>2</th>\n",
              "      <td>Drogeria Hebe</td>\n",
              "      <td>Atrium Reduta Al. Jerozolimskie 148</td>\n",
              "      <td>Warszawa, 02-326</td>\n",
              "      <td>52.212482</td>\n",
              "      <td>20.951152</td>\n",
              "    </tr>\n",
              "    <tr>\n",
              "      <th>3</th>\n",
              "      <td>Drogeria Hebe</td>\n",
              "      <td>Grunwaldzka 6</td>\n",
              "      <td>Rzeszów, 35-068</td>\n",
              "      <td>50.038172</td>\n",
              "      <td>22.002874</td>\n",
              "    </tr>\n",
              "    <tr>\n",
              "      <th>4</th>\n",
              "      <td>Drogeria Hebe</td>\n",
              "      <td>Auchan Grunwaldzka 108</td>\n",
              "      <td>Rumia, 84-230</td>\n",
              "      <td>54.582998</td>\n",
              "      <td>18.366249</td>\n",
              "    </tr>\n",
              "    <tr>\n",
              "      <th>...</th>\n",
              "      <td>...</td>\n",
              "      <td>...</td>\n",
              "      <td>...</td>\n",
              "      <td>...</td>\n",
              "      <td>...</td>\n",
              "    </tr>\n",
              "    <tr>\n",
              "      <th>250</th>\n",
              "      <td>Drogeria Hebe</td>\n",
              "      <td>CH Auchan Rybnicka 207</td>\n",
              "      <td>Gliwice, 44-122</td>\n",
              "      <td>50.2775</td>\n",
              "      <td>18.6624</td>\n",
              "    </tr>\n",
              "    <tr>\n",
              "      <th>251</th>\n",
              "      <td>Drogeria Hebe</td>\n",
              "      <td>CH Riviera Kazimierza Górskiego 2</td>\n",
              "      <td>Gdynia, 81-304</td>\n",
              "      <td>54.5012</td>\n",
              "      <td>18.5324</td>\n",
              "    </tr>\n",
              "    <tr>\n",
              "      <th>252</th>\n",
              "      <td>Drogeria Hebe</td>\n",
              "      <td>Galeria Sandecja Węgierska 170</td>\n",
              "      <td>Nowy Sącz, 33-300</td>\n",
              "      <td>49.5989</td>\n",
              "      <td>20.782</td>\n",
              "    </tr>\n",
              "    <tr>\n",
              "      <th>253</th>\n",
              "      <td>Drogeria Hebe</td>\n",
              "      <td>Strzegomska 13B Retail Park</td>\n",
              "      <td>Świebodzice, 58-160</td>\n",
              "      <td>50.861273</td>\n",
              "      <td>16.320326</td>\n",
              "    </tr>\n",
              "    <tr>\n",
              "      <th>254</th>\n",
              "      <td>Drogeria Hebe</td>\n",
              "      <td>Aleja Niepodległości 2a</td>\n",
              "      <td>Starogard Gdański, 83-200</td>\n",
              "      <td>53.964619</td>\n",
              "      <td>18.523764</td>\n",
              "    </tr>\n",
              "  </tbody>\n",
              "</table>\n",
              "<p>255 rows × 5 columns</p>\n",
              "</div>"
            ],
            "text/plain": [
              "             Nazwa                                Adres  ...        Lat        Lng\n",
              "0    Drogeria Hebe     Galeria Gondola Piłsudskiego 31C  ...  52.396525  20.932849\n",
              "1    Drogeria Hebe             Hop Stop Partyzantów 16B  ...  52.161751  22.262779\n",
              "2    Drogeria Hebe  Atrium Reduta Al. Jerozolimskie 148  ...  52.212482  20.951152\n",
              "3    Drogeria Hebe                        Grunwaldzka 6  ...  50.038172  22.002874\n",
              "4    Drogeria Hebe               Auchan Grunwaldzka 108  ...  54.582998  18.366249\n",
              "..             ...                                  ...  ...        ...        ...\n",
              "250  Drogeria Hebe               CH Auchan Rybnicka 207  ...    50.2775    18.6624\n",
              "251  Drogeria Hebe    CH Riviera Kazimierza Górskiego 2  ...    54.5012    18.5324\n",
              "252  Drogeria Hebe       Galeria Sandecja Węgierska 170  ...    49.5989     20.782\n",
              "253  Drogeria Hebe          Strzegomska 13B Retail Park  ...  50.861273  16.320326\n",
              "254  Drogeria Hebe              Aleja Niepodległości 2a  ...  53.964619  18.523764\n",
              "\n",
              "[255 rows x 5 columns]"
            ]
          },
          "metadata": {
            "tags": []
          },
          "execution_count": 55
        }
      ]
    },
    {
      "cell_type": "code",
      "metadata": {
        "id": "KLHwf8ClJbtK",
        "colab_type": "code",
        "colab": {}
      },
      "source": [
        ""
      ],
      "execution_count": 0,
      "outputs": []
    },
    {
      "cell_type": "code",
      "metadata": {
        "id": "ci5GzdiHJbwZ",
        "colab_type": "code",
        "colab": {}
      },
      "source": [
        ""
      ],
      "execution_count": 0,
      "outputs": []
    }
  ]
}